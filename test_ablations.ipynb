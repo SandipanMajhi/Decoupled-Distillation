{
 "cells": [
  {
   "cell_type": "code",
   "execution_count": 21,
   "metadata": {},
   "outputs": [],
   "source": [
    "import torch\n",
    "import torch.nn as nn\n",
    "import torchvision\n",
    "from models.resnet18 import ResNet18_cifar10\n",
    "from models.resnet8 import ResNet8\n",
    "from utils.trainer import Cifar10_ResNetTrainer, DKDTrainer"
   ]
  },
  {
   "cell_type": "code",
   "execution_count": 22,
   "metadata": {},
   "outputs": [
    {
     "data": {
      "text/plain": [
       "<All keys matched successfully>"
      ]
     },
     "execution_count": 22,
     "metadata": {},
     "output_type": "execute_result"
    }
   ],
   "source": [
    "resnet18 = ResNet18_cifar10()\n",
    "resnet8 = ResNet8()\n",
    "resnet18.load_state_dict(torch.load('Checkpoints/ResNet18_0.9122.pth'))\n",
    "resnet8.load_state_dict(torch.load('Checkpoints/ResNet8_0.8014.pth'))"
   ]
  },
  {
   "cell_type": "code",
   "execution_count": 23,
   "metadata": {},
   "outputs": [],
   "source": [
    "device = torch.device('cuda' if torch.cuda.is_available() else 'cpu')\n",
    "optimizer = torch.optim.Adam(resnet8.parameters(), lr=0.001)\n",
    "scheduler = torch.optim.lr_scheduler.ReduceLROnPlateau(optimizer, mode='min', factor=0.05, patience=2, threshold=0.0001, threshold_mode='rel', cooldown=0, min_lr=0, eps=1e-08, verbose=True)"
   ]
  },
  {
   "cell_type": "code",
   "execution_count": 24,
   "metadata": {},
   "outputs": [],
   "source": [
    "trainer = DKDTrainer(student=resnet8,\n",
    "                     teacher = resnet18,\n",
    "                     model_name=\"ResNet8_alpha_1_beta_8.0_ResNet18\",\n",
    "                     optimizer=optimizer,\n",
    "                     scheduler=scheduler,\n",
    "                     num_epochs=200,\n",
    "                     device=device,\n",
    "                     alpha=1.0,\n",
    "                     beta=8.0,\n",
    "                     mode = \"both\")"
   ]
  },
  {
   "cell_type": "code",
   "execution_count": 25,
   "metadata": {},
   "outputs": [
    {
     "name": "stderr",
     "output_type": "stream",
     "text": [
      "  0%|          | 0/352 [00:00<?, ?it/s]/home/sandipanmajhi/Desktop/Courses/MTP/Disjoint3/distil/lib64/python3.13/site-packages/torch/nn/_reduction.py:51: UserWarning: size_average and reduce args will be deprecated, please use reduction='sum' instead.\n",
      "  warnings.warn(warning.format(ret))\n",
      "100%|██████████| 352/352 [00:27<00:00, 12.68it/s]\n",
      "100%|██████████| 40/40 [00:02<00:00, 15.60it/s]\n"
     ]
    },
    {
     "name": "stdout",
     "output_type": "stream",
     "text": [
      "Epoch: 1/200, Train Loss: 5.9158, Train Accuracy: 0.7975, Val Loss: 0.9170, Val Accuracy: 0.7598\n"
     ]
    },
    {
     "name": "stderr",
     "output_type": "stream",
     "text": [
      "100%|██████████| 352/352 [00:27<00:00, 12.64it/s]\n",
      "100%|██████████| 40/40 [00:02<00:00, 15.54it/s]\n"
     ]
    },
    {
     "name": "stdout",
     "output_type": "stream",
     "text": [
      "Epoch: 2/200, Train Loss: 5.3850, Train Accuracy: 0.8036, Val Loss: 0.8109, Val Accuracy: 0.7710\n"
     ]
    },
    {
     "name": "stderr",
     "output_type": "stream",
     "text": [
      "100%|██████████| 352/352 [00:27<00:00, 12.58it/s]\n",
      "100%|██████████| 40/40 [00:02<00:00, 15.44it/s]\n"
     ]
    },
    {
     "name": "stdout",
     "output_type": "stream",
     "text": [
      "Epoch: 3/200, Train Loss: 5.1591, Train Accuracy: 0.8081, Val Loss: 0.6929, Val Accuracy: 0.8058\n"
     ]
    },
    {
     "name": "stderr",
     "output_type": "stream",
     "text": [
      "100%|██████████| 352/352 [00:27<00:00, 12.63it/s]\n",
      "100%|██████████| 40/40 [00:02<00:00, 15.43it/s]\n"
     ]
    },
    {
     "name": "stdout",
     "output_type": "stream",
     "text": [
      "Epoch: 4/200, Train Loss: 5.0456, Train Accuracy: 0.8084, Val Loss: 0.7472, Val Accuracy: 0.7932\n"
     ]
    },
    {
     "name": "stderr",
     "output_type": "stream",
     "text": [
      "100%|██████████| 352/352 [00:27<00:00, 12.61it/s]\n",
      "100%|██████████| 40/40 [00:02<00:00, 15.47it/s]\n"
     ]
    },
    {
     "name": "stdout",
     "output_type": "stream",
     "text": [
      "Epoch: 5/200, Train Loss: 4.8731, Train Accuracy: 0.8118, Val Loss: 0.7172, Val Accuracy: 0.8038\n"
     ]
    },
    {
     "name": "stderr",
     "output_type": "stream",
     "text": [
      "100%|██████████| 352/352 [00:27<00:00, 12.63it/s]\n",
      "100%|██████████| 40/40 [00:02<00:00, 15.49it/s]\n"
     ]
    },
    {
     "name": "stdout",
     "output_type": "stream",
     "text": [
      "Epoch: 6/200, Train Loss: 4.7507, Train Accuracy: 0.8148, Val Loss: 0.6705, Val Accuracy: 0.8142\n"
     ]
    },
    {
     "name": "stderr",
     "output_type": "stream",
     "text": [
      "100%|██████████| 352/352 [00:27<00:00, 12.63it/s]\n",
      "100%|██████████| 40/40 [00:02<00:00, 15.48it/s]\n"
     ]
    },
    {
     "name": "stdout",
     "output_type": "stream",
     "text": [
      "Epoch: 7/200, Train Loss: 4.6511, Train Accuracy: 0.8183, Val Loss: 0.7068, Val Accuracy: 0.8110\n"
     ]
    },
    {
     "name": "stderr",
     "output_type": "stream",
     "text": [
      "100%|██████████| 352/352 [00:27<00:00, 12.61it/s]\n",
      "100%|██████████| 40/40 [00:02<00:00, 15.42it/s]\n"
     ]
    },
    {
     "name": "stdout",
     "output_type": "stream",
     "text": [
      "Epoch: 8/200, Train Loss: 4.5663, Train Accuracy: 0.8207, Val Loss: 0.6695, Val Accuracy: 0.8106\n"
     ]
    },
    {
     "name": "stderr",
     "output_type": "stream",
     "text": [
      "100%|██████████| 352/352 [00:27<00:00, 12.62it/s]\n",
      "100%|██████████| 40/40 [00:02<00:00, 15.57it/s]\n"
     ]
    },
    {
     "name": "stdout",
     "output_type": "stream",
     "text": [
      "Epoch: 9/200, Train Loss: 4.4826, Train Accuracy: 0.8227, Val Loss: 0.7180, Val Accuracy: 0.8038\n"
     ]
    },
    {
     "name": "stderr",
     "output_type": "stream",
     "text": [
      "100%|██████████| 352/352 [00:27<00:00, 12.61it/s]\n",
      "100%|██████████| 40/40 [00:02<00:00, 15.50it/s]\n"
     ]
    },
    {
     "name": "stdout",
     "output_type": "stream",
     "text": [
      "Epoch: 10/200, Train Loss: 4.4372, Train Accuracy: 0.8240, Val Loss: 0.6779, Val Accuracy: 0.8066\n"
     ]
    },
    {
     "name": "stderr",
     "output_type": "stream",
     "text": [
      "100%|██████████| 352/352 [00:27<00:00, 12.64it/s]\n",
      "100%|██████████| 40/40 [00:02<00:00, 15.61it/s]\n"
     ]
    },
    {
     "name": "stdout",
     "output_type": "stream",
     "text": [
      "Epoch: 11/200, Train Loss: 4.3086, Train Accuracy: 0.8264, Val Loss: 0.7347, Val Accuracy: 0.8028\n"
     ]
    },
    {
     "name": "stderr",
     "output_type": "stream",
     "text": [
      "100%|██████████| 352/352 [00:27<00:00, 12.67it/s]\n",
      "100%|██████████| 40/40 [00:02<00:00, 15.51it/s]\n"
     ]
    },
    {
     "name": "stdout",
     "output_type": "stream",
     "text": [
      "Epoch: 12/200, Train Loss: 4.2685, Train Accuracy: 0.8278, Val Loss: 0.6285, Val Accuracy: 0.8214\n"
     ]
    },
    {
     "name": "stderr",
     "output_type": "stream",
     "text": [
      "100%|██████████| 352/352 [00:27<00:00, 12.62it/s]\n",
      "100%|██████████| 40/40 [00:02<00:00, 15.65it/s]\n"
     ]
    },
    {
     "name": "stdout",
     "output_type": "stream",
     "text": [
      "Epoch: 13/200, Train Loss: 4.1820, Train Accuracy: 0.8295, Val Loss: 0.6733, Val Accuracy: 0.8184\n"
     ]
    },
    {
     "name": "stderr",
     "output_type": "stream",
     "text": [
      "100%|██████████| 352/352 [00:27<00:00, 12.65it/s]\n",
      "100%|██████████| 40/40 [00:02<00:00, 15.66it/s]\n"
     ]
    },
    {
     "name": "stdout",
     "output_type": "stream",
     "text": [
      "Epoch: 14/200, Train Loss: 4.1371, Train Accuracy: 0.8348, Val Loss: 0.6415, Val Accuracy: 0.8198\n"
     ]
    },
    {
     "name": "stderr",
     "output_type": "stream",
     "text": [
      "100%|██████████| 352/352 [00:27<00:00, 12.66it/s]\n",
      "100%|██████████| 40/40 [00:02<00:00, 15.64it/s]\n"
     ]
    },
    {
     "name": "stdout",
     "output_type": "stream",
     "text": [
      "Epoch: 15/200, Train Loss: 4.0932, Train Accuracy: 0.8315, Val Loss: 0.6043, Val Accuracy: 0.8250\n"
     ]
    },
    {
     "name": "stderr",
     "output_type": "stream",
     "text": [
      "100%|██████████| 352/352 [00:27<00:00, 12.63it/s]\n",
      "100%|██████████| 40/40 [00:02<00:00, 15.48it/s]\n"
     ]
    },
    {
     "name": "stdout",
     "output_type": "stream",
     "text": [
      "Epoch: 16/200, Train Loss: 4.0748, Train Accuracy: 0.8323, Val Loss: 0.6089, Val Accuracy: 0.8312\n"
     ]
    },
    {
     "name": "stderr",
     "output_type": "stream",
     "text": [
      "100%|██████████| 352/352 [00:27<00:00, 12.65it/s]\n",
      "100%|██████████| 40/40 [00:02<00:00, 15.59it/s]\n"
     ]
    },
    {
     "name": "stdout",
     "output_type": "stream",
     "text": [
      "Epoch: 17/200, Train Loss: 4.0119, Train Accuracy: 0.8356, Val Loss: 0.6414, Val Accuracy: 0.8232\n"
     ]
    },
    {
     "name": "stderr",
     "output_type": "stream",
     "text": [
      "100%|██████████| 352/352 [00:27<00:00, 12.62it/s]\n",
      "100%|██████████| 40/40 [00:02<00:00, 15.54it/s]\n"
     ]
    },
    {
     "name": "stdout",
     "output_type": "stream",
     "text": [
      "Epoch: 18/200, Train Loss: 3.9578, Train Accuracy: 0.8372, Val Loss: 0.6802, Val Accuracy: 0.8110\n"
     ]
    },
    {
     "name": "stderr",
     "output_type": "stream",
     "text": [
      "100%|██████████| 352/352 [00:27<00:00, 12.62it/s]\n",
      "100%|██████████| 40/40 [00:02<00:00, 15.58it/s]\n"
     ]
    },
    {
     "name": "stdout",
     "output_type": "stream",
     "text": [
      "Epoch: 19/200, Train Loss: 3.9169, Train Accuracy: 0.8390, Val Loss: 0.6416, Val Accuracy: 0.8212\n"
     ]
    },
    {
     "name": "stderr",
     "output_type": "stream",
     "text": [
      "100%|██████████| 352/352 [00:27<00:00, 12.64it/s]\n",
      "100%|██████████| 40/40 [00:02<00:00, 15.49it/s]\n"
     ]
    },
    {
     "name": "stdout",
     "output_type": "stream",
     "text": [
      "Epoch: 20/200, Train Loss: 3.8818, Train Accuracy: 0.8374, Val Loss: 0.5630, Val Accuracy: 0.8374\n"
     ]
    },
    {
     "name": "stderr",
     "output_type": "stream",
     "text": [
      "100%|██████████| 352/352 [00:27<00:00, 12.60it/s]\n",
      "100%|██████████| 40/40 [00:02<00:00, 15.47it/s]\n"
     ]
    },
    {
     "name": "stdout",
     "output_type": "stream",
     "text": [
      "Epoch: 21/200, Train Loss: 3.8220, Train Accuracy: 0.8408, Val Loss: 0.6388, Val Accuracy: 0.8250\n"
     ]
    },
    {
     "name": "stderr",
     "output_type": "stream",
     "text": [
      "100%|██████████| 352/352 [00:27<00:00, 12.63it/s]\n",
      "100%|██████████| 40/40 [00:02<00:00, 15.50it/s]\n"
     ]
    },
    {
     "name": "stdout",
     "output_type": "stream",
     "text": [
      "Epoch: 22/200, Train Loss: 3.7915, Train Accuracy: 0.8413, Val Loss: 0.6493, Val Accuracy: 0.8168\n"
     ]
    },
    {
     "name": "stderr",
     "output_type": "stream",
     "text": [
      "100%|██████████| 352/352 [00:27<00:00, 12.62it/s]\n",
      "100%|██████████| 40/40 [00:02<00:00, 15.53it/s]\n"
     ]
    },
    {
     "name": "stdout",
     "output_type": "stream",
     "text": [
      "Epoch: 23/200, Train Loss: 3.7347, Train Accuracy: 0.8421, Val Loss: 0.6050, Val Accuracy: 0.8298\n"
     ]
    },
    {
     "name": "stderr",
     "output_type": "stream",
     "text": [
      "100%|██████████| 352/352 [00:27<00:00, 12.63it/s]\n",
      "100%|██████████| 40/40 [00:02<00:00, 15.50it/s]\n"
     ]
    },
    {
     "name": "stdout",
     "output_type": "stream",
     "text": [
      "Epoch: 24/200, Train Loss: 3.7307, Train Accuracy: 0.8439, Val Loss: 0.5834, Val Accuracy: 0.8330\n"
     ]
    },
    {
     "name": "stderr",
     "output_type": "stream",
     "text": [
      "100%|██████████| 352/352 [00:27<00:00, 12.64it/s]\n",
      "100%|██████████| 40/40 [00:02<00:00, 15.51it/s]\n"
     ]
    },
    {
     "name": "stdout",
     "output_type": "stream",
     "text": [
      "Epoch: 25/200, Train Loss: 3.7070, Train Accuracy: 0.8447, Val Loss: 0.5928, Val Accuracy: 0.8310\n"
     ]
    },
    {
     "name": "stderr",
     "output_type": "stream",
     "text": [
      "100%|██████████| 352/352 [00:27<00:00, 12.68it/s]\n",
      "100%|██████████| 40/40 [00:02<00:00, 15.62it/s]\n"
     ]
    },
    {
     "name": "stdout",
     "output_type": "stream",
     "text": [
      "Epoch: 26/200, Train Loss: 3.6795, Train Accuracy: 0.8439, Val Loss: 0.5569, Val Accuracy: 0.8422\n"
     ]
    },
    {
     "name": "stderr",
     "output_type": "stream",
     "text": [
      "100%|██████████| 352/352 [00:27<00:00, 12.64it/s]\n",
      "100%|██████████| 40/40 [00:02<00:00, 15.53it/s]\n"
     ]
    },
    {
     "name": "stdout",
     "output_type": "stream",
     "text": [
      "Epoch: 27/200, Train Loss: 3.6365, Train Accuracy: 0.8475, Val Loss: 0.5519, Val Accuracy: 0.8414\n"
     ]
    },
    {
     "name": "stderr",
     "output_type": "stream",
     "text": [
      "100%|██████████| 352/352 [00:27<00:00, 12.65it/s]\n",
      "100%|██████████| 40/40 [00:02<00:00, 15.65it/s]\n"
     ]
    },
    {
     "name": "stdout",
     "output_type": "stream",
     "text": [
      "Epoch: 28/200, Train Loss: 3.5946, Train Accuracy: 0.8490, Val Loss: 0.5844, Val Accuracy: 0.8380\n"
     ]
    },
    {
     "name": "stderr",
     "output_type": "stream",
     "text": [
      "100%|██████████| 352/352 [00:27<00:00, 12.67it/s]\n",
      "100%|██████████| 40/40 [00:02<00:00, 15.65it/s]\n"
     ]
    },
    {
     "name": "stdout",
     "output_type": "stream",
     "text": [
      "Epoch: 29/200, Train Loss: 3.5902, Train Accuracy: 0.8495, Val Loss: 0.5838, Val Accuracy: 0.8342\n"
     ]
    },
    {
     "name": "stderr",
     "output_type": "stream",
     "text": [
      "100%|██████████| 352/352 [00:27<00:00, 12.65it/s]\n",
      "100%|██████████| 40/40 [00:02<00:00, 15.63it/s]\n"
     ]
    },
    {
     "name": "stdout",
     "output_type": "stream",
     "text": [
      "Epoch: 30/200, Train Loss: 3.5281, Train Accuracy: 0.8495, Val Loss: 0.5653, Val Accuracy: 0.8412\n"
     ]
    },
    {
     "name": "stderr",
     "output_type": "stream",
     "text": [
      "100%|██████████| 352/352 [00:27<00:00, 12.66it/s]\n",
      "100%|██████████| 40/40 [00:02<00:00, 15.69it/s]\n"
     ]
    },
    {
     "name": "stdout",
     "output_type": "stream",
     "text": [
      "Epoch: 31/200, Train Loss: 3.5126, Train Accuracy: 0.8523, Val Loss: 0.5265, Val Accuracy: 0.8422\n"
     ]
    },
    {
     "name": "stderr",
     "output_type": "stream",
     "text": [
      "100%|██████████| 352/352 [00:27<00:00, 12.68it/s]\n",
      "100%|██████████| 40/40 [00:02<00:00, 15.57it/s]\n"
     ]
    },
    {
     "name": "stdout",
     "output_type": "stream",
     "text": [
      "Epoch: 32/200, Train Loss: 3.4721, Train Accuracy: 0.8521, Val Loss: 0.5466, Val Accuracy: 0.8442\n"
     ]
    },
    {
     "name": "stderr",
     "output_type": "stream",
     "text": [
      "100%|██████████| 352/352 [00:27<00:00, 12.66it/s]\n",
      "100%|██████████| 40/40 [00:02<00:00, 15.41it/s]\n"
     ]
    },
    {
     "name": "stdout",
     "output_type": "stream",
     "text": [
      "Epoch: 33/200, Train Loss: 3.4743, Train Accuracy: 0.8525, Val Loss: 0.5802, Val Accuracy: 0.8356\n"
     ]
    },
    {
     "name": "stderr",
     "output_type": "stream",
     "text": [
      "100%|██████████| 352/352 [00:27<00:00, 12.66it/s]\n",
      "100%|██████████| 40/40 [00:02<00:00, 15.50it/s]\n"
     ]
    },
    {
     "name": "stdout",
     "output_type": "stream",
     "text": [
      "Epoch: 34/200, Train Loss: 3.4434, Train Accuracy: 0.8524, Val Loss: 0.5603, Val Accuracy: 0.8418\n"
     ]
    },
    {
     "name": "stderr",
     "output_type": "stream",
     "text": [
      "100%|██████████| 352/352 [00:27<00:00, 12.65it/s]\n",
      "100%|██████████| 40/40 [00:02<00:00, 15.61it/s]\n"
     ]
    },
    {
     "name": "stdout",
     "output_type": "stream",
     "text": [
      "Epoch: 35/200, Train Loss: 3.4290, Train Accuracy: 0.8545, Val Loss: 0.5440, Val Accuracy: 0.8488\n"
     ]
    },
    {
     "name": "stderr",
     "output_type": "stream",
     "text": [
      "100%|██████████| 352/352 [00:27<00:00, 12.63it/s]\n",
      "100%|██████████| 40/40 [00:02<00:00, 15.49it/s]\n"
     ]
    },
    {
     "name": "stdout",
     "output_type": "stream",
     "text": [
      "Epoch: 36/200, Train Loss: 3.3914, Train Accuracy: 0.8549, Val Loss: 0.5272, Val Accuracy: 0.8466\n"
     ]
    },
    {
     "name": "stderr",
     "output_type": "stream",
     "text": [
      "100%|██████████| 352/352 [00:27<00:00, 12.65it/s]\n",
      "100%|██████████| 40/40 [00:02<00:00, 15.64it/s]\n"
     ]
    },
    {
     "name": "stdout",
     "output_type": "stream",
     "text": [
      "Epoch: 37/200, Train Loss: 3.3785, Train Accuracy: 0.8573, Val Loss: 0.5646, Val Accuracy: 0.8346\n"
     ]
    },
    {
     "name": "stderr",
     "output_type": "stream",
     "text": [
      "100%|██████████| 352/352 [00:27<00:00, 12.65it/s]\n",
      "100%|██████████| 40/40 [00:02<00:00, 15.67it/s]\n"
     ]
    },
    {
     "name": "stdout",
     "output_type": "stream",
     "text": [
      "Epoch: 38/200, Train Loss: 3.3461, Train Accuracy: 0.8569, Val Loss: 0.5276, Val Accuracy: 0.8500\n"
     ]
    },
    {
     "name": "stderr",
     "output_type": "stream",
     "text": [
      "100%|██████████| 352/352 [00:27<00:00, 12.63it/s]\n",
      "100%|██████████| 40/40 [00:02<00:00, 15.58it/s]\n"
     ]
    },
    {
     "name": "stdout",
     "output_type": "stream",
     "text": [
      "Epoch: 39/200, Train Loss: 3.3480, Train Accuracy: 0.8546, Val Loss: 0.5361, Val Accuracy: 0.8458\n"
     ]
    },
    {
     "name": "stderr",
     "output_type": "stream",
     "text": [
      "100%|██████████| 352/352 [00:27<00:00, 12.65it/s]\n",
      "100%|██████████| 40/40 [00:02<00:00, 15.47it/s]\n"
     ]
    },
    {
     "name": "stdout",
     "output_type": "stream",
     "text": [
      "Epoch: 40/200, Train Loss: 3.3119, Train Accuracy: 0.8585, Val Loss: 0.5131, Val Accuracy: 0.8508\n"
     ]
    },
    {
     "name": "stderr",
     "output_type": "stream",
     "text": [
      "100%|██████████| 352/352 [00:27<00:00, 12.67it/s]\n",
      "100%|██████████| 40/40 [00:02<00:00, 15.61it/s]\n"
     ]
    },
    {
     "name": "stdout",
     "output_type": "stream",
     "text": [
      "Epoch: 41/200, Train Loss: 3.2851, Train Accuracy: 0.8597, Val Loss: 0.5471, Val Accuracy: 0.8404\n"
     ]
    },
    {
     "name": "stderr",
     "output_type": "stream",
     "text": [
      "100%|██████████| 352/352 [00:27<00:00, 12.63it/s]\n",
      "100%|██████████| 40/40 [00:02<00:00, 15.62it/s]\n"
     ]
    },
    {
     "name": "stdout",
     "output_type": "stream",
     "text": [
      "Epoch: 42/200, Train Loss: 3.2874, Train Accuracy: 0.8597, Val Loss: 0.5184, Val Accuracy: 0.8484\n"
     ]
    },
    {
     "name": "stderr",
     "output_type": "stream",
     "text": [
      "100%|██████████| 352/352 [00:27<00:00, 12.67it/s]\n",
      "100%|██████████| 40/40 [00:02<00:00, 15.54it/s]\n"
     ]
    },
    {
     "name": "stdout",
     "output_type": "stream",
     "text": [
      "Epoch: 43/200, Train Loss: 3.2645, Train Accuracy: 0.8580, Val Loss: 0.5405, Val Accuracy: 0.8468\n"
     ]
    },
    {
     "name": "stderr",
     "output_type": "stream",
     "text": [
      "100%|██████████| 352/352 [00:27<00:00, 12.66it/s]\n",
      "100%|██████████| 40/40 [00:02<00:00, 15.63it/s]\n"
     ]
    },
    {
     "name": "stdout",
     "output_type": "stream",
     "text": [
      "Epoch: 44/200, Train Loss: 3.2356, Train Accuracy: 0.8596, Val Loss: 0.5206, Val Accuracy: 0.8476\n"
     ]
    },
    {
     "name": "stderr",
     "output_type": "stream",
     "text": [
      "100%|██████████| 352/352 [00:27<00:00, 12.64it/s]\n",
      "100%|██████████| 40/40 [00:02<00:00, 15.57it/s]\n"
     ]
    },
    {
     "name": "stdout",
     "output_type": "stream",
     "text": [
      "Epoch: 45/200, Train Loss: 3.2258, Train Accuracy: 0.8611, Val Loss: 0.5216, Val Accuracy: 0.8478\n"
     ]
    },
    {
     "name": "stderr",
     "output_type": "stream",
     "text": [
      "100%|██████████| 352/352 [00:27<00:00, 12.65it/s]\n",
      "100%|██████████| 40/40 [00:02<00:00, 15.59it/s]\n"
     ]
    },
    {
     "name": "stdout",
     "output_type": "stream",
     "text": [
      "Epoch: 46/200, Train Loss: 3.2085, Train Accuracy: 0.8624, Val Loss: 0.5346, Val Accuracy: 0.8484\n"
     ]
    },
    {
     "name": "stderr",
     "output_type": "stream",
     "text": [
      "100%|██████████| 352/352 [00:27<00:00, 12.64it/s]\n",
      "100%|██████████| 40/40 [00:02<00:00, 15.55it/s]\n"
     ]
    },
    {
     "name": "stdout",
     "output_type": "stream",
     "text": [
      "Epoch: 47/200, Train Loss: 3.2030, Train Accuracy: 0.8630, Val Loss: 0.5200, Val Accuracy: 0.8518\n"
     ]
    },
    {
     "name": "stderr",
     "output_type": "stream",
     "text": [
      "100%|██████████| 352/352 [00:27<00:00, 12.70it/s]\n",
      "100%|██████████| 40/40 [00:02<00:00, 15.45it/s]\n"
     ]
    },
    {
     "name": "stdout",
     "output_type": "stream",
     "text": [
      "Epoch: 48/200, Train Loss: 3.1666, Train Accuracy: 0.8643, Val Loss: 0.5131, Val Accuracy: 0.8538\n"
     ]
    },
    {
     "name": "stderr",
     "output_type": "stream",
     "text": [
      "100%|██████████| 352/352 [00:27<00:00, 12.68it/s]\n",
      "100%|██████████| 40/40 [00:02<00:00, 15.47it/s]\n"
     ]
    },
    {
     "name": "stdout",
     "output_type": "stream",
     "text": [
      "Epoch: 49/200, Train Loss: 3.1458, Train Accuracy: 0.8644, Val Loss: 0.4873, Val Accuracy: 0.8534\n"
     ]
    },
    {
     "name": "stderr",
     "output_type": "stream",
     "text": [
      "100%|██████████| 352/352 [00:27<00:00, 12.71it/s]\n",
      "100%|██████████| 40/40 [00:02<00:00, 15.64it/s]\n"
     ]
    },
    {
     "name": "stdout",
     "output_type": "stream",
     "text": [
      "Epoch: 50/200, Train Loss: 3.1409, Train Accuracy: 0.8642, Val Loss: 0.5438, Val Accuracy: 0.8480\n"
     ]
    },
    {
     "name": "stderr",
     "output_type": "stream",
     "text": [
      "100%|██████████| 352/352 [00:27<00:00, 12.66it/s]\n",
      "100%|██████████| 40/40 [00:02<00:00, 15.65it/s]\n"
     ]
    },
    {
     "name": "stdout",
     "output_type": "stream",
     "text": [
      "Epoch: 51/200, Train Loss: 3.1350, Train Accuracy: 0.8656, Val Loss: 0.5270, Val Accuracy: 0.8514\n"
     ]
    },
    {
     "name": "stderr",
     "output_type": "stream",
     "text": [
      "100%|██████████| 352/352 [00:27<00:00, 12.65it/s]\n",
      "100%|██████████| 40/40 [00:02<00:00, 15.61it/s]\n"
     ]
    },
    {
     "name": "stdout",
     "output_type": "stream",
     "text": [
      "Epoch: 52/200, Train Loss: 3.1211, Train Accuracy: 0.8662, Val Loss: 0.4991, Val Accuracy: 0.8594\n"
     ]
    },
    {
     "name": "stderr",
     "output_type": "stream",
     "text": [
      "100%|██████████| 352/352 [00:27<00:00, 12.71it/s]\n",
      "100%|██████████| 40/40 [00:02<00:00, 15.59it/s]\n"
     ]
    },
    {
     "name": "stdout",
     "output_type": "stream",
     "text": [
      "Epoch: 53/200, Train Loss: 3.1127, Train Accuracy: 0.8662, Val Loss: 0.5091, Val Accuracy: 0.8530\n"
     ]
    },
    {
     "name": "stderr",
     "output_type": "stream",
     "text": [
      "100%|██████████| 352/352 [00:27<00:00, 12.68it/s]\n",
      "100%|██████████| 40/40 [00:02<00:00, 15.67it/s]\n"
     ]
    },
    {
     "name": "stdout",
     "output_type": "stream",
     "text": [
      "Epoch: 54/200, Train Loss: 3.0648, Train Accuracy: 0.8672, Val Loss: 0.5145, Val Accuracy: 0.8558\n"
     ]
    },
    {
     "name": "stderr",
     "output_type": "stream",
     "text": [
      "100%|██████████| 352/352 [00:27<00:00, 12.67it/s]\n",
      "100%|██████████| 40/40 [00:02<00:00, 15.39it/s]\n"
     ]
    },
    {
     "name": "stdout",
     "output_type": "stream",
     "text": [
      "Epoch: 55/200, Train Loss: 3.0652, Train Accuracy: 0.8686, Val Loss: 0.5023, Val Accuracy: 0.8546\n"
     ]
    },
    {
     "name": "stderr",
     "output_type": "stream",
     "text": [
      "100%|██████████| 352/352 [00:27<00:00, 12.71it/s]\n",
      "100%|██████████| 40/40 [00:02<00:00, 15.66it/s]\n"
     ]
    },
    {
     "name": "stdout",
     "output_type": "stream",
     "text": [
      "Epoch: 56/200, Train Loss: 3.0656, Train Accuracy: 0.8662, Val Loss: 0.4997, Val Accuracy: 0.8556\n"
     ]
    },
    {
     "name": "stderr",
     "output_type": "stream",
     "text": [
      "100%|██████████| 352/352 [00:27<00:00, 12.65it/s]\n",
      "100%|██████████| 40/40 [00:02<00:00, 15.50it/s]\n"
     ]
    },
    {
     "name": "stdout",
     "output_type": "stream",
     "text": [
      "Epoch: 57/200, Train Loss: 3.0493, Train Accuracy: 0.8663, Val Loss: 0.5220, Val Accuracy: 0.8492\n"
     ]
    },
    {
     "name": "stderr",
     "output_type": "stream",
     "text": [
      "100%|██████████| 352/352 [00:27<00:00, 12.69it/s]\n",
      "100%|██████████| 40/40 [00:02<00:00, 15.56it/s]\n"
     ]
    },
    {
     "name": "stdout",
     "output_type": "stream",
     "text": [
      "Epoch: 58/200, Train Loss: 3.0424, Train Accuracy: 0.8672, Val Loss: 0.5041, Val Accuracy: 0.8582\n"
     ]
    },
    {
     "name": "stderr",
     "output_type": "stream",
     "text": [
      "100%|██████████| 352/352 [00:27<00:00, 12.66it/s]\n",
      "100%|██████████| 40/40 [00:02<00:00, 15.53it/s]\n"
     ]
    },
    {
     "name": "stdout",
     "output_type": "stream",
     "text": [
      "Epoch: 59/200, Train Loss: 3.0160, Train Accuracy: 0.8705, Val Loss: 0.4969, Val Accuracy: 0.8572\n"
     ]
    },
    {
     "name": "stderr",
     "output_type": "stream",
     "text": [
      "100%|██████████| 352/352 [00:27<00:00, 12.67it/s]\n",
      "100%|██████████| 40/40 [00:02<00:00, 15.63it/s]\n"
     ]
    },
    {
     "name": "stdout",
     "output_type": "stream",
     "text": [
      "Epoch: 60/200, Train Loss: 3.0161, Train Accuracy: 0.8711, Val Loss: 0.5158, Val Accuracy: 0.8584\n"
     ]
    },
    {
     "name": "stderr",
     "output_type": "stream",
     "text": [
      "100%|██████████| 352/352 [00:27<00:00, 12.68it/s]\n",
      "100%|██████████| 40/40 [00:02<00:00, 15.46it/s]\n"
     ]
    },
    {
     "name": "stdout",
     "output_type": "stream",
     "text": [
      "Epoch: 61/200, Train Loss: 2.9875, Train Accuracy: 0.8692, Val Loss: 0.4784, Val Accuracy: 0.8594\n"
     ]
    },
    {
     "name": "stderr",
     "output_type": "stream",
     "text": [
      "100%|██████████| 352/352 [00:27<00:00, 12.65it/s]\n",
      "100%|██████████| 40/40 [00:02<00:00, 15.49it/s]\n"
     ]
    },
    {
     "name": "stdout",
     "output_type": "stream",
     "text": [
      "Epoch: 62/200, Train Loss: 3.0071, Train Accuracy: 0.8708, Val Loss: 0.4870, Val Accuracy: 0.8610\n"
     ]
    },
    {
     "name": "stderr",
     "output_type": "stream",
     "text": [
      "100%|██████████| 352/352 [00:27<00:00, 12.67it/s]\n",
      "100%|██████████| 40/40 [00:02<00:00, 15.55it/s]\n"
     ]
    },
    {
     "name": "stdout",
     "output_type": "stream",
     "text": [
      "Epoch: 63/200, Train Loss: 2.9642, Train Accuracy: 0.8715, Val Loss: 0.4977, Val Accuracy: 0.8580\n"
     ]
    },
    {
     "name": "stderr",
     "output_type": "stream",
     "text": [
      "100%|██████████| 352/352 [00:27<00:00, 12.67it/s]\n",
      "100%|██████████| 40/40 [00:02<00:00, 15.52it/s]\n"
     ]
    },
    {
     "name": "stdout",
     "output_type": "stream",
     "text": [
      "Epoch: 64/200, Train Loss: 2.9520, Train Accuracy: 0.8710, Val Loss: 0.5152, Val Accuracy: 0.8540\n"
     ]
    },
    {
     "name": "stderr",
     "output_type": "stream",
     "text": [
      "100%|██████████| 352/352 [00:27<00:00, 12.69it/s]\n",
      "100%|██████████| 40/40 [00:02<00:00, 15.62it/s]\n"
     ]
    },
    {
     "name": "stdout",
     "output_type": "stream",
     "text": [
      "Epoch: 65/200, Train Loss: 2.9431, Train Accuracy: 0.8721, Val Loss: 0.5354, Val Accuracy: 0.8482\n"
     ]
    },
    {
     "name": "stderr",
     "output_type": "stream",
     "text": [
      "100%|██████████| 352/352 [00:27<00:00, 12.71it/s]\n",
      "100%|██████████| 40/40 [00:02<00:00, 15.65it/s]\n"
     ]
    },
    {
     "name": "stdout",
     "output_type": "stream",
     "text": [
      "Epoch: 66/200, Train Loss: 2.9445, Train Accuracy: 0.8712, Val Loss: 0.4848, Val Accuracy: 0.8606\n"
     ]
    },
    {
     "name": "stderr",
     "output_type": "stream",
     "text": [
      "100%|██████████| 352/352 [00:27<00:00, 12.67it/s]\n",
      "100%|██████████| 40/40 [00:02<00:00, 15.62it/s]\n"
     ]
    },
    {
     "name": "stdout",
     "output_type": "stream",
     "text": [
      "Epoch: 67/200, Train Loss: 2.9316, Train Accuracy: 0.8719, Val Loss: 0.5172, Val Accuracy: 0.8506\n"
     ]
    },
    {
     "name": "stderr",
     "output_type": "stream",
     "text": [
      "100%|██████████| 352/352 [00:27<00:00, 12.68it/s]\n",
      "100%|██████████| 40/40 [00:02<00:00, 15.79it/s]\n"
     ]
    },
    {
     "name": "stdout",
     "output_type": "stream",
     "text": [
      "Epoch: 68/200, Train Loss: 2.9309, Train Accuracy: 0.8732, Val Loss: 0.4798, Val Accuracy: 0.8634\n"
     ]
    },
    {
     "name": "stderr",
     "output_type": "stream",
     "text": [
      "100%|██████████| 352/352 [00:27<00:00, 12.68it/s]\n",
      "100%|██████████| 40/40 [00:02<00:00, 15.58it/s]\n"
     ]
    },
    {
     "name": "stdout",
     "output_type": "stream",
     "text": [
      "Epoch: 69/200, Train Loss: 2.9040, Train Accuracy: 0.8747, Val Loss: 0.4939, Val Accuracy: 0.8534\n"
     ]
    },
    {
     "name": "stderr",
     "output_type": "stream",
     "text": [
      "100%|██████████| 352/352 [00:27<00:00, 12.68it/s]\n",
      "100%|██████████| 40/40 [00:02<00:00, 15.62it/s]\n"
     ]
    },
    {
     "name": "stdout",
     "output_type": "stream",
     "text": [
      "Epoch: 70/200, Train Loss: 2.8990, Train Accuracy: 0.8724, Val Loss: 0.5035, Val Accuracy: 0.8488\n"
     ]
    },
    {
     "name": "stderr",
     "output_type": "stream",
     "text": [
      "100%|██████████| 352/352 [00:27<00:00, 12.71it/s]\n",
      "100%|██████████| 40/40 [00:02<00:00, 15.47it/s]\n"
     ]
    },
    {
     "name": "stdout",
     "output_type": "stream",
     "text": [
      "Epoch: 71/200, Train Loss: 2.8828, Train Accuracy: 0.8733, Val Loss: 0.4640, Val Accuracy: 0.8608\n"
     ]
    },
    {
     "name": "stderr",
     "output_type": "stream",
     "text": [
      "100%|██████████| 352/352 [00:27<00:00, 12.68it/s]\n",
      "100%|██████████| 40/40 [00:02<00:00, 15.65it/s]\n"
     ]
    },
    {
     "name": "stdout",
     "output_type": "stream",
     "text": [
      "Epoch: 72/200, Train Loss: 2.8849, Train Accuracy: 0.8746, Val Loss: 0.4692, Val Accuracy: 0.8660\n"
     ]
    },
    {
     "name": "stderr",
     "output_type": "stream",
     "text": [
      "100%|██████████| 352/352 [00:27<00:00, 12.70it/s]\n",
      "100%|██████████| 40/40 [00:02<00:00, 15.38it/s]\n"
     ]
    },
    {
     "name": "stdout",
     "output_type": "stream",
     "text": [
      "Epoch: 73/200, Train Loss: 2.8882, Train Accuracy: 0.8745, Val Loss: 0.4775, Val Accuracy: 0.8604\n"
     ]
    },
    {
     "name": "stderr",
     "output_type": "stream",
     "text": [
      "100%|██████████| 352/352 [00:27<00:00, 12.69it/s]\n",
      "100%|██████████| 40/40 [00:02<00:00, 15.65it/s]\n"
     ]
    },
    {
     "name": "stdout",
     "output_type": "stream",
     "text": [
      "Epoch: 74/200, Train Loss: 2.8612, Train Accuracy: 0.8752, Val Loss: 0.4476, Val Accuracy: 0.8658\n"
     ]
    },
    {
     "name": "stderr",
     "output_type": "stream",
     "text": [
      "100%|██████████| 352/352 [00:27<00:00, 12.70it/s]\n",
      "100%|██████████| 40/40 [00:02<00:00, 15.52it/s]\n"
     ]
    },
    {
     "name": "stdout",
     "output_type": "stream",
     "text": [
      "Epoch: 75/200, Train Loss: 2.8325, Train Accuracy: 0.8748, Val Loss: 0.5038, Val Accuracy: 0.8580\n"
     ]
    },
    {
     "name": "stderr",
     "output_type": "stream",
     "text": [
      "100%|██████████| 352/352 [00:27<00:00, 12.67it/s]\n",
      "100%|██████████| 40/40 [00:02<00:00, 15.52it/s]\n"
     ]
    },
    {
     "name": "stdout",
     "output_type": "stream",
     "text": [
      "Epoch: 76/200, Train Loss: 2.8452, Train Accuracy: 0.8753, Val Loss: 0.4863, Val Accuracy: 0.8596\n"
     ]
    },
    {
     "name": "stderr",
     "output_type": "stream",
     "text": [
      "100%|██████████| 352/352 [00:27<00:00, 12.70it/s]\n",
      "100%|██████████| 40/40 [00:02<00:00, 15.53it/s]\n"
     ]
    },
    {
     "name": "stdout",
     "output_type": "stream",
     "text": [
      "Epoch: 77/200, Train Loss: 2.8312, Train Accuracy: 0.8777, Val Loss: 0.4556, Val Accuracy: 0.8616\n"
     ]
    },
    {
     "name": "stderr",
     "output_type": "stream",
     "text": [
      "100%|██████████| 352/352 [00:27<00:00, 12.67it/s]\n",
      "100%|██████████| 40/40 [00:02<00:00, 15.58it/s]\n"
     ]
    },
    {
     "name": "stdout",
     "output_type": "stream",
     "text": [
      "Epoch: 78/200, Train Loss: 2.8211, Train Accuracy: 0.8762, Val Loss: 0.5203, Val Accuracy: 0.8516\n"
     ]
    },
    {
     "name": "stderr",
     "output_type": "stream",
     "text": [
      "100%|██████████| 352/352 [00:27<00:00, 12.65it/s]\n",
      "100%|██████████| 40/40 [00:02<00:00, 15.63it/s]\n"
     ]
    },
    {
     "name": "stdout",
     "output_type": "stream",
     "text": [
      "Epoch: 79/200, Train Loss: 2.8310, Train Accuracy: 0.8764, Val Loss: 0.4683, Val Accuracy: 0.8600\n"
     ]
    },
    {
     "name": "stderr",
     "output_type": "stream",
     "text": [
      "100%|██████████| 352/352 [00:27<00:00, 12.65it/s]\n",
      "100%|██████████| 40/40 [00:02<00:00, 15.75it/s]\n"
     ]
    },
    {
     "name": "stdout",
     "output_type": "stream",
     "text": [
      "Epoch: 80/200, Train Loss: 2.8182, Train Accuracy: 0.8763, Val Loss: 0.4655, Val Accuracy: 0.8652\n"
     ]
    },
    {
     "name": "stderr",
     "output_type": "stream",
     "text": [
      "100%|██████████| 352/352 [00:27<00:00, 12.67it/s]\n",
      "100%|██████████| 40/40 [00:02<00:00, 15.59it/s]\n"
     ]
    },
    {
     "name": "stdout",
     "output_type": "stream",
     "text": [
      "Epoch: 81/200, Train Loss: 2.8052, Train Accuracy: 0.8766, Val Loss: 0.4742, Val Accuracy: 0.8606\n"
     ]
    },
    {
     "name": "stderr",
     "output_type": "stream",
     "text": [
      "100%|██████████| 352/352 [00:27<00:00, 12.73it/s]\n",
      "100%|██████████| 40/40 [00:02<00:00, 15.65it/s]\n"
     ]
    },
    {
     "name": "stdout",
     "output_type": "stream",
     "text": [
      "Epoch: 82/200, Train Loss: 2.8007, Train Accuracy: 0.8779, Val Loss: 0.4830, Val Accuracy: 0.8596\n"
     ]
    },
    {
     "name": "stderr",
     "output_type": "stream",
     "text": [
      "100%|██████████| 352/352 [00:27<00:00, 12.69it/s]\n",
      "100%|██████████| 40/40 [00:02<00:00, 15.65it/s]\n"
     ]
    },
    {
     "name": "stdout",
     "output_type": "stream",
     "text": [
      "Epoch: 83/200, Train Loss: 2.8131, Train Accuracy: 0.8786, Val Loss: 0.4383, Val Accuracy: 0.8748\n"
     ]
    },
    {
     "name": "stderr",
     "output_type": "stream",
     "text": [
      "100%|██████████| 352/352 [00:27<00:00, 12.71it/s]\n",
      "100%|██████████| 40/40 [00:02<00:00, 15.53it/s]\n"
     ]
    },
    {
     "name": "stdout",
     "output_type": "stream",
     "text": [
      "Epoch: 84/200, Train Loss: 2.7783, Train Accuracy: 0.8795, Val Loss: 0.4777, Val Accuracy: 0.8588\n"
     ]
    },
    {
     "name": "stderr",
     "output_type": "stream",
     "text": [
      "100%|██████████| 352/352 [00:27<00:00, 12.68it/s]\n",
      "100%|██████████| 40/40 [00:02<00:00, 15.68it/s]\n"
     ]
    },
    {
     "name": "stdout",
     "output_type": "stream",
     "text": [
      "Epoch: 85/200, Train Loss: 2.7795, Train Accuracy: 0.8762, Val Loss: 0.4727, Val Accuracy: 0.8628\n"
     ]
    },
    {
     "name": "stderr",
     "output_type": "stream",
     "text": [
      "100%|██████████| 352/352 [00:27<00:00, 12.70it/s]\n",
      "100%|██████████| 40/40 [00:02<00:00, 15.61it/s]\n"
     ]
    },
    {
     "name": "stdout",
     "output_type": "stream",
     "text": [
      "Epoch: 86/200, Train Loss: 2.7849, Train Accuracy: 0.8794, Val Loss: 0.4520, Val Accuracy: 0.8652\n"
     ]
    },
    {
     "name": "stderr",
     "output_type": "stream",
     "text": [
      "100%|██████████| 352/352 [00:27<00:00, 12.71it/s]\n",
      "100%|██████████| 40/40 [00:02<00:00, 15.53it/s]\n"
     ]
    },
    {
     "name": "stdout",
     "output_type": "stream",
     "text": [
      "Epoch: 87/200, Train Loss: 2.7732, Train Accuracy: 0.8777, Val Loss: 0.4398, Val Accuracy: 0.8762\n"
     ]
    },
    {
     "name": "stderr",
     "output_type": "stream",
     "text": [
      "100%|██████████| 352/352 [00:27<00:00, 12.75it/s]\n",
      "100%|██████████| 40/40 [00:02<00:00, 15.47it/s]\n"
     ]
    },
    {
     "name": "stdout",
     "output_type": "stream",
     "text": [
      "Epoch: 88/200, Train Loss: 2.7448, Train Accuracy: 0.8783, Val Loss: 0.4493, Val Accuracy: 0.8664\n"
     ]
    },
    {
     "name": "stderr",
     "output_type": "stream",
     "text": [
      "100%|██████████| 352/352 [00:27<00:00, 12.66it/s]\n",
      "100%|██████████| 40/40 [00:02<00:00, 15.51it/s]\n"
     ]
    },
    {
     "name": "stdout",
     "output_type": "stream",
     "text": [
      "Epoch: 89/200, Train Loss: 2.7460, Train Accuracy: 0.8811, Val Loss: 0.4397, Val Accuracy: 0.8700\n"
     ]
    },
    {
     "name": "stderr",
     "output_type": "stream",
     "text": [
      "100%|██████████| 352/352 [00:27<00:00, 12.67it/s]\n",
      "100%|██████████| 40/40 [00:02<00:00, 15.65it/s]\n"
     ]
    },
    {
     "name": "stdout",
     "output_type": "stream",
     "text": [
      "Epoch: 90/200, Train Loss: 2.7349, Train Accuracy: 0.8798, Val Loss: 0.4519, Val Accuracy: 0.8684\n"
     ]
    },
    {
     "name": "stderr",
     "output_type": "stream",
     "text": [
      "100%|██████████| 352/352 [00:27<00:00, 12.71it/s]\n",
      "100%|██████████| 40/40 [00:02<00:00, 15.57it/s]\n"
     ]
    },
    {
     "name": "stdout",
     "output_type": "stream",
     "text": [
      "Epoch: 91/200, Train Loss: 2.7279, Train Accuracy: 0.8829, Val Loss: 0.4477, Val Accuracy: 0.8670\n"
     ]
    },
    {
     "name": "stderr",
     "output_type": "stream",
     "text": [
      "100%|██████████| 352/352 [00:27<00:00, 12.69it/s]\n",
      "100%|██████████| 40/40 [00:02<00:00, 15.60it/s]\n"
     ]
    },
    {
     "name": "stdout",
     "output_type": "stream",
     "text": [
      "Epoch: 92/200, Train Loss: 2.7182, Train Accuracy: 0.8799, Val Loss: 0.4808, Val Accuracy: 0.8624\n"
     ]
    },
    {
     "name": "stderr",
     "output_type": "stream",
     "text": [
      "100%|██████████| 352/352 [00:27<00:00, 12.73it/s]\n",
      "100%|██████████| 40/40 [00:02<00:00, 15.68it/s]\n"
     ]
    },
    {
     "name": "stdout",
     "output_type": "stream",
     "text": [
      "Epoch: 93/200, Train Loss: 2.7227, Train Accuracy: 0.8797, Val Loss: 0.4576, Val Accuracy: 0.8670\n"
     ]
    },
    {
     "name": "stderr",
     "output_type": "stream",
     "text": [
      "100%|██████████| 352/352 [00:27<00:00, 12.72it/s]\n",
      "100%|██████████| 40/40 [00:02<00:00, 15.62it/s]\n"
     ]
    },
    {
     "name": "stdout",
     "output_type": "stream",
     "text": [
      "Epoch: 94/200, Train Loss: 2.7162, Train Accuracy: 0.8806, Val Loss: 0.4548, Val Accuracy: 0.8704\n"
     ]
    },
    {
     "name": "stderr",
     "output_type": "stream",
     "text": [
      "100%|██████████| 352/352 [00:27<00:00, 12.70it/s]\n",
      "100%|██████████| 40/40 [00:02<00:00, 15.69it/s]\n"
     ]
    },
    {
     "name": "stdout",
     "output_type": "stream",
     "text": [
      "Epoch: 95/200, Train Loss: 2.6968, Train Accuracy: 0.8834, Val Loss: 0.4466, Val Accuracy: 0.8690\n"
     ]
    },
    {
     "name": "stderr",
     "output_type": "stream",
     "text": [
      "100%|██████████| 352/352 [00:27<00:00, 12.69it/s]\n",
      "100%|██████████| 40/40 [00:02<00:00, 15.55it/s]\n"
     ]
    },
    {
     "name": "stdout",
     "output_type": "stream",
     "text": [
      "Epoch: 96/200, Train Loss: 2.6944, Train Accuracy: 0.8830, Val Loss: 0.4703, Val Accuracy: 0.8612\n"
     ]
    },
    {
     "name": "stderr",
     "output_type": "stream",
     "text": [
      "100%|██████████| 352/352 [00:27<00:00, 12.66it/s]\n",
      "100%|██████████| 40/40 [00:02<00:00, 15.55it/s]\n"
     ]
    },
    {
     "name": "stdout",
     "output_type": "stream",
     "text": [
      "Epoch: 97/200, Train Loss: 2.7037, Train Accuracy: 0.8824, Val Loss: 0.4681, Val Accuracy: 0.8604\n"
     ]
    },
    {
     "name": "stderr",
     "output_type": "stream",
     "text": [
      "100%|██████████| 352/352 [00:27<00:00, 12.69it/s]\n",
      "100%|██████████| 40/40 [00:02<00:00, 15.70it/s]\n"
     ]
    },
    {
     "name": "stdout",
     "output_type": "stream",
     "text": [
      "Epoch: 98/200, Train Loss: 2.7109, Train Accuracy: 0.8832, Val Loss: 0.4620, Val Accuracy: 0.8650\n"
     ]
    },
    {
     "name": "stderr",
     "output_type": "stream",
     "text": [
      "100%|██████████| 352/352 [00:27<00:00, 12.71it/s]\n",
      "100%|██████████| 40/40 [00:02<00:00, 15.55it/s]\n"
     ]
    },
    {
     "name": "stdout",
     "output_type": "stream",
     "text": [
      "Epoch: 99/200, Train Loss: 2.6828, Train Accuracy: 0.8830, Val Loss: 0.4886, Val Accuracy: 0.8602\n"
     ]
    },
    {
     "name": "stderr",
     "output_type": "stream",
     "text": [
      "100%|██████████| 352/352 [00:27<00:00, 12.69it/s]\n",
      "100%|██████████| 40/40 [00:02<00:00, 15.65it/s]\n"
     ]
    },
    {
     "name": "stdout",
     "output_type": "stream",
     "text": [
      "Epoch: 100/200, Train Loss: 2.6838, Train Accuracy: 0.8834, Val Loss: 0.4595, Val Accuracy: 0.8686\n"
     ]
    },
    {
     "name": "stderr",
     "output_type": "stream",
     "text": [
      "100%|██████████| 352/352 [00:27<00:00, 12.71it/s]\n",
      "100%|██████████| 40/40 [00:02<00:00, 15.59it/s]\n"
     ]
    },
    {
     "name": "stdout",
     "output_type": "stream",
     "text": [
      "Epoch: 101/200, Train Loss: 2.6624, Train Accuracy: 0.8840, Val Loss: 0.4460, Val Accuracy: 0.8678\n"
     ]
    },
    {
     "name": "stderr",
     "output_type": "stream",
     "text": [
      "100%|██████████| 352/352 [00:27<00:00, 12.71it/s]\n",
      "100%|██████████| 40/40 [00:02<00:00, 15.56it/s]\n"
     ]
    },
    {
     "name": "stdout",
     "output_type": "stream",
     "text": [
      "Epoch: 102/200, Train Loss: 2.6728, Train Accuracy: 0.8840, Val Loss: 0.4758, Val Accuracy: 0.8620\n"
     ]
    },
    {
     "name": "stderr",
     "output_type": "stream",
     "text": [
      "100%|██████████| 352/352 [00:27<00:00, 12.69it/s]\n",
      "100%|██████████| 40/40 [00:02<00:00, 15.55it/s]\n"
     ]
    },
    {
     "name": "stdout",
     "output_type": "stream",
     "text": [
      "Epoch: 103/200, Train Loss: 2.6553, Train Accuracy: 0.8840, Val Loss: 0.5058, Val Accuracy: 0.8622\n"
     ]
    },
    {
     "name": "stderr",
     "output_type": "stream",
     "text": [
      "100%|██████████| 352/352 [00:27<00:00, 12.67it/s]\n",
      "100%|██████████| 40/40 [00:02<00:00, 15.62it/s]\n"
     ]
    },
    {
     "name": "stdout",
     "output_type": "stream",
     "text": [
      "Epoch: 104/200, Train Loss: 2.6592, Train Accuracy: 0.8829, Val Loss: 0.4367, Val Accuracy: 0.8662\n"
     ]
    },
    {
     "name": "stderr",
     "output_type": "stream",
     "text": [
      "100%|██████████| 352/352 [00:27<00:00, 12.68it/s]\n",
      "100%|██████████| 40/40 [00:02<00:00, 15.62it/s]\n"
     ]
    },
    {
     "name": "stdout",
     "output_type": "stream",
     "text": [
      "Epoch: 105/200, Train Loss: 2.6473, Train Accuracy: 0.8844, Val Loss: 0.4557, Val Accuracy: 0.8672\n"
     ]
    },
    {
     "name": "stderr",
     "output_type": "stream",
     "text": [
      "100%|██████████| 352/352 [00:27<00:00, 12.64it/s]\n",
      "100%|██████████| 40/40 [00:02<00:00, 15.55it/s]\n"
     ]
    },
    {
     "name": "stdout",
     "output_type": "stream",
     "text": [
      "Epoch: 106/200, Train Loss: 2.6520, Train Accuracy: 0.8833, Val Loss: 0.4691, Val Accuracy: 0.8628\n"
     ]
    },
    {
     "name": "stderr",
     "output_type": "stream",
     "text": [
      "100%|██████████| 352/352 [00:27<00:00, 12.74it/s]\n",
      "100%|██████████| 40/40 [00:02<00:00, 15.55it/s]\n"
     ]
    },
    {
     "name": "stdout",
     "output_type": "stream",
     "text": [
      "Epoch: 107/200, Train Loss: 2.6412, Train Accuracy: 0.8850, Val Loss: 0.4296, Val Accuracy: 0.8708\n"
     ]
    },
    {
     "name": "stderr",
     "output_type": "stream",
     "text": [
      "100%|██████████| 352/352 [00:27<00:00, 12.72it/s]\n",
      "100%|██████████| 40/40 [00:02<00:00, 15.44it/s]\n"
     ]
    },
    {
     "name": "stdout",
     "output_type": "stream",
     "text": [
      "Epoch: 108/200, Train Loss: 2.6225, Train Accuracy: 0.8856, Val Loss: 0.4253, Val Accuracy: 0.8670\n"
     ]
    },
    {
     "name": "stderr",
     "output_type": "stream",
     "text": [
      "100%|██████████| 352/352 [00:27<00:00, 12.70it/s]\n",
      "100%|██████████| 40/40 [00:02<00:00, 15.64it/s]\n"
     ]
    },
    {
     "name": "stdout",
     "output_type": "stream",
     "text": [
      "Epoch: 109/200, Train Loss: 2.6309, Train Accuracy: 0.8860, Val Loss: 0.4748, Val Accuracy: 0.8620\n"
     ]
    },
    {
     "name": "stderr",
     "output_type": "stream",
     "text": [
      "100%|██████████| 352/352 [00:27<00:00, 12.70it/s]\n",
      "100%|██████████| 40/40 [00:02<00:00, 15.67it/s]\n"
     ]
    },
    {
     "name": "stdout",
     "output_type": "stream",
     "text": [
      "Epoch: 110/200, Train Loss: 2.6339, Train Accuracy: 0.8868, Val Loss: 0.4626, Val Accuracy: 0.8654\n"
     ]
    },
    {
     "name": "stderr",
     "output_type": "stream",
     "text": [
      "100%|██████████| 352/352 [00:27<00:00, 12.73it/s]\n",
      "100%|██████████| 40/40 [00:02<00:00, 15.53it/s]\n"
     ]
    },
    {
     "name": "stdout",
     "output_type": "stream",
     "text": [
      "Epoch: 111/200, Train Loss: 2.6151, Train Accuracy: 0.8850, Val Loss: 0.4375, Val Accuracy: 0.8698\n"
     ]
    },
    {
     "name": "stderr",
     "output_type": "stream",
     "text": [
      "100%|██████████| 352/352 [00:27<00:00, 12.68it/s]\n",
      "100%|██████████| 40/40 [00:02<00:00, 15.49it/s]\n"
     ]
    },
    {
     "name": "stdout",
     "output_type": "stream",
     "text": [
      "Epoch: 112/200, Train Loss: 2.6186, Train Accuracy: 0.8866, Val Loss: 0.4772, Val Accuracy: 0.8604\n"
     ]
    },
    {
     "name": "stderr",
     "output_type": "stream",
     "text": [
      "100%|██████████| 352/352 [00:27<00:00, 12.68it/s]\n",
      "100%|██████████| 40/40 [00:02<00:00, 15.53it/s]\n"
     ]
    },
    {
     "name": "stdout",
     "output_type": "stream",
     "text": [
      "Epoch: 113/200, Train Loss: 2.6146, Train Accuracy: 0.8857, Val Loss: 0.4456, Val Accuracy: 0.8700\n"
     ]
    },
    {
     "name": "stderr",
     "output_type": "stream",
     "text": [
      "100%|██████████| 352/352 [00:27<00:00, 12.69it/s]\n",
      "100%|██████████| 40/40 [00:02<00:00, 15.59it/s]\n"
     ]
    },
    {
     "name": "stdout",
     "output_type": "stream",
     "text": [
      "Epoch: 114/200, Train Loss: 2.5831, Train Accuracy: 0.8882, Val Loss: 0.4308, Val Accuracy: 0.8734\n"
     ]
    },
    {
     "name": "stderr",
     "output_type": "stream",
     "text": [
      "100%|██████████| 352/352 [00:27<00:00, 12.69it/s]\n",
      "100%|██████████| 40/40 [00:02<00:00, 15.68it/s]\n"
     ]
    },
    {
     "name": "stdout",
     "output_type": "stream",
     "text": [
      "Epoch: 115/200, Train Loss: 2.6061, Train Accuracy: 0.8862, Val Loss: 0.4377, Val Accuracy: 0.8698\n"
     ]
    },
    {
     "name": "stderr",
     "output_type": "stream",
     "text": [
      "100%|██████████| 352/352 [00:27<00:00, 12.67it/s]\n",
      "100%|██████████| 40/40 [00:02<00:00, 15.59it/s]\n"
     ]
    },
    {
     "name": "stdout",
     "output_type": "stream",
     "text": [
      "Epoch: 116/200, Train Loss: 2.6026, Train Accuracy: 0.8873, Val Loss: 0.4449, Val Accuracy: 0.8710\n"
     ]
    },
    {
     "name": "stderr",
     "output_type": "stream",
     "text": [
      "100%|██████████| 352/352 [00:27<00:00, 12.69it/s]\n",
      "100%|██████████| 40/40 [00:02<00:00, 15.61it/s]\n"
     ]
    },
    {
     "name": "stdout",
     "output_type": "stream",
     "text": [
      "Epoch: 117/200, Train Loss: 2.6013, Train Accuracy: 0.8857, Val Loss: 0.4489, Val Accuracy: 0.8740\n"
     ]
    },
    {
     "name": "stderr",
     "output_type": "stream",
     "text": [
      "100%|██████████| 352/352 [00:27<00:00, 12.68it/s]\n",
      "100%|██████████| 40/40 [00:02<00:00, 15.55it/s]\n"
     ]
    },
    {
     "name": "stdout",
     "output_type": "stream",
     "text": [
      "Epoch: 118/200, Train Loss: 2.4539, Train Accuracy: 0.8934, Val Loss: 0.4030, Val Accuracy: 0.8790\n"
     ]
    },
    {
     "name": "stderr",
     "output_type": "stream",
     "text": [
      "100%|██████████| 352/352 [00:27<00:00, 12.67it/s]\n",
      "100%|██████████| 40/40 [00:02<00:00, 15.76it/s]\n"
     ]
    },
    {
     "name": "stdout",
     "output_type": "stream",
     "text": [
      "Epoch: 119/200, Train Loss: 2.3927, Train Accuracy: 0.8954, Val Loss: 0.3827, Val Accuracy: 0.8834\n"
     ]
    },
    {
     "name": "stderr",
     "output_type": "stream",
     "text": [
      "100%|██████████| 352/352 [00:27<00:00, 12.67it/s]\n",
      "100%|██████████| 40/40 [00:02<00:00, 15.47it/s]\n"
     ]
    },
    {
     "name": "stdout",
     "output_type": "stream",
     "text": [
      "Epoch: 120/200, Train Loss: 2.3963, Train Accuracy: 0.8947, Val Loss: 0.4186, Val Accuracy: 0.8792\n"
     ]
    },
    {
     "name": "stderr",
     "output_type": "stream",
     "text": [
      "100%|██████████| 352/352 [00:27<00:00, 12.65it/s]\n",
      "100%|██████████| 40/40 [00:02<00:00, 15.66it/s]\n"
     ]
    },
    {
     "name": "stdout",
     "output_type": "stream",
     "text": [
      "Epoch: 121/200, Train Loss: 2.3772, Train Accuracy: 0.8977, Val Loss: 0.4060, Val Accuracy: 0.8786\n"
     ]
    },
    {
     "name": "stderr",
     "output_type": "stream",
     "text": [
      "100%|██████████| 352/352 [00:27<00:00, 12.69it/s]\n",
      "100%|██████████| 40/40 [00:02<00:00, 15.48it/s]\n"
     ]
    },
    {
     "name": "stdout",
     "output_type": "stream",
     "text": [
      "Epoch: 122/200, Train Loss: 2.3656, Train Accuracy: 0.8965, Val Loss: 0.4022, Val Accuracy: 0.8814\n"
     ]
    },
    {
     "name": "stderr",
     "output_type": "stream",
     "text": [
      "100%|██████████| 352/352 [00:27<00:00, 12.68it/s]\n",
      "100%|██████████| 40/40 [00:02<00:00, 15.46it/s]\n"
     ]
    },
    {
     "name": "stdout",
     "output_type": "stream",
     "text": [
      "Epoch: 123/200, Train Loss: 2.3723, Train Accuracy: 0.8955, Val Loss: 0.3958, Val Accuracy: 0.8816\n"
     ]
    },
    {
     "name": "stderr",
     "output_type": "stream",
     "text": [
      "100%|██████████| 352/352 [00:27<00:00, 12.68it/s]\n",
      "100%|██████████| 40/40 [00:02<00:00, 15.58it/s]\n"
     ]
    },
    {
     "name": "stdout",
     "output_type": "stream",
     "text": [
      "Epoch: 124/200, Train Loss: 2.3753, Train Accuracy: 0.8958, Val Loss: 0.3925, Val Accuracy: 0.8804\n"
     ]
    },
    {
     "name": "stderr",
     "output_type": "stream",
     "text": [
      "100%|██████████| 352/352 [00:27<00:00, 12.69it/s]\n",
      "100%|██████████| 40/40 [00:02<00:00, 15.53it/s]\n"
     ]
    },
    {
     "name": "stdout",
     "output_type": "stream",
     "text": [
      "Epoch: 125/200, Train Loss: 2.3707, Train Accuracy: 0.8963, Val Loss: 0.4077, Val Accuracy: 0.8778\n"
     ]
    },
    {
     "name": "stderr",
     "output_type": "stream",
     "text": [
      "100%|██████████| 352/352 [00:27<00:00, 12.68it/s]\n",
      "100%|██████████| 40/40 [00:02<00:00, 15.55it/s]\n"
     ]
    },
    {
     "name": "stdout",
     "output_type": "stream",
     "text": [
      "Epoch: 126/200, Train Loss: 2.3497, Train Accuracy: 0.8971, Val Loss: 0.4073, Val Accuracy: 0.8788\n"
     ]
    },
    {
     "name": "stderr",
     "output_type": "stream",
     "text": [
      "100%|██████████| 352/352 [00:27<00:00, 12.66it/s]\n",
      "100%|██████████| 40/40 [00:02<00:00, 15.56it/s]\n"
     ]
    },
    {
     "name": "stdout",
     "output_type": "stream",
     "text": [
      "Epoch: 127/200, Train Loss: 2.3571, Train Accuracy: 0.8951, Val Loss: 0.4043, Val Accuracy: 0.8802\n"
     ]
    },
    {
     "name": "stderr",
     "output_type": "stream",
     "text": [
      "100%|██████████| 352/352 [00:27<00:00, 12.67it/s]\n",
      "100%|██████████| 40/40 [00:02<00:00, 15.53it/s]\n"
     ]
    },
    {
     "name": "stdout",
     "output_type": "stream",
     "text": [
      "Epoch: 128/200, Train Loss: 2.3510, Train Accuracy: 0.8967, Val Loss: 0.4086, Val Accuracy: 0.8776\n"
     ]
    },
    {
     "name": "stderr",
     "output_type": "stream",
     "text": [
      "100%|██████████| 352/352 [00:27<00:00, 12.70it/s]\n",
      "100%|██████████| 40/40 [00:02<00:00, 15.48it/s]\n"
     ]
    },
    {
     "name": "stdout",
     "output_type": "stream",
     "text": [
      "Epoch: 129/200, Train Loss: 2.3561, Train Accuracy: 0.8969, Val Loss: 0.3891, Val Accuracy: 0.8838\n"
     ]
    },
    {
     "name": "stderr",
     "output_type": "stream",
     "text": [
      "100%|██████████| 352/352 [00:27<00:00, 12.69it/s]\n",
      "100%|██████████| 40/40 [00:02<00:00, 15.59it/s]\n"
     ]
    },
    {
     "name": "stdout",
     "output_type": "stream",
     "text": [
      "Epoch: 130/200, Train Loss: 2.3539, Train Accuracy: 0.8966, Val Loss: 0.3854, Val Accuracy: 0.8834\n"
     ]
    },
    {
     "name": "stderr",
     "output_type": "stream",
     "text": [
      "100%|██████████| 352/352 [00:27<00:00, 12.69it/s]\n",
      "100%|██████████| 40/40 [00:02<00:00, 15.46it/s]\n"
     ]
    },
    {
     "name": "stdout",
     "output_type": "stream",
     "text": [
      "Epoch: 131/200, Train Loss: 2.3507, Train Accuracy: 0.8964, Val Loss: 0.4001, Val Accuracy: 0.8780\n"
     ]
    },
    {
     "name": "stderr",
     "output_type": "stream",
     "text": [
      "100%|██████████| 352/352 [00:27<00:00, 12.67it/s]\n",
      "100%|██████████| 40/40 [00:02<00:00, 15.57it/s]\n"
     ]
    },
    {
     "name": "stdout",
     "output_type": "stream",
     "text": [
      "Epoch: 132/200, Train Loss: 2.3563, Train Accuracy: 0.8967, Val Loss: 0.3975, Val Accuracy: 0.8806\n"
     ]
    },
    {
     "name": "stderr",
     "output_type": "stream",
     "text": [
      "100%|██████████| 352/352 [00:27<00:00, 12.68it/s]\n",
      "100%|██████████| 40/40 [00:02<00:00, 15.63it/s]\n"
     ]
    },
    {
     "name": "stdout",
     "output_type": "stream",
     "text": [
      "Epoch: 133/200, Train Loss: 2.3424, Train Accuracy: 0.8970, Val Loss: 0.4069, Val Accuracy: 0.8754\n"
     ]
    },
    {
     "name": "stderr",
     "output_type": "stream",
     "text": [
      "100%|██████████| 352/352 [00:27<00:00, 12.67it/s]\n",
      "100%|██████████| 40/40 [00:02<00:00, 15.54it/s]\n"
     ]
    },
    {
     "name": "stdout",
     "output_type": "stream",
     "text": [
      "Epoch: 134/200, Train Loss: 2.3449, Train Accuracy: 0.8982, Val Loss: 0.3942, Val Accuracy: 0.8828\n"
     ]
    },
    {
     "name": "stderr",
     "output_type": "stream",
     "text": [
      "100%|██████████| 352/352 [00:27<00:00, 12.71it/s]\n",
      "100%|██████████| 40/40 [00:02<00:00, 15.45it/s]\n"
     ]
    },
    {
     "name": "stdout",
     "output_type": "stream",
     "text": [
      "Epoch: 135/200, Train Loss: 2.3559, Train Accuracy: 0.8978, Val Loss: 0.4024, Val Accuracy: 0.8816\n"
     ]
    },
    {
     "name": "stderr",
     "output_type": "stream",
     "text": [
      "100%|██████████| 352/352 [00:27<00:00, 12.68it/s]\n",
      "100%|██████████| 40/40 [00:02<00:00, 15.55it/s]\n"
     ]
    },
    {
     "name": "stdout",
     "output_type": "stream",
     "text": [
      "Epoch: 136/200, Train Loss: 2.3308, Train Accuracy: 0.8978, Val Loss: 0.3916, Val Accuracy: 0.8814\n"
     ]
    },
    {
     "name": "stderr",
     "output_type": "stream",
     "text": [
      "100%|██████████| 352/352 [00:27<00:00, 12.70it/s]\n",
      "100%|██████████| 40/40 [00:02<00:00, 15.60it/s]\n"
     ]
    },
    {
     "name": "stdout",
     "output_type": "stream",
     "text": [
      "Epoch: 137/200, Train Loss: 2.3500, Train Accuracy: 0.8975, Val Loss: 0.3987, Val Accuracy: 0.8788\n"
     ]
    },
    {
     "name": "stderr",
     "output_type": "stream",
     "text": [
      "100%|██████████| 352/352 [00:27<00:00, 12.68it/s]\n",
      "100%|██████████| 40/40 [00:02<00:00, 15.74it/s]\n"
     ]
    },
    {
     "name": "stdout",
     "output_type": "stream",
     "text": [
      "Epoch: 138/200, Train Loss: 2.3420, Train Accuracy: 0.8970, Val Loss: 0.4016, Val Accuracy: 0.8778\n"
     ]
    },
    {
     "name": "stderr",
     "output_type": "stream",
     "text": [
      "100%|██████████| 352/352 [00:27<00:00, 12.67it/s]\n",
      "100%|██████████| 40/40 [00:02<00:00, 15.54it/s]\n"
     ]
    },
    {
     "name": "stdout",
     "output_type": "stream",
     "text": [
      "Epoch: 139/200, Train Loss: 2.3361, Train Accuracy: 0.8958, Val Loss: 0.3893, Val Accuracy: 0.8796\n"
     ]
    },
    {
     "name": "stderr",
     "output_type": "stream",
     "text": [
      "100%|██████████| 352/352 [00:27<00:00, 12.67it/s]\n",
      "100%|██████████| 40/40 [00:02<00:00, 15.67it/s]\n"
     ]
    },
    {
     "name": "stdout",
     "output_type": "stream",
     "text": [
      "Epoch: 140/200, Train Loss: 2.3496, Train Accuracy: 0.8974, Val Loss: 0.3864, Val Accuracy: 0.8812\n"
     ]
    },
    {
     "name": "stderr",
     "output_type": "stream",
     "text": [
      "100%|██████████| 352/352 [00:27<00:00, 12.68it/s]\n",
      "100%|██████████| 40/40 [00:02<00:00, 15.54it/s]\n"
     ]
    },
    {
     "name": "stdout",
     "output_type": "stream",
     "text": [
      "Epoch: 141/200, Train Loss: 2.3531, Train Accuracy: 0.8966, Val Loss: 0.4050, Val Accuracy: 0.8798\n"
     ]
    },
    {
     "name": "stderr",
     "output_type": "stream",
     "text": [
      "100%|██████████| 352/352 [00:27<00:00, 12.67it/s]\n",
      "100%|██████████| 40/40 [00:02<00:00, 15.43it/s]\n"
     ]
    },
    {
     "name": "stdout",
     "output_type": "stream",
     "text": [
      "Epoch: 142/200, Train Loss: 2.3516, Train Accuracy: 0.8969, Val Loss: 0.3933, Val Accuracy: 0.8788\n"
     ]
    },
    {
     "name": "stderr",
     "output_type": "stream",
     "text": [
      "100%|██████████| 352/352 [00:27<00:00, 12.68it/s]\n",
      "100%|██████████| 40/40 [00:02<00:00, 15.51it/s]\n"
     ]
    },
    {
     "name": "stdout",
     "output_type": "stream",
     "text": [
      "Epoch: 143/200, Train Loss: 2.3527, Train Accuracy: 0.8950, Val Loss: 0.3979, Val Accuracy: 0.8830\n"
     ]
    },
    {
     "name": "stderr",
     "output_type": "stream",
     "text": [
      "100%|██████████| 352/352 [00:27<00:00, 12.65it/s]\n",
      "100%|██████████| 40/40 [00:02<00:00, 15.53it/s]\n"
     ]
    },
    {
     "name": "stdout",
     "output_type": "stream",
     "text": [
      "Epoch: 144/200, Train Loss: 2.3588, Train Accuracy: 0.8964, Val Loss: 0.3968, Val Accuracy: 0.8806\n"
     ]
    },
    {
     "name": "stderr",
     "output_type": "stream",
     "text": [
      "100%|██████████| 352/352 [00:27<00:00, 12.71it/s]\n",
      "100%|██████████| 40/40 [00:02<00:00, 15.58it/s]\n"
     ]
    },
    {
     "name": "stdout",
     "output_type": "stream",
     "text": [
      "Epoch: 145/200, Train Loss: 2.3651, Train Accuracy: 0.8974, Val Loss: 0.4077, Val Accuracy: 0.8762\n"
     ]
    },
    {
     "name": "stderr",
     "output_type": "stream",
     "text": [
      "100%|██████████| 352/352 [00:27<00:00, 12.67it/s]\n",
      "100%|██████████| 40/40 [00:02<00:00, 15.56it/s]\n"
     ]
    },
    {
     "name": "stdout",
     "output_type": "stream",
     "text": [
      "Epoch: 146/200, Train Loss: 2.3453, Train Accuracy: 0.8962, Val Loss: 0.4050, Val Accuracy: 0.8802\n"
     ]
    },
    {
     "name": "stderr",
     "output_type": "stream",
     "text": [
      "100%|██████████| 352/352 [00:27<00:00, 12.70it/s]\n",
      "100%|██████████| 40/40 [00:02<00:00, 15.56it/s]\n"
     ]
    },
    {
     "name": "stdout",
     "output_type": "stream",
     "text": [
      "Epoch: 147/200, Train Loss: 2.3435, Train Accuracy: 0.8973, Val Loss: 0.3943, Val Accuracy: 0.8808\n"
     ]
    },
    {
     "name": "stderr",
     "output_type": "stream",
     "text": [
      "100%|██████████| 352/352 [00:27<00:00, 12.68it/s]\n",
      "100%|██████████| 40/40 [00:02<00:00, 15.57it/s]\n"
     ]
    },
    {
     "name": "stdout",
     "output_type": "stream",
     "text": [
      "Epoch: 148/200, Train Loss: 2.3496, Train Accuracy: 0.8986, Val Loss: 0.3954, Val Accuracy: 0.8790\n"
     ]
    },
    {
     "name": "stderr",
     "output_type": "stream",
     "text": [
      "100%|██████████| 352/352 [00:27<00:00, 12.68it/s]\n",
      "100%|██████████| 40/40 [00:02<00:00, 15.61it/s]\n"
     ]
    },
    {
     "name": "stdout",
     "output_type": "stream",
     "text": [
      "Epoch: 149/200, Train Loss: 2.3409, Train Accuracy: 0.8989, Val Loss: 0.3974, Val Accuracy: 0.8802\n"
     ]
    },
    {
     "name": "stderr",
     "output_type": "stream",
     "text": [
      "100%|██████████| 352/352 [00:27<00:00, 12.67it/s]\n",
      "100%|██████████| 40/40 [00:02<00:00, 15.52it/s]\n"
     ]
    },
    {
     "name": "stdout",
     "output_type": "stream",
     "text": [
      "Epoch: 150/200, Train Loss: 2.3497, Train Accuracy: 0.8961, Val Loss: 0.4003, Val Accuracy: 0.8782\n"
     ]
    },
    {
     "name": "stderr",
     "output_type": "stream",
     "text": [
      "100%|██████████| 352/352 [00:27<00:00, 12.70it/s]\n",
      "100%|██████████| 40/40 [00:02<00:00, 15.51it/s]\n"
     ]
    },
    {
     "name": "stdout",
     "output_type": "stream",
     "text": [
      "Epoch: 151/200, Train Loss: 2.3526, Train Accuracy: 0.8967, Val Loss: 0.4011, Val Accuracy: 0.8806\n"
     ]
    },
    {
     "name": "stderr",
     "output_type": "stream",
     "text": [
      "100%|██████████| 352/352 [00:27<00:00, 12.68it/s]\n",
      "100%|██████████| 40/40 [00:02<00:00, 15.57it/s]\n"
     ]
    },
    {
     "name": "stdout",
     "output_type": "stream",
     "text": [
      "Epoch: 152/200, Train Loss: 2.3563, Train Accuracy: 0.8963, Val Loss: 0.4018, Val Accuracy: 0.8818\n"
     ]
    },
    {
     "name": "stderr",
     "output_type": "stream",
     "text": [
      "100%|██████████| 352/352 [00:27<00:00, 12.65it/s]\n",
      "100%|██████████| 40/40 [00:02<00:00, 15.61it/s]\n"
     ]
    },
    {
     "name": "stdout",
     "output_type": "stream",
     "text": [
      "Epoch: 153/200, Train Loss: 2.3529, Train Accuracy: 0.8959, Val Loss: 0.4025, Val Accuracy: 0.8812\n"
     ]
    },
    {
     "name": "stderr",
     "output_type": "stream",
     "text": [
      "100%|██████████| 352/352 [00:27<00:00, 12.71it/s]\n",
      "100%|██████████| 40/40 [00:02<00:00, 15.52it/s]\n"
     ]
    },
    {
     "name": "stdout",
     "output_type": "stream",
     "text": [
      "Epoch: 154/200, Train Loss: 2.3466, Train Accuracy: 0.8985, Val Loss: 0.4217, Val Accuracy: 0.8742\n"
     ]
    },
    {
     "name": "stderr",
     "output_type": "stream",
     "text": [
      "100%|██████████| 352/352 [00:27<00:00, 12.69it/s]\n",
      "100%|██████████| 40/40 [00:02<00:00, 15.55it/s]\n"
     ]
    },
    {
     "name": "stdout",
     "output_type": "stream",
     "text": [
      "Epoch: 155/200, Train Loss: 2.3547, Train Accuracy: 0.8970, Val Loss: 0.4029, Val Accuracy: 0.8774\n"
     ]
    },
    {
     "name": "stderr",
     "output_type": "stream",
     "text": [
      "100%|██████████| 352/352 [00:27<00:00, 12.70it/s]\n",
      "100%|██████████| 40/40 [00:02<00:00, 15.54it/s]\n"
     ]
    },
    {
     "name": "stdout",
     "output_type": "stream",
     "text": [
      "Epoch: 156/200, Train Loss: 2.3630, Train Accuracy: 0.8959, Val Loss: 0.4070, Val Accuracy: 0.8776\n"
     ]
    },
    {
     "name": "stderr",
     "output_type": "stream",
     "text": [
      "100%|██████████| 352/352 [00:27<00:00, 12.67it/s]\n",
      "100%|██████████| 40/40 [00:02<00:00, 15.37it/s]\n"
     ]
    },
    {
     "name": "stdout",
     "output_type": "stream",
     "text": [
      "Epoch: 157/200, Train Loss: 2.3460, Train Accuracy: 0.8991, Val Loss: 0.3926, Val Accuracy: 0.8802\n"
     ]
    },
    {
     "name": "stderr",
     "output_type": "stream",
     "text": [
      "100%|██████████| 352/352 [00:27<00:00, 12.71it/s]\n",
      "100%|██████████| 40/40 [00:02<00:00, 15.49it/s]\n"
     ]
    },
    {
     "name": "stdout",
     "output_type": "stream",
     "text": [
      "Epoch: 158/200, Train Loss: 2.3588, Train Accuracy: 0.8970, Val Loss: 0.4041, Val Accuracy: 0.8748\n"
     ]
    },
    {
     "name": "stderr",
     "output_type": "stream",
     "text": [
      "100%|██████████| 352/352 [00:27<00:00, 12.66it/s]\n",
      "100%|██████████| 40/40 [00:02<00:00, 15.52it/s]\n"
     ]
    },
    {
     "name": "stdout",
     "output_type": "stream",
     "text": [
      "Epoch: 159/200, Train Loss: 2.3519, Train Accuracy: 0.8964, Val Loss: 0.3825, Val Accuracy: 0.8842\n"
     ]
    },
    {
     "name": "stderr",
     "output_type": "stream",
     "text": [
      "100%|██████████| 352/352 [00:27<00:00, 12.62it/s]\n",
      "100%|██████████| 40/40 [00:02<00:00, 15.51it/s]\n"
     ]
    },
    {
     "name": "stdout",
     "output_type": "stream",
     "text": [
      "Epoch: 160/200, Train Loss: 2.3594, Train Accuracy: 0.8958, Val Loss: 0.3995, Val Accuracy: 0.8816\n"
     ]
    },
    {
     "name": "stderr",
     "output_type": "stream",
     "text": [
      "100%|██████████| 352/352 [00:27<00:00, 12.62it/s]\n",
      "100%|██████████| 40/40 [00:02<00:00, 15.35it/s]\n"
     ]
    },
    {
     "name": "stdout",
     "output_type": "stream",
     "text": [
      "Epoch: 161/200, Train Loss: 2.3486, Train Accuracy: 0.8967, Val Loss: 0.3924, Val Accuracy: 0.8812\n"
     ]
    },
    {
     "name": "stderr",
     "output_type": "stream",
     "text": [
      "100%|██████████| 352/352 [00:27<00:00, 12.61it/s]\n",
      "100%|██████████| 40/40 [00:02<00:00, 15.38it/s]\n"
     ]
    },
    {
     "name": "stdout",
     "output_type": "stream",
     "text": [
      "Epoch: 162/200, Train Loss: 2.3377, Train Accuracy: 0.8975, Val Loss: 0.3931, Val Accuracy: 0.8822\n"
     ]
    },
    {
     "name": "stderr",
     "output_type": "stream",
     "text": [
      "100%|██████████| 352/352 [00:27<00:00, 12.63it/s]\n",
      "100%|██████████| 40/40 [00:02<00:00, 15.48it/s]\n"
     ]
    },
    {
     "name": "stdout",
     "output_type": "stream",
     "text": [
      "Epoch: 163/200, Train Loss: 2.3511, Train Accuracy: 0.8961, Val Loss: 0.4091, Val Accuracy: 0.8764\n"
     ]
    },
    {
     "name": "stderr",
     "output_type": "stream",
     "text": [
      "100%|██████████| 352/352 [00:27<00:00, 12.59it/s]\n",
      "100%|██████████| 40/40 [00:02<00:00, 15.39it/s]\n"
     ]
    },
    {
     "name": "stdout",
     "output_type": "stream",
     "text": [
      "Epoch: 164/200, Train Loss: 2.3532, Train Accuracy: 0.8955, Val Loss: 0.3952, Val Accuracy: 0.8840\n"
     ]
    },
    {
     "name": "stderr",
     "output_type": "stream",
     "text": [
      "100%|██████████| 352/352 [00:27<00:00, 12.63it/s]\n",
      "100%|██████████| 40/40 [00:02<00:00, 15.28it/s]\n"
     ]
    },
    {
     "name": "stdout",
     "output_type": "stream",
     "text": [
      "Epoch: 165/200, Train Loss: 2.3457, Train Accuracy: 0.8970, Val Loss: 0.3941, Val Accuracy: 0.8802\n"
     ]
    },
    {
     "name": "stderr",
     "output_type": "stream",
     "text": [
      "100%|██████████| 352/352 [00:27<00:00, 12.61it/s]\n",
      "100%|██████████| 40/40 [00:02<00:00, 15.58it/s]\n"
     ]
    },
    {
     "name": "stdout",
     "output_type": "stream",
     "text": [
      "Epoch: 166/200, Train Loss: 2.3552, Train Accuracy: 0.8957, Val Loss: 0.3946, Val Accuracy: 0.8796\n"
     ]
    },
    {
     "name": "stderr",
     "output_type": "stream",
     "text": [
      "100%|██████████| 352/352 [00:27<00:00, 12.61it/s]\n",
      "100%|██████████| 40/40 [00:02<00:00, 15.58it/s]\n"
     ]
    },
    {
     "name": "stdout",
     "output_type": "stream",
     "text": [
      "Epoch: 167/200, Train Loss: 2.3612, Train Accuracy: 0.8962, Val Loss: 0.4156, Val Accuracy: 0.8782\n"
     ]
    },
    {
     "name": "stderr",
     "output_type": "stream",
     "text": [
      "100%|██████████| 352/352 [00:27<00:00, 12.60it/s]\n",
      "100%|██████████| 40/40 [00:02<00:00, 15.57it/s]\n"
     ]
    },
    {
     "name": "stdout",
     "output_type": "stream",
     "text": [
      "Epoch: 168/200, Train Loss: 2.3531, Train Accuracy: 0.8974, Val Loss: 0.4049, Val Accuracy: 0.8790\n"
     ]
    },
    {
     "name": "stderr",
     "output_type": "stream",
     "text": [
      "100%|██████████| 352/352 [00:27<00:00, 12.60it/s]\n",
      "100%|██████████| 40/40 [00:02<00:00, 15.47it/s]\n"
     ]
    },
    {
     "name": "stdout",
     "output_type": "stream",
     "text": [
      "Epoch: 169/200, Train Loss: 2.3516, Train Accuracy: 0.8952, Val Loss: 0.4119, Val Accuracy: 0.8756\n"
     ]
    },
    {
     "name": "stderr",
     "output_type": "stream",
     "text": [
      "100%|██████████| 352/352 [00:27<00:00, 12.59it/s]\n",
      "100%|██████████| 40/40 [00:02<00:00, 15.40it/s]\n"
     ]
    },
    {
     "name": "stdout",
     "output_type": "stream",
     "text": [
      "Epoch: 170/200, Train Loss: 2.3599, Train Accuracy: 0.8956, Val Loss: 0.3972, Val Accuracy: 0.8752\n"
     ]
    },
    {
     "name": "stderr",
     "output_type": "stream",
     "text": [
      "100%|██████████| 352/352 [00:27<00:00, 12.60it/s]\n",
      "100%|██████████| 40/40 [00:02<00:00, 15.55it/s]\n"
     ]
    },
    {
     "name": "stdout",
     "output_type": "stream",
     "text": [
      "Epoch: 171/200, Train Loss: 2.3533, Train Accuracy: 0.8952, Val Loss: 0.4060, Val Accuracy: 0.8776\n"
     ]
    },
    {
     "name": "stderr",
     "output_type": "stream",
     "text": [
      "100%|██████████| 352/352 [00:27<00:00, 12.61it/s]\n",
      "100%|██████████| 40/40 [00:02<00:00, 15.47it/s]\n"
     ]
    },
    {
     "name": "stdout",
     "output_type": "stream",
     "text": [
      "Epoch: 172/200, Train Loss: 2.3449, Train Accuracy: 0.8967, Val Loss: 0.3862, Val Accuracy: 0.8788\n"
     ]
    },
    {
     "name": "stderr",
     "output_type": "stream",
     "text": [
      "100%|██████████| 352/352 [00:27<00:00, 12.69it/s]\n",
      "100%|██████████| 40/40 [00:02<00:00, 15.46it/s]\n"
     ]
    },
    {
     "name": "stdout",
     "output_type": "stream",
     "text": [
      "Epoch: 173/200, Train Loss: 2.3539, Train Accuracy: 0.8973, Val Loss: 0.4026, Val Accuracy: 0.8786\n"
     ]
    },
    {
     "name": "stderr",
     "output_type": "stream",
     "text": [
      "100%|██████████| 352/352 [00:27<00:00, 12.61it/s]\n",
      "100%|██████████| 40/40 [00:02<00:00, 15.51it/s]\n"
     ]
    },
    {
     "name": "stdout",
     "output_type": "stream",
     "text": [
      "Epoch: 174/200, Train Loss: 2.3480, Train Accuracy: 0.8968, Val Loss: 0.3821, Val Accuracy: 0.8800\n"
     ]
    },
    {
     "name": "stderr",
     "output_type": "stream",
     "text": [
      "100%|██████████| 352/352 [00:27<00:00, 12.62it/s]\n",
      "100%|██████████| 40/40 [00:02<00:00, 15.57it/s]\n"
     ]
    },
    {
     "name": "stdout",
     "output_type": "stream",
     "text": [
      "Epoch: 175/200, Train Loss: 2.3545, Train Accuracy: 0.8953, Val Loss: 0.4005, Val Accuracy: 0.8762\n"
     ]
    },
    {
     "name": "stderr",
     "output_type": "stream",
     "text": [
      "100%|██████████| 352/352 [00:27<00:00, 12.72it/s]\n",
      "100%|██████████| 40/40 [00:02<00:00, 15.68it/s]\n"
     ]
    },
    {
     "name": "stdout",
     "output_type": "stream",
     "text": [
      "Epoch: 176/200, Train Loss: 2.3570, Train Accuracy: 0.8974, Val Loss: 0.3960, Val Accuracy: 0.8820\n"
     ]
    },
    {
     "name": "stderr",
     "output_type": "stream",
     "text": [
      "100%|██████████| 352/352 [00:27<00:00, 12.68it/s]\n",
      "100%|██████████| 40/40 [00:02<00:00, 15.58it/s]\n"
     ]
    },
    {
     "name": "stdout",
     "output_type": "stream",
     "text": [
      "Epoch: 177/200, Train Loss: 2.3605, Train Accuracy: 0.8964, Val Loss: 0.3883, Val Accuracy: 0.8798\n"
     ]
    },
    {
     "name": "stderr",
     "output_type": "stream",
     "text": [
      "100%|██████████| 352/352 [00:27<00:00, 12.60it/s]\n",
      "100%|██████████| 40/40 [00:02<00:00, 15.52it/s]\n"
     ]
    },
    {
     "name": "stdout",
     "output_type": "stream",
     "text": [
      "Epoch: 178/200, Train Loss: 2.3440, Train Accuracy: 0.8972, Val Loss: 0.3789, Val Accuracy: 0.8858\n"
     ]
    },
    {
     "name": "stderr",
     "output_type": "stream",
     "text": [
      "100%|██████████| 352/352 [00:27<00:00, 12.58it/s]\n",
      "100%|██████████| 40/40 [00:02<00:00, 15.56it/s]\n"
     ]
    },
    {
     "name": "stdout",
     "output_type": "stream",
     "text": [
      "Epoch: 179/200, Train Loss: 2.3465, Train Accuracy: 0.8957, Val Loss: 0.4030, Val Accuracy: 0.8766\n"
     ]
    },
    {
     "name": "stderr",
     "output_type": "stream",
     "text": [
      "100%|██████████| 352/352 [00:27<00:00, 12.59it/s]\n",
      "100%|██████████| 40/40 [00:02<00:00, 15.50it/s]\n"
     ]
    },
    {
     "name": "stdout",
     "output_type": "stream",
     "text": [
      "Epoch: 180/200, Train Loss: 2.3689, Train Accuracy: 0.8978, Val Loss: 0.3967, Val Accuracy: 0.8782\n"
     ]
    },
    {
     "name": "stderr",
     "output_type": "stream",
     "text": [
      "100%|██████████| 352/352 [00:27<00:00, 12.60it/s]\n",
      "100%|██████████| 40/40 [00:02<00:00, 15.51it/s]\n"
     ]
    },
    {
     "name": "stdout",
     "output_type": "stream",
     "text": [
      "Epoch: 181/200, Train Loss: 2.3473, Train Accuracy: 0.8960, Val Loss: 0.3880, Val Accuracy: 0.8812\n"
     ]
    },
    {
     "name": "stderr",
     "output_type": "stream",
     "text": [
      "100%|██████████| 352/352 [00:27<00:00, 12.66it/s]\n",
      "100%|██████████| 40/40 [00:02<00:00, 15.42it/s]\n"
     ]
    },
    {
     "name": "stdout",
     "output_type": "stream",
     "text": [
      "Epoch: 182/200, Train Loss: 2.3537, Train Accuracy: 0.8965, Val Loss: 0.3874, Val Accuracy: 0.8802\n"
     ]
    },
    {
     "name": "stderr",
     "output_type": "stream",
     "text": [
      "100%|██████████| 352/352 [00:27<00:00, 12.61it/s]\n",
      "100%|██████████| 40/40 [00:02<00:00, 15.55it/s]\n"
     ]
    },
    {
     "name": "stdout",
     "output_type": "stream",
     "text": [
      "Epoch: 183/200, Train Loss: 2.3572, Train Accuracy: 0.8966, Val Loss: 0.4005, Val Accuracy: 0.8758\n"
     ]
    },
    {
     "name": "stderr",
     "output_type": "stream",
     "text": [
      "100%|██████████| 352/352 [00:27<00:00, 12.69it/s]\n",
      "100%|██████████| 40/40 [00:02<00:00, 15.71it/s]\n"
     ]
    },
    {
     "name": "stdout",
     "output_type": "stream",
     "text": [
      "Epoch: 184/200, Train Loss: 2.3385, Train Accuracy: 0.8959, Val Loss: 0.4032, Val Accuracy: 0.8786\n"
     ]
    },
    {
     "name": "stderr",
     "output_type": "stream",
     "text": [
      "100%|██████████| 352/352 [00:27<00:00, 12.69it/s]\n",
      "100%|██████████| 40/40 [00:02<00:00, 15.67it/s]\n"
     ]
    },
    {
     "name": "stdout",
     "output_type": "stream",
     "text": [
      "Epoch: 185/200, Train Loss: 2.3578, Train Accuracy: 0.8979, Val Loss: 0.3970, Val Accuracy: 0.8832\n"
     ]
    },
    {
     "name": "stderr",
     "output_type": "stream",
     "text": [
      "100%|██████████| 352/352 [00:27<00:00, 12.64it/s]\n",
      "100%|██████████| 40/40 [00:02<00:00, 15.66it/s]\n"
     ]
    },
    {
     "name": "stdout",
     "output_type": "stream",
     "text": [
      "Epoch: 186/200, Train Loss: 2.3467, Train Accuracy: 0.8966, Val Loss: 0.4130, Val Accuracy: 0.8724\n"
     ]
    },
    {
     "name": "stderr",
     "output_type": "stream",
     "text": [
      "100%|██████████| 352/352 [00:27<00:00, 12.66it/s]\n",
      "100%|██████████| 40/40 [00:02<00:00, 15.40it/s]\n"
     ]
    },
    {
     "name": "stdout",
     "output_type": "stream",
     "text": [
      "Epoch: 187/200, Train Loss: 2.3482, Train Accuracy: 0.8973, Val Loss: 0.3884, Val Accuracy: 0.8846\n"
     ]
    },
    {
     "name": "stderr",
     "output_type": "stream",
     "text": [
      "100%|██████████| 352/352 [00:27<00:00, 12.59it/s]\n",
      "100%|██████████| 40/40 [00:02<00:00, 15.45it/s]\n"
     ]
    },
    {
     "name": "stdout",
     "output_type": "stream",
     "text": [
      "Epoch: 188/200, Train Loss: 2.3494, Train Accuracy: 0.8964, Val Loss: 0.3959, Val Accuracy: 0.8828\n"
     ]
    },
    {
     "name": "stderr",
     "output_type": "stream",
     "text": [
      "100%|██████████| 352/352 [00:28<00:00, 12.56it/s]\n",
      "100%|██████████| 40/40 [00:02<00:00, 15.53it/s]\n"
     ]
    },
    {
     "name": "stdout",
     "output_type": "stream",
     "text": [
      "Epoch: 189/200, Train Loss: 2.3388, Train Accuracy: 0.8978, Val Loss: 0.4011, Val Accuracy: 0.8802\n"
     ]
    },
    {
     "name": "stderr",
     "output_type": "stream",
     "text": [
      "100%|██████████| 352/352 [00:27<00:00, 12.59it/s]\n",
      "100%|██████████| 40/40 [00:02<00:00, 15.48it/s]\n"
     ]
    },
    {
     "name": "stdout",
     "output_type": "stream",
     "text": [
      "Epoch: 190/200, Train Loss: 2.3565, Train Accuracy: 0.8964, Val Loss: 0.3976, Val Accuracy: 0.8830\n"
     ]
    },
    {
     "name": "stderr",
     "output_type": "stream",
     "text": [
      "100%|██████████| 352/352 [00:27<00:00, 12.61it/s]\n",
      "100%|██████████| 40/40 [00:02<00:00, 15.44it/s]\n"
     ]
    },
    {
     "name": "stdout",
     "output_type": "stream",
     "text": [
      "Epoch: 191/200, Train Loss: 2.3524, Train Accuracy: 0.8984, Val Loss: 0.4072, Val Accuracy: 0.8738\n"
     ]
    },
    {
     "name": "stderr",
     "output_type": "stream",
     "text": [
      "100%|██████████| 352/352 [00:27<00:00, 12.61it/s]\n",
      "100%|██████████| 40/40 [00:02<00:00, 15.37it/s]\n"
     ]
    },
    {
     "name": "stdout",
     "output_type": "stream",
     "text": [
      "Epoch: 192/200, Train Loss: 2.3553, Train Accuracy: 0.8964, Val Loss: 0.4040, Val Accuracy: 0.8790\n"
     ]
    },
    {
     "name": "stderr",
     "output_type": "stream",
     "text": [
      "100%|██████████| 352/352 [00:27<00:00, 12.57it/s]\n",
      "100%|██████████| 40/40 [00:02<00:00, 15.37it/s]\n"
     ]
    },
    {
     "name": "stdout",
     "output_type": "stream",
     "text": [
      "Epoch: 193/200, Train Loss: 2.3421, Train Accuracy: 0.8982, Val Loss: 0.3996, Val Accuracy: 0.8778\n"
     ]
    },
    {
     "name": "stderr",
     "output_type": "stream",
     "text": [
      "100%|██████████| 352/352 [00:27<00:00, 12.61it/s]\n",
      "100%|██████████| 40/40 [00:02<00:00, 15.49it/s]\n"
     ]
    },
    {
     "name": "stdout",
     "output_type": "stream",
     "text": [
      "Epoch: 194/200, Train Loss: 2.3529, Train Accuracy: 0.8994, Val Loss: 0.4029, Val Accuracy: 0.8782\n"
     ]
    },
    {
     "name": "stderr",
     "output_type": "stream",
     "text": [
      "100%|██████████| 352/352 [00:28<00:00, 12.56it/s]\n",
      "100%|██████████| 40/40 [00:02<00:00, 15.54it/s]\n"
     ]
    },
    {
     "name": "stdout",
     "output_type": "stream",
     "text": [
      "Epoch: 195/200, Train Loss: 2.3384, Train Accuracy: 0.8989, Val Loss: 0.3987, Val Accuracy: 0.8792\n"
     ]
    },
    {
     "name": "stderr",
     "output_type": "stream",
     "text": [
      "100%|██████████| 352/352 [00:27<00:00, 12.60it/s]\n",
      "100%|██████████| 40/40 [00:02<00:00, 15.41it/s]\n"
     ]
    },
    {
     "name": "stdout",
     "output_type": "stream",
     "text": [
      "Epoch: 196/200, Train Loss: 2.3463, Train Accuracy: 0.8963, Val Loss: 0.3833, Val Accuracy: 0.8850\n"
     ]
    },
    {
     "name": "stderr",
     "output_type": "stream",
     "text": [
      "100%|██████████| 352/352 [00:27<00:00, 12.58it/s]\n",
      "100%|██████████| 40/40 [00:02<00:00, 15.39it/s]\n"
     ]
    },
    {
     "name": "stdout",
     "output_type": "stream",
     "text": [
      "Epoch: 197/200, Train Loss: 2.3383, Train Accuracy: 0.8975, Val Loss: 0.4089, Val Accuracy: 0.8756\n"
     ]
    },
    {
     "name": "stderr",
     "output_type": "stream",
     "text": [
      "100%|██████████| 352/352 [00:28<00:00, 12.54it/s]\n",
      "100%|██████████| 40/40 [00:02<00:00, 15.42it/s]\n"
     ]
    },
    {
     "name": "stdout",
     "output_type": "stream",
     "text": [
      "Epoch: 198/200, Train Loss: 2.3514, Train Accuracy: 0.8960, Val Loss: 0.3946, Val Accuracy: 0.8766\n"
     ]
    },
    {
     "name": "stderr",
     "output_type": "stream",
     "text": [
      "100%|██████████| 352/352 [00:28<00:00, 12.57it/s]\n",
      "100%|██████████| 40/40 [00:02<00:00, 15.54it/s]\n"
     ]
    },
    {
     "name": "stdout",
     "output_type": "stream",
     "text": [
      "Epoch: 199/200, Train Loss: 2.3640, Train Accuracy: 0.8971, Val Loss: 0.3902, Val Accuracy: 0.8810\n"
     ]
    },
    {
     "name": "stderr",
     "output_type": "stream",
     "text": [
      "100%|██████████| 352/352 [00:28<00:00, 12.54it/s]\n",
      "100%|██████████| 40/40 [00:02<00:00, 15.27it/s]"
     ]
    },
    {
     "name": "stdout",
     "output_type": "stream",
     "text": [
      "Epoch: 200/200, Train Loss: 2.3497, Train Accuracy: 0.8968, Val Loss: 0.3858, Val Accuracy: 0.8836\n"
     ]
    },
    {
     "name": "stderr",
     "output_type": "stream",
     "text": [
      "\n"
     ]
    }
   ],
   "source": [
    "train_losses, val_losses, train_accuracies, val_accuracies = trainer.train()"
   ]
  },
  {
   "cell_type": "code",
   "execution_count": 26,
   "metadata": {},
   "outputs": [],
   "source": [
    "import pickle as pkl\n",
    "with open('DKD_stat/ResNet8_Resnet18_both_alpha_1.0_beta_8.0.pkl', 'wb') as f:\n",
    "    pkl.dump([train_losses, val_losses, train_accuracies, val_accuracies], f)"
   ]
  },
  {
   "cell_type": "code",
   "execution_count": 27,
   "metadata": {},
   "outputs": [
    {
     "name": "stderr",
     "output_type": "stream",
     "text": [
      "100%|██████████| 79/79 [00:04<00:00, 16.16it/s]"
     ]
    },
    {
     "name": "stdout",
     "output_type": "stream",
     "text": [
      "Test Loss: 0.4506, Test Accuracy: 0.8769\n"
     ]
    },
    {
     "name": "stderr",
     "output_type": "stream",
     "text": [
      "\n"
     ]
    }
   ],
   "source": [
    "trainer.predict(path = \"Checkpoints/ResNet8_alpha_1_beta_8.0_ResNet18_0.8858.pth\")"
   ]
  },
  {
   "cell_type": "code",
   "execution_count": null,
   "metadata": {},
   "outputs": [],
   "source": []
  },
  {
   "cell_type": "code",
   "execution_count": null,
   "metadata": {},
   "outputs": [
    {
     "ename": "ModuleNotFoundError",
     "evalue": "No module named 'matplotlib'",
     "output_type": "error",
     "traceback": [
      "\u001b[31m---------------------------------------------------------------------------\u001b[39m",
      "\u001b[31mModuleNotFoundError\u001b[39m                       Traceback (most recent call last)",
      "\u001b[36mCell\u001b[39m\u001b[36m \u001b[39m\u001b[32mIn[4]\u001b[39m\u001b[32m, line 1\u001b[39m\n\u001b[32m----> \u001b[39m\u001b[32m1\u001b[39m \u001b[38;5;28;01mimport\u001b[39;00m\u001b[38;5;250m \u001b[39m\u001b[34;01mmatplotlib\u001b[39;00m\u001b[34;01m.\u001b[39;00m\u001b[34;01mpyplot\u001b[39;00m\u001b[38;5;250m \u001b[39m\u001b[38;5;28;01mas\u001b[39;00m\u001b[38;5;250m \u001b[39m\u001b[34;01mplt\u001b[39;00m\n",
      "\u001b[31mModuleNotFoundError\u001b[39m: No module named 'matplotlib'"
     ]
    }
   ],
   "source": []
  },
  {
   "cell_type": "code",
   "execution_count": null,
   "metadata": {},
   "outputs": [],
   "source": []
  }
 ],
 "metadata": {
  "kernelspec": {
   "display_name": "distil",
   "language": "python",
   "name": "python3"
  },
  "language_info": {
   "codemirror_mode": {
    "name": "ipython",
    "version": 3
   },
   "file_extension": ".py",
   "mimetype": "text/x-python",
   "name": "python",
   "nbconvert_exporter": "python",
   "pygments_lexer": "ipython3",
   "version": "3.13.2"
  }
 },
 "nbformat": 4,
 "nbformat_minor": 2
}
