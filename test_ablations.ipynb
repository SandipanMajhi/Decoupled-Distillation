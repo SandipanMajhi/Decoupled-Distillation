{
 "cells": [
  {
   "cell_type": "code",
   "execution_count": 1,
   "metadata": {},
   "outputs": [],
   "source": [
    "import torch\n",
    "import torch.nn as nn\n",
    "import torchvision\n",
    "from models.resnet18 import ResNet18_cifar10\n",
    "from models.resnet8 import ResNet8\n",
    "from utils.trainer import Cifar10_ResNetTrainer, DKDTrainer"
   ]
  },
  {
   "cell_type": "code",
   "execution_count": 2,
   "metadata": {},
   "outputs": [
    {
     "name": "stderr",
     "output_type": "stream",
     "text": [
      "/home/sandipanmajhi/Desktop/Courses/MTP/Disjoint3/distil/lib64/python3.13/site-packages/torchvision/models/_utils.py:208: UserWarning: The parameter 'pretrained' is deprecated since 0.13 and may be removed in the future, please use 'weights' instead.\n",
      "  warnings.warn(\n",
      "/home/sandipanmajhi/Desktop/Courses/MTP/Disjoint3/distil/lib64/python3.13/site-packages/torchvision/models/_utils.py:223: UserWarning: Arguments other than a weight enum or `None` for 'weights' are deprecated since 0.13 and may be removed in the future. The current behavior is equivalent to passing `weights=ResNet18_Weights.IMAGENET1K_V1`. You can also use `weights=ResNet18_Weights.DEFAULT` to get the most up-to-date weights.\n",
      "  warnings.warn(msg)\n"
     ]
    },
    {
     "data": {
      "text/plain": [
       "<All keys matched successfully>"
      ]
     },
     "execution_count": 2,
     "metadata": {},
     "output_type": "execute_result"
    }
   ],
   "source": [
    "resnet18 = ResNet18_cifar10()\n",
    "resnet8 = ResNet8()\n",
    "resnet18.load_state_dict(torch.load('Checkpoints/ResNet18_0.9122.pth'))\n",
    "resnet8.load_state_dict(torch.load('Checkpoints/ResNet8_tckd_ResNet18_0.8622.pth'))"
   ]
  },
  {
   "cell_type": "code",
   "execution_count": 3,
   "metadata": {},
   "outputs": [
    {
     "name": "stderr",
     "output_type": "stream",
     "text": [
      "/home/sandipanmajhi/Desktop/Courses/MTP/Disjoint3/distil/lib64/python3.13/site-packages/torch/optim/lr_scheduler.py:62: UserWarning: The verbose parameter is deprecated. Please use get_last_lr() to access the learning rate.\n",
      "  warnings.warn(\n"
     ]
    }
   ],
   "source": [
    "device = torch.device('cuda' if torch.cuda.is_available() else 'cpu')\n",
    "optimizer = torch.optim.Adam(resnet8.parameters(), lr=0.001)\n",
    "scheduler = torch.optim.lr_scheduler.ReduceLROnPlateau(optimizer, mode='min', factor=0.05, patience=2, threshold=0.0001, threshold_mode='rel', cooldown=0, min_lr=0, eps=1e-08, verbose=True)"
   ]
  },
  {
   "cell_type": "code",
   "execution_count": 4,
   "metadata": {},
   "outputs": [],
   "source": [
    "trainer = DKDTrainer(student=resnet8,\n",
    "                     teacher = resnet18,\n",
    "                     model_name=\"ResNet8_tckd_ResNet18\",\n",
    "                     optimizer=optimizer,\n",
    "                     scheduler=scheduler,\n",
    "                     num_epochs=23,\n",
    "                     device=device,\n",
    "                     alpha=1.0,\n",
    "                     beta=8.0,\n",
    "                     mode = \"tckd_only\")"
   ]
  },
  {
   "cell_type": "code",
   "execution_count": 5,
   "metadata": {},
   "outputs": [
    {
     "name": "stderr",
     "output_type": "stream",
     "text": [
      "  0%|          | 0/352 [00:00<?, ?it/s]/home/sandipanmajhi/Desktop/Courses/MTP/Disjoint3/distil/lib64/python3.13/site-packages/torch/nn/_reduction.py:51: UserWarning: size_average and reduce args will be deprecated, please use reduction='sum' instead.\n",
      "  warnings.warn(warning.format(ret))\n",
      "100%|██████████| 352/352 [00:27<00:00, 12.58it/s]\n",
      "100%|██████████| 40/40 [00:02<00:00, 15.66it/s]\n"
     ]
    },
    {
     "name": "stdout",
     "output_type": "stream",
     "text": [
      "Epoch: 1/23, Train Loss: 1.6831, Train Accuracy: 0.8502, Val Loss: 0.4756, Val Accuracy: 0.8476\n"
     ]
    },
    {
     "name": "stderr",
     "output_type": "stream",
     "text": [
      "100%|██████████| 352/352 [00:27<00:00, 12.66it/s]\n",
      "100%|██████████| 40/40 [00:02<00:00, 15.60it/s]\n"
     ]
    },
    {
     "name": "stdout",
     "output_type": "stream",
     "text": [
      "Epoch: 2/23, Train Loss: 1.6674, Train Accuracy: 0.8506, Val Loss: 0.5122, Val Accuracy: 0.8464\n"
     ]
    },
    {
     "name": "stderr",
     "output_type": "stream",
     "text": [
      "100%|██████████| 352/352 [00:27<00:00, 12.68it/s]\n",
      "100%|██████████| 40/40 [00:02<00:00, 15.68it/s]\n"
     ]
    },
    {
     "name": "stdout",
     "output_type": "stream",
     "text": [
      "Epoch: 3/23, Train Loss: 1.6823, Train Accuracy: 0.8504, Val Loss: 0.5037, Val Accuracy: 0.8452\n"
     ]
    },
    {
     "name": "stderr",
     "output_type": "stream",
     "text": [
      "100%|██████████| 352/352 [00:27<00:00, 12.71it/s]\n",
      "100%|██████████| 40/40 [00:02<00:00, 15.88it/s]\n"
     ]
    },
    {
     "name": "stdout",
     "output_type": "stream",
     "text": [
      "Epoch: 4/23, Train Loss: 1.6618, Train Accuracy: 0.8550, Val Loss: 0.5420, Val Accuracy: 0.8356\n"
     ]
    },
    {
     "name": "stderr",
     "output_type": "stream",
     "text": [
      "100%|██████████| 352/352 [00:27<00:00, 12.70it/s]\n",
      "100%|██████████| 40/40 [00:02<00:00, 15.80it/s]\n"
     ]
    },
    {
     "name": "stdout",
     "output_type": "stream",
     "text": [
      "Epoch: 5/23, Train Loss: 1.6541, Train Accuracy: 0.8554, Val Loss: 0.4963, Val Accuracy: 0.8502\n"
     ]
    },
    {
     "name": "stderr",
     "output_type": "stream",
     "text": [
      "100%|██████████| 352/352 [00:27<00:00, 12.75it/s]\n",
      "100%|██████████| 40/40 [00:02<00:00, 15.77it/s]\n"
     ]
    },
    {
     "name": "stdout",
     "output_type": "stream",
     "text": [
      "Epoch: 6/23, Train Loss: 1.6302, Train Accuracy: 0.8551, Val Loss: 0.5012, Val Accuracy: 0.8506\n"
     ]
    },
    {
     "name": "stderr",
     "output_type": "stream",
     "text": [
      "100%|██████████| 352/352 [00:27<00:00, 12.72it/s]\n",
      "100%|██████████| 40/40 [00:02<00:00, 15.79it/s]\n"
     ]
    },
    {
     "name": "stdout",
     "output_type": "stream",
     "text": [
      "Epoch: 7/23, Train Loss: 1.6199, Train Accuracy: 0.8573, Val Loss: 0.5170, Val Accuracy: 0.8460\n"
     ]
    },
    {
     "name": "stderr",
     "output_type": "stream",
     "text": [
      "100%|██████████| 352/352 [00:27<00:00, 12.73it/s]\n",
      "100%|██████████| 40/40 [00:02<00:00, 15.80it/s]\n"
     ]
    },
    {
     "name": "stdout",
     "output_type": "stream",
     "text": [
      "Epoch: 8/23, Train Loss: 1.6215, Train Accuracy: 0.8572, Val Loss: 0.5023, Val Accuracy: 0.8510\n"
     ]
    },
    {
     "name": "stderr",
     "output_type": "stream",
     "text": [
      "100%|██████████| 352/352 [00:27<00:00, 12.74it/s]\n",
      "100%|██████████| 40/40 [00:02<00:00, 15.76it/s]\n"
     ]
    },
    {
     "name": "stdout",
     "output_type": "stream",
     "text": [
      "Epoch: 9/23, Train Loss: 1.6033, Train Accuracy: 0.8558, Val Loss: 0.5103, Val Accuracy: 0.8408\n"
     ]
    },
    {
     "name": "stderr",
     "output_type": "stream",
     "text": [
      "100%|██████████| 352/352 [00:27<00:00, 12.73it/s]\n",
      "100%|██████████| 40/40 [00:02<00:00, 15.85it/s]\n"
     ]
    },
    {
     "name": "stdout",
     "output_type": "stream",
     "text": [
      "Epoch: 10/23, Train Loss: 1.6085, Train Accuracy: 0.8574, Val Loss: 0.4968, Val Accuracy: 0.8526\n"
     ]
    },
    {
     "name": "stderr",
     "output_type": "stream",
     "text": [
      "100%|██████████| 352/352 [00:27<00:00, 12.72it/s]\n",
      "100%|██████████| 40/40 [00:02<00:00, 15.88it/s]\n"
     ]
    },
    {
     "name": "stdout",
     "output_type": "stream",
     "text": [
      "Epoch: 11/23, Train Loss: 1.6050, Train Accuracy: 0.8572, Val Loss: 0.5744, Val Accuracy: 0.8320\n"
     ]
    },
    {
     "name": "stderr",
     "output_type": "stream",
     "text": [
      "100%|██████████| 352/352 [00:27<00:00, 12.72it/s]\n",
      "100%|██████████| 40/40 [00:02<00:00, 15.69it/s]\n"
     ]
    },
    {
     "name": "stdout",
     "output_type": "stream",
     "text": [
      "Epoch: 12/23, Train Loss: 1.6046, Train Accuracy: 0.8590, Val Loss: 0.5421, Val Accuracy: 0.8442\n"
     ]
    },
    {
     "name": "stderr",
     "output_type": "stream",
     "text": [
      "100%|██████████| 352/352 [00:27<00:00, 12.76it/s]\n",
      "100%|██████████| 40/40 [00:02<00:00, 15.71it/s]\n"
     ]
    },
    {
     "name": "stdout",
     "output_type": "stream",
     "text": [
      "Epoch: 13/23, Train Loss: 1.4416, Train Accuracy: 0.8696, Val Loss: 0.4610, Val Accuracy: 0.8622\n"
     ]
    },
    {
     "name": "stderr",
     "output_type": "stream",
     "text": [
      "100%|██████████| 352/352 [00:27<00:00, 12.70it/s]\n",
      "100%|██████████| 40/40 [00:02<00:00, 15.82it/s]\n"
     ]
    },
    {
     "name": "stdout",
     "output_type": "stream",
     "text": [
      "Epoch: 14/23, Train Loss: 1.4186, Train Accuracy: 0.8708, Val Loss: 0.4345, Val Accuracy: 0.8686\n"
     ]
    },
    {
     "name": "stderr",
     "output_type": "stream",
     "text": [
      "100%|██████████| 352/352 [00:27<00:00, 12.75it/s]\n",
      "100%|██████████| 40/40 [00:02<00:00, 15.78it/s]\n"
     ]
    },
    {
     "name": "stdout",
     "output_type": "stream",
     "text": [
      "Epoch: 15/23, Train Loss: 1.4096, Train Accuracy: 0.8747, Val Loss: 0.4328, Val Accuracy: 0.8646\n"
     ]
    },
    {
     "name": "stderr",
     "output_type": "stream",
     "text": [
      "100%|██████████| 352/352 [00:27<00:00, 12.76it/s]\n",
      "100%|██████████| 40/40 [00:02<00:00, 15.81it/s]\n"
     ]
    },
    {
     "name": "stdout",
     "output_type": "stream",
     "text": [
      "Epoch: 16/23, Train Loss: 1.3904, Train Accuracy: 0.8728, Val Loss: 0.4419, Val Accuracy: 0.8662\n"
     ]
    },
    {
     "name": "stderr",
     "output_type": "stream",
     "text": [
      "100%|██████████| 352/352 [00:27<00:00, 12.75it/s]\n",
      "100%|██████████| 40/40 [00:02<00:00, 15.79it/s]\n"
     ]
    },
    {
     "name": "stdout",
     "output_type": "stream",
     "text": [
      "Epoch: 17/23, Train Loss: 1.3963, Train Accuracy: 0.8714, Val Loss: 0.4383, Val Accuracy: 0.8626\n"
     ]
    },
    {
     "name": "stderr",
     "output_type": "stream",
     "text": [
      "100%|██████████| 352/352 [00:27<00:00, 12.78it/s]\n",
      "100%|██████████| 40/40 [00:02<00:00, 15.81it/s]\n"
     ]
    },
    {
     "name": "stdout",
     "output_type": "stream",
     "text": [
      "Epoch: 18/23, Train Loss: 1.3859, Train Accuracy: 0.8756, Val Loss: 0.4280, Val Accuracy: 0.8688\n"
     ]
    },
    {
     "name": "stderr",
     "output_type": "stream",
     "text": [
      "100%|██████████| 352/352 [00:27<00:00, 12.79it/s]\n",
      "100%|██████████| 40/40 [00:02<00:00, 15.77it/s]\n"
     ]
    },
    {
     "name": "stdout",
     "output_type": "stream",
     "text": [
      "Epoch: 19/23, Train Loss: 1.3842, Train Accuracy: 0.8741, Val Loss: 0.4310, Val Accuracy: 0.8678\n"
     ]
    },
    {
     "name": "stderr",
     "output_type": "stream",
     "text": [
      "100%|██████████| 352/352 [00:27<00:00, 12.74it/s]\n",
      "100%|██████████| 40/40 [00:02<00:00, 15.73it/s]\n"
     ]
    },
    {
     "name": "stdout",
     "output_type": "stream",
     "text": [
      "Epoch: 20/23, Train Loss: 1.3860, Train Accuracy: 0.8732, Val Loss: 0.4199, Val Accuracy: 0.8660\n"
     ]
    },
    {
     "name": "stderr",
     "output_type": "stream",
     "text": [
      "100%|██████████| 352/352 [00:27<00:00, 12.73it/s]\n",
      "100%|██████████| 40/40 [00:02<00:00, 15.72it/s]\n"
     ]
    },
    {
     "name": "stdout",
     "output_type": "stream",
     "text": [
      "Epoch: 21/23, Train Loss: 1.3755, Train Accuracy: 0.8750, Val Loss: 0.4250, Val Accuracy: 0.8718\n"
     ]
    },
    {
     "name": "stderr",
     "output_type": "stream",
     "text": [
      "100%|██████████| 352/352 [00:27<00:00, 12.75it/s]\n",
      "100%|██████████| 40/40 [00:02<00:00, 15.73it/s]\n"
     ]
    },
    {
     "name": "stdout",
     "output_type": "stream",
     "text": [
      "Epoch: 22/23, Train Loss: 1.3879, Train Accuracy: 0.8762, Val Loss: 0.4162, Val Accuracy: 0.8662\n"
     ]
    },
    {
     "name": "stderr",
     "output_type": "stream",
     "text": [
      "100%|██████████| 352/352 [00:27<00:00, 12.80it/s]\n",
      "100%|██████████| 40/40 [00:02<00:00, 15.72it/s]"
     ]
    },
    {
     "name": "stdout",
     "output_type": "stream",
     "text": [
      "Epoch: 23/23, Train Loss: 1.3832, Train Accuracy: 0.8742, Val Loss: 0.4298, Val Accuracy: 0.8716\n"
     ]
    },
    {
     "name": "stderr",
     "output_type": "stream",
     "text": [
      "\n"
     ]
    }
   ],
   "source": [
    "train_losses, val_losses, train_accuracies, val_accuracies = trainer.train()"
   ]
  },
  {
   "cell_type": "code",
   "execution_count": 6,
   "metadata": {},
   "outputs": [],
   "source": [
    "import pickle as pkl\n",
    "with open('DKD_stat/ResNet8_Resnet18_tckd_alpha_1.pkl', 'wb') as f:\n",
    "    pkl.dump([train_losses, val_losses, train_accuracies, val_accuracies], f)"
   ]
  },
  {
   "cell_type": "code",
   "execution_count": 7,
   "metadata": {},
   "outputs": [
    {
     "name": "stderr",
     "output_type": "stream",
     "text": [
      "100%|██████████| 79/79 [00:04<00:00, 16.32it/s]"
     ]
    },
    {
     "name": "stdout",
     "output_type": "stream",
     "text": [
      "Test Loss: 0.5536, Test Accuracy: 0.8422\n"
     ]
    },
    {
     "name": "stderr",
     "output_type": "stream",
     "text": [
      "\n"
     ]
    }
   ],
   "source": [
    "trainer.predict(path = \"Checkpoints/ResNet8_tckd_ResNet18_0.8688.pth\")"
   ]
  },
  {
   "cell_type": "code",
   "execution_count": null,
   "metadata": {},
   "outputs": [],
   "source": []
  }
 ],
 "metadata": {
  "kernelspec": {
   "display_name": "distil",
   "language": "python",
   "name": "python3"
  },
  "language_info": {
   "codemirror_mode": {
    "name": "ipython",
    "version": 3
   },
   "file_extension": ".py",
   "mimetype": "text/x-python",
   "name": "python",
   "nbconvert_exporter": "python",
   "pygments_lexer": "ipython3",
   "version": "3.13.2"
  }
 },
 "nbformat": 4,
 "nbformat_minor": 2
}
