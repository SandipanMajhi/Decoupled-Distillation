{
 "cells": [
  {
   "cell_type": "code",
   "execution_count": 14,
   "metadata": {},
   "outputs": [],
   "source": [
    "import torch\n",
    "import torch.nn as nn\n",
    "import torchvision\n",
    "from models.resnet18 import ResNet18_cifar10\n",
    "from models.resnet8 import ResNet8\n",
    "from utils.trainer import Cifar10_ResNetTrainer, DKDTrainer"
   ]
  },
  {
   "cell_type": "code",
   "execution_count": 15,
   "metadata": {},
   "outputs": [
    {
     "name": "stderr",
     "output_type": "stream",
     "text": [
      "/home/sandipanmajhi/Desktop/Courses/MTP/Disjoint3/distil/lib64/python3.13/site-packages/torchvision/models/_utils.py:208: UserWarning: The parameter 'pretrained' is deprecated since 0.13 and may be removed in the future, please use 'weights' instead.\n",
      "  warnings.warn(\n",
      "/home/sandipanmajhi/Desktop/Courses/MTP/Disjoint3/distil/lib64/python3.13/site-packages/torchvision/models/_utils.py:223: UserWarning: Arguments other than a weight enum or `None` for 'weights' are deprecated since 0.13 and may be removed in the future. The current behavior is equivalent to passing `weights=ResNet18_Weights.IMAGENET1K_V1`. You can also use `weights=ResNet18_Weights.DEFAULT` to get the most up-to-date weights.\n",
      "  warnings.warn(msg)\n"
     ]
    },
    {
     "data": {
      "text/plain": [
       "<All keys matched successfully>"
      ]
     },
     "execution_count": 15,
     "metadata": {},
     "output_type": "execute_result"
    }
   ],
   "source": [
    "resnet18 = ResNet18_cifar10()\n",
    "resnet8 = ResNet8()\n",
    "resnet18.load_state_dict(torch.load('Checkpoints/ResNet18_0.9122.pth'))\n",
    "resnet8.load_state_dict(torch.load('Checkpoints/ResNet8_0.8014.pth'))"
   ]
  },
  {
   "cell_type": "code",
   "execution_count": 16,
   "metadata": {},
   "outputs": [
    {
     "name": "stderr",
     "output_type": "stream",
     "text": [
      "/home/sandipanmajhi/Desktop/Courses/MTP/Disjoint3/distil/lib64/python3.13/site-packages/torch/optim/lr_scheduler.py:62: UserWarning: The verbose parameter is deprecated. Please use get_last_lr() to access the learning rate.\n",
      "  warnings.warn(\n"
     ]
    }
   ],
   "source": [
    "device = torch.device('cuda' if torch.cuda.is_available() else 'cpu')\n",
    "optimizer = torch.optim.Adam(resnet8.parameters(), lr=0.001)\n",
    "scheduler = torch.optim.lr_scheduler.ReduceLROnPlateau(optimizer, mode='min', factor=0.05, patience=2, threshold=0.0001, threshold_mode='rel', cooldown=0, min_lr=0, eps=1e-08, verbose=True)"
   ]
  },
  {
   "cell_type": "code",
   "execution_count": 17,
   "metadata": {},
   "outputs": [],
   "source": [
    "trainer = DKDTrainer(student=resnet8,\n",
    "                     teacher = resnet18,\n",
    "                     model_name=\"ResNet8_nckd_8.0_ResNet18\",\n",
    "                     optimizer=optimizer,\n",
    "                     scheduler=scheduler,\n",
    "                     num_epochs=100,\n",
    "                     device=device,\n",
    "                     alpha=0.25,\n",
    "                     beta=8.0,\n",
    "                     mode = \"nckd_only\")"
   ]
  },
  {
   "cell_type": "code",
   "execution_count": 18,
   "metadata": {},
   "outputs": [
    {
     "name": "stderr",
     "output_type": "stream",
     "text": [
      "100%|██████████| 352/352 [00:27<00:00, 12.92it/s]\n",
      "100%|██████████| 40/40 [00:02<00:00, 15.51it/s]\n"
     ]
    },
    {
     "name": "stdout",
     "output_type": "stream",
     "text": [
      "Epoch: 1/100, Train Loss: 0.9417, Train Accuracy: 0.7742, Val Loss: 0.1859, Val Accuracy: 0.7390\n"
     ]
    },
    {
     "name": "stderr",
     "output_type": "stream",
     "text": [
      "100%|██████████| 352/352 [00:27<00:00, 12.87it/s]\n",
      "100%|██████████| 40/40 [00:02<00:00, 15.46it/s]\n"
     ]
    },
    {
     "name": "stdout",
     "output_type": "stream",
     "text": [
      "Epoch: 2/100, Train Loss: 0.8625, Train Accuracy: 0.7671, Val Loss: 0.1626, Val Accuracy: 0.7770\n"
     ]
    },
    {
     "name": "stderr",
     "output_type": "stream",
     "text": [
      "100%|██████████| 352/352 [00:27<00:00, 12.87it/s]\n",
      "100%|██████████| 40/40 [00:02<00:00, 15.74it/s]\n"
     ]
    },
    {
     "name": "stdout",
     "output_type": "stream",
     "text": [
      "Epoch: 3/100, Train Loss: 0.8367, Train Accuracy: 0.7678, Val Loss: 0.1619, Val Accuracy: 0.7802\n"
     ]
    },
    {
     "name": "stderr",
     "output_type": "stream",
     "text": [
      "100%|██████████| 352/352 [00:27<00:00, 12.80it/s]\n",
      "100%|██████████| 40/40 [00:02<00:00, 15.52it/s]\n"
     ]
    },
    {
     "name": "stdout",
     "output_type": "stream",
     "text": [
      "Epoch: 4/100, Train Loss: 0.8093, Train Accuracy: 0.7705, Val Loss: 0.1717, Val Accuracy: 0.7650\n"
     ]
    },
    {
     "name": "stderr",
     "output_type": "stream",
     "text": [
      "100%|██████████| 352/352 [00:27<00:00, 12.85it/s]\n",
      "100%|██████████| 40/40 [00:02<00:00, 15.68it/s]\n"
     ]
    },
    {
     "name": "stdout",
     "output_type": "stream",
     "text": [
      "Epoch: 5/100, Train Loss: 0.7906, Train Accuracy: 0.7725, Val Loss: 0.1696, Val Accuracy: 0.7694\n"
     ]
    },
    {
     "name": "stderr",
     "output_type": "stream",
     "text": [
      "100%|██████████| 352/352 [00:27<00:00, 12.86it/s]\n",
      "100%|██████████| 40/40 [00:02<00:00, 15.51it/s]\n"
     ]
    },
    {
     "name": "stdout",
     "output_type": "stream",
     "text": [
      "Epoch: 6/100, Train Loss: 0.7794, Train Accuracy: 0.7718, Val Loss: 0.1642, Val Accuracy: 0.7722\n"
     ]
    },
    {
     "name": "stderr",
     "output_type": "stream",
     "text": [
      "100%|██████████| 352/352 [00:27<00:00, 12.81it/s]\n",
      "100%|██████████| 40/40 [00:02<00:00, 15.62it/s]\n"
     ]
    },
    {
     "name": "stdout",
     "output_type": "stream",
     "text": [
      "Epoch: 7/100, Train Loss: 0.7637, Train Accuracy: 0.7760, Val Loss: 0.1726, Val Accuracy: 0.7634\n"
     ]
    },
    {
     "name": "stderr",
     "output_type": "stream",
     "text": [
      "100%|██████████| 352/352 [00:27<00:00, 12.82it/s]\n",
      "100%|██████████| 40/40 [00:02<00:00, 15.62it/s]\n"
     ]
    },
    {
     "name": "stdout",
     "output_type": "stream",
     "text": [
      "Epoch: 8/100, Train Loss: 0.7528, Train Accuracy: 0.7778, Val Loss: 0.1597, Val Accuracy: 0.7798\n"
     ]
    },
    {
     "name": "stderr",
     "output_type": "stream",
     "text": [
      "100%|██████████| 352/352 [00:27<00:00, 12.83it/s]\n",
      "100%|██████████| 40/40 [00:02<00:00, 15.55it/s]\n"
     ]
    },
    {
     "name": "stdout",
     "output_type": "stream",
     "text": [
      "Epoch: 9/100, Train Loss: 0.7475, Train Accuracy: 0.7796, Val Loss: 0.1618, Val Accuracy: 0.7780\n"
     ]
    },
    {
     "name": "stderr",
     "output_type": "stream",
     "text": [
      "100%|██████████| 352/352 [00:27<00:00, 12.84it/s]\n",
      "100%|██████████| 40/40 [00:02<00:00, 15.57it/s]\n"
     ]
    },
    {
     "name": "stdout",
     "output_type": "stream",
     "text": [
      "Epoch: 10/100, Train Loss: 0.7345, Train Accuracy: 0.7798, Val Loss: 0.1512, Val Accuracy: 0.7894\n"
     ]
    },
    {
     "name": "stderr",
     "output_type": "stream",
     "text": [
      "100%|██████████| 352/352 [00:27<00:00, 12.86it/s]\n",
      "100%|██████████| 40/40 [00:02<00:00, 15.68it/s]\n"
     ]
    },
    {
     "name": "stdout",
     "output_type": "stream",
     "text": [
      "Epoch: 11/100, Train Loss: 0.7260, Train Accuracy: 0.7843, Val Loss: 0.1551, Val Accuracy: 0.7846\n"
     ]
    },
    {
     "name": "stderr",
     "output_type": "stream",
     "text": [
      "100%|██████████| 352/352 [00:27<00:00, 12.82it/s]\n",
      "100%|██████████| 40/40 [00:02<00:00, 15.55it/s]\n"
     ]
    },
    {
     "name": "stdout",
     "output_type": "stream",
     "text": [
      "Epoch: 12/100, Train Loss: 0.7150, Train Accuracy: 0.7886, Val Loss: 0.1645, Val Accuracy: 0.7672\n"
     ]
    },
    {
     "name": "stderr",
     "output_type": "stream",
     "text": [
      "100%|██████████| 352/352 [00:27<00:00, 12.81it/s]\n",
      "100%|██████████| 40/40 [00:02<00:00, 15.49it/s]\n"
     ]
    },
    {
     "name": "stdout",
     "output_type": "stream",
     "text": [
      "Epoch: 13/100, Train Loss: 0.7067, Train Accuracy: 0.7873, Val Loss: 0.1547, Val Accuracy: 0.7844\n"
     ]
    },
    {
     "name": "stderr",
     "output_type": "stream",
     "text": [
      "100%|██████████| 352/352 [00:27<00:00, 12.82it/s]\n",
      "100%|██████████| 40/40 [00:02<00:00, 15.50it/s]\n"
     ]
    },
    {
     "name": "stdout",
     "output_type": "stream",
     "text": [
      "Epoch: 14/100, Train Loss: 0.7074, Train Accuracy: 0.7901, Val Loss: 0.1486, Val Accuracy: 0.7960\n"
     ]
    },
    {
     "name": "stderr",
     "output_type": "stream",
     "text": [
      "100%|██████████| 352/352 [00:27<00:00, 12.78it/s]\n",
      "100%|██████████| 40/40 [00:02<00:00, 15.67it/s]\n"
     ]
    },
    {
     "name": "stdout",
     "output_type": "stream",
     "text": [
      "Epoch: 15/100, Train Loss: 0.6954, Train Accuracy: 0.7905, Val Loss: 0.1528, Val Accuracy: 0.7908\n"
     ]
    },
    {
     "name": "stderr",
     "output_type": "stream",
     "text": [
      "100%|██████████| 352/352 [00:27<00:00, 12.83it/s]\n",
      "100%|██████████| 40/40 [00:02<00:00, 15.63it/s]\n"
     ]
    },
    {
     "name": "stdout",
     "output_type": "stream",
     "text": [
      "Epoch: 16/100, Train Loss: 0.6865, Train Accuracy: 0.7932, Val Loss: 0.1553, Val Accuracy: 0.7804\n"
     ]
    },
    {
     "name": "stderr",
     "output_type": "stream",
     "text": [
      "100%|██████████| 352/352 [00:27<00:00, 12.82it/s]\n",
      "100%|██████████| 40/40 [00:02<00:00, 15.53it/s]\n"
     ]
    },
    {
     "name": "stdout",
     "output_type": "stream",
     "text": [
      "Epoch: 17/100, Train Loss: 0.6860, Train Accuracy: 0.7924, Val Loss: 0.1445, Val Accuracy: 0.8018\n"
     ]
    },
    {
     "name": "stderr",
     "output_type": "stream",
     "text": [
      "100%|██████████| 352/352 [00:27<00:00, 12.85it/s]\n",
      "100%|██████████| 40/40 [00:02<00:00, 15.44it/s]\n"
     ]
    },
    {
     "name": "stdout",
     "output_type": "stream",
     "text": [
      "Epoch: 18/100, Train Loss: 0.6817, Train Accuracy: 0.7962, Val Loss: 0.1415, Val Accuracy: 0.8024\n"
     ]
    },
    {
     "name": "stderr",
     "output_type": "stream",
     "text": [
      "100%|██████████| 352/352 [00:27<00:00, 12.83it/s]\n",
      "100%|██████████| 40/40 [00:02<00:00, 15.51it/s]\n"
     ]
    },
    {
     "name": "stdout",
     "output_type": "stream",
     "text": [
      "Epoch: 19/100, Train Loss: 0.6734, Train Accuracy: 0.7996, Val Loss: 0.1563, Val Accuracy: 0.7768\n"
     ]
    },
    {
     "name": "stderr",
     "output_type": "stream",
     "text": [
      "100%|██████████| 352/352 [00:27<00:00, 12.82it/s]\n",
      "100%|██████████| 40/40 [00:02<00:00, 15.51it/s]\n"
     ]
    },
    {
     "name": "stdout",
     "output_type": "stream",
     "text": [
      "Epoch: 20/100, Train Loss: 0.6653, Train Accuracy: 0.7984, Val Loss: 0.1408, Val Accuracy: 0.8022\n"
     ]
    },
    {
     "name": "stderr",
     "output_type": "stream",
     "text": [
      "100%|██████████| 352/352 [00:27<00:00, 12.81it/s]\n",
      "100%|██████████| 40/40 [00:02<00:00, 15.49it/s]\n"
     ]
    },
    {
     "name": "stdout",
     "output_type": "stream",
     "text": [
      "Epoch: 21/100, Train Loss: 0.6608, Train Accuracy: 0.8027, Val Loss: 0.1503, Val Accuracy: 0.7896\n"
     ]
    },
    {
     "name": "stderr",
     "output_type": "stream",
     "text": [
      "100%|██████████| 352/352 [00:27<00:00, 12.83it/s]\n",
      "100%|██████████| 40/40 [00:02<00:00, 15.52it/s]\n"
     ]
    },
    {
     "name": "stdout",
     "output_type": "stream",
     "text": [
      "Epoch: 22/100, Train Loss: 0.6589, Train Accuracy: 0.8041, Val Loss: 0.1493, Val Accuracy: 0.7940\n"
     ]
    },
    {
     "name": "stderr",
     "output_type": "stream",
     "text": [
      "100%|██████████| 352/352 [00:27<00:00, 12.83it/s]\n",
      "100%|██████████| 40/40 [00:02<00:00, 15.54it/s]\n"
     ]
    },
    {
     "name": "stdout",
     "output_type": "stream",
     "text": [
      "Epoch: 23/100, Train Loss: 0.6533, Train Accuracy: 0.8015, Val Loss: 0.1430, Val Accuracy: 0.8010\n"
     ]
    },
    {
     "name": "stderr",
     "output_type": "stream",
     "text": [
      "100%|██████████| 352/352 [00:27<00:00, 12.81it/s]\n",
      "100%|██████████| 40/40 [00:02<00:00, 15.37it/s]\n"
     ]
    },
    {
     "name": "stdout",
     "output_type": "stream",
     "text": [
      "Epoch: 24/100, Train Loss: 0.6514, Train Accuracy: 0.8052, Val Loss: 0.1423, Val Accuracy: 0.7966\n"
     ]
    },
    {
     "name": "stderr",
     "output_type": "stream",
     "text": [
      "100%|██████████| 352/352 [00:27<00:00, 12.79it/s]\n",
      "100%|██████████| 40/40 [00:02<00:00, 15.37it/s]\n"
     ]
    },
    {
     "name": "stdout",
     "output_type": "stream",
     "text": [
      "Epoch: 25/100, Train Loss: 0.6502, Train Accuracy: 0.8050, Val Loss: 0.1464, Val Accuracy: 0.7922\n"
     ]
    },
    {
     "name": "stderr",
     "output_type": "stream",
     "text": [
      "100%|██████████| 352/352 [00:27<00:00, 12.88it/s]\n",
      "100%|██████████| 40/40 [00:02<00:00, 15.58it/s]\n"
     ]
    },
    {
     "name": "stdout",
     "output_type": "stream",
     "text": [
      "Epoch: 26/100, Train Loss: 0.6413, Train Accuracy: 0.8073, Val Loss: 0.1529, Val Accuracy: 0.7858\n"
     ]
    },
    {
     "name": "stderr",
     "output_type": "stream",
     "text": [
      "100%|██████████| 352/352 [00:27<00:00, 12.82it/s]\n",
      "100%|██████████| 40/40 [00:02<00:00, 15.60it/s]\n"
     ]
    },
    {
     "name": "stdout",
     "output_type": "stream",
     "text": [
      "Epoch: 27/100, Train Loss: 0.6410, Train Accuracy: 0.8066, Val Loss: 0.1394, Val Accuracy: 0.8038\n"
     ]
    },
    {
     "name": "stderr",
     "output_type": "stream",
     "text": [
      "100%|██████████| 352/352 [00:27<00:00, 12.85it/s]\n",
      "100%|██████████| 40/40 [00:02<00:00, 15.68it/s]\n"
     ]
    },
    {
     "name": "stdout",
     "output_type": "stream",
     "text": [
      "Epoch: 28/100, Train Loss: 0.6318, Train Accuracy: 0.8109, Val Loss: 0.1406, Val Accuracy: 0.7962\n"
     ]
    },
    {
     "name": "stderr",
     "output_type": "stream",
     "text": [
      "100%|██████████| 352/352 [00:27<00:00, 12.87it/s]\n",
      "100%|██████████| 40/40 [00:02<00:00, 15.52it/s]\n"
     ]
    },
    {
     "name": "stdout",
     "output_type": "stream",
     "text": [
      "Epoch: 29/100, Train Loss: 0.6318, Train Accuracy: 0.8108, Val Loss: 0.1357, Val Accuracy: 0.8124\n"
     ]
    },
    {
     "name": "stderr",
     "output_type": "stream",
     "text": [
      "100%|██████████| 352/352 [00:27<00:00, 12.81it/s]\n",
      "100%|██████████| 40/40 [00:02<00:00, 15.61it/s]\n"
     ]
    },
    {
     "name": "stdout",
     "output_type": "stream",
     "text": [
      "Epoch: 30/100, Train Loss: 0.6295, Train Accuracy: 0.8104, Val Loss: 0.1441, Val Accuracy: 0.7990\n"
     ]
    },
    {
     "name": "stderr",
     "output_type": "stream",
     "text": [
      "100%|██████████| 352/352 [00:27<00:00, 12.85it/s]\n",
      "100%|██████████| 40/40 [00:02<00:00, 15.45it/s]\n"
     ]
    },
    {
     "name": "stdout",
     "output_type": "stream",
     "text": [
      "Epoch: 31/100, Train Loss: 0.6249, Train Accuracy: 0.8112, Val Loss: 0.1384, Val Accuracy: 0.8080\n"
     ]
    },
    {
     "name": "stderr",
     "output_type": "stream",
     "text": [
      "100%|██████████| 352/352 [00:27<00:00, 12.81it/s]\n",
      "100%|██████████| 40/40 [00:02<00:00, 15.57it/s]\n"
     ]
    },
    {
     "name": "stdout",
     "output_type": "stream",
     "text": [
      "Epoch: 32/100, Train Loss: 0.6231, Train Accuracy: 0.8144, Val Loss: 0.1311, Val Accuracy: 0.8152\n"
     ]
    },
    {
     "name": "stderr",
     "output_type": "stream",
     "text": [
      "100%|██████████| 352/352 [00:27<00:00, 12.83it/s]\n",
      "100%|██████████| 40/40 [00:02<00:00, 15.65it/s]\n"
     ]
    },
    {
     "name": "stdout",
     "output_type": "stream",
     "text": [
      "Epoch: 33/100, Train Loss: 0.6201, Train Accuracy: 0.8128, Val Loss: 0.1471, Val Accuracy: 0.7944\n"
     ]
    },
    {
     "name": "stderr",
     "output_type": "stream",
     "text": [
      "100%|██████████| 352/352 [00:27<00:00, 12.83it/s]\n",
      "100%|██████████| 40/40 [00:02<00:00, 15.64it/s]\n"
     ]
    },
    {
     "name": "stdout",
     "output_type": "stream",
     "text": [
      "Epoch: 34/100, Train Loss: 0.6181, Train Accuracy: 0.8146, Val Loss: 0.1352, Val Accuracy: 0.8076\n"
     ]
    },
    {
     "name": "stderr",
     "output_type": "stream",
     "text": [
      "100%|██████████| 352/352 [00:27<00:00, 12.84it/s]\n",
      "100%|██████████| 40/40 [00:02<00:00, 15.49it/s]\n"
     ]
    },
    {
     "name": "stdout",
     "output_type": "stream",
     "text": [
      "Epoch: 35/100, Train Loss: 0.6118, Train Accuracy: 0.8161, Val Loss: 0.1331, Val Accuracy: 0.8152\n"
     ]
    },
    {
     "name": "stderr",
     "output_type": "stream",
     "text": [
      "100%|██████████| 352/352 [00:27<00:00, 12.84it/s]\n",
      "100%|██████████| 40/40 [00:02<00:00, 15.52it/s]\n"
     ]
    },
    {
     "name": "stdout",
     "output_type": "stream",
     "text": [
      "Epoch: 36/100, Train Loss: 0.6127, Train Accuracy: 0.8166, Val Loss: 0.1364, Val Accuracy: 0.8060\n"
     ]
    },
    {
     "name": "stderr",
     "output_type": "stream",
     "text": [
      "100%|██████████| 352/352 [00:27<00:00, 12.83it/s]\n",
      "100%|██████████| 40/40 [00:02<00:00, 15.48it/s]\n"
     ]
    },
    {
     "name": "stdout",
     "output_type": "stream",
     "text": [
      "Epoch: 37/100, Train Loss: 0.6091, Train Accuracy: 0.8165, Val Loss: 0.1304, Val Accuracy: 0.8110\n"
     ]
    },
    {
     "name": "stderr",
     "output_type": "stream",
     "text": [
      "100%|██████████| 352/352 [00:27<00:00, 12.81it/s]\n",
      "100%|██████████| 40/40 [00:02<00:00, 15.45it/s]\n"
     ]
    },
    {
     "name": "stdout",
     "output_type": "stream",
     "text": [
      "Epoch: 38/100, Train Loss: 0.6059, Train Accuracy: 0.8203, Val Loss: 0.1425, Val Accuracy: 0.7978\n"
     ]
    },
    {
     "name": "stderr",
     "output_type": "stream",
     "text": [
      "100%|██████████| 352/352 [00:27<00:00, 12.82it/s]\n",
      "100%|██████████| 40/40 [00:02<00:00, 15.42it/s]\n"
     ]
    },
    {
     "name": "stdout",
     "output_type": "stream",
     "text": [
      "Epoch: 39/100, Train Loss: 0.6050, Train Accuracy: 0.8179, Val Loss: 0.1281, Val Accuracy: 0.8202\n"
     ]
    },
    {
     "name": "stderr",
     "output_type": "stream",
     "text": [
      "100%|██████████| 352/352 [00:27<00:00, 12.85it/s]\n",
      "100%|██████████| 40/40 [00:02<00:00, 15.57it/s]\n"
     ]
    },
    {
     "name": "stdout",
     "output_type": "stream",
     "text": [
      "Epoch: 40/100, Train Loss: 0.6022, Train Accuracy: 0.8198, Val Loss: 0.1386, Val Accuracy: 0.8060\n"
     ]
    },
    {
     "name": "stderr",
     "output_type": "stream",
     "text": [
      "100%|██████████| 352/352 [00:27<00:00, 12.86it/s]\n",
      "100%|██████████| 40/40 [00:02<00:00, 15.62it/s]\n"
     ]
    },
    {
     "name": "stdout",
     "output_type": "stream",
     "text": [
      "Epoch: 41/100, Train Loss: 0.5998, Train Accuracy: 0.8203, Val Loss: 0.1324, Val Accuracy: 0.8138\n"
     ]
    },
    {
     "name": "stderr",
     "output_type": "stream",
     "text": [
      "100%|██████████| 352/352 [00:27<00:00, 12.82it/s]\n",
      "100%|██████████| 40/40 [00:02<00:00, 15.62it/s]\n"
     ]
    },
    {
     "name": "stdout",
     "output_type": "stream",
     "text": [
      "Epoch: 42/100, Train Loss: 0.5976, Train Accuracy: 0.8206, Val Loss: 0.1309, Val Accuracy: 0.8242\n"
     ]
    },
    {
     "name": "stderr",
     "output_type": "stream",
     "text": [
      "100%|██████████| 352/352 [00:27<00:00, 12.81it/s]\n",
      "100%|██████████| 40/40 [00:02<00:00, 15.53it/s]\n"
     ]
    },
    {
     "name": "stdout",
     "output_type": "stream",
     "text": [
      "Epoch: 43/100, Train Loss: 0.5933, Train Accuracy: 0.8215, Val Loss: 0.1410, Val Accuracy: 0.8106\n"
     ]
    },
    {
     "name": "stderr",
     "output_type": "stream",
     "text": [
      "100%|██████████| 352/352 [00:27<00:00, 12.86it/s]\n",
      "100%|██████████| 40/40 [00:02<00:00, 15.56it/s]\n"
     ]
    },
    {
     "name": "stdout",
     "output_type": "stream",
     "text": [
      "Epoch: 44/100, Train Loss: 0.5913, Train Accuracy: 0.8229, Val Loss: 0.1326, Val Accuracy: 0.8140\n"
     ]
    },
    {
     "name": "stderr",
     "output_type": "stream",
     "text": [
      "100%|██████████| 352/352 [00:27<00:00, 12.84it/s]\n",
      "100%|██████████| 40/40 [00:02<00:00, 15.66it/s]\n"
     ]
    },
    {
     "name": "stdout",
     "output_type": "stream",
     "text": [
      "Epoch: 45/100, Train Loss: 0.5928, Train Accuracy: 0.8236, Val Loss: 0.1289, Val Accuracy: 0.8180\n"
     ]
    },
    {
     "name": "stderr",
     "output_type": "stream",
     "text": [
      "100%|██████████| 352/352 [00:27<00:00, 12.81it/s]\n",
      "100%|██████████| 40/40 [00:02<00:00, 15.65it/s]\n"
     ]
    },
    {
     "name": "stdout",
     "output_type": "stream",
     "text": [
      "Epoch: 46/100, Train Loss: 0.5918, Train Accuracy: 0.8224, Val Loss: 0.1303, Val Accuracy: 0.8200\n"
     ]
    },
    {
     "name": "stderr",
     "output_type": "stream",
     "text": [
      "100%|██████████| 352/352 [00:27<00:00, 12.86it/s]\n",
      "100%|██████████| 40/40 [00:02<00:00, 15.63it/s]\n"
     ]
    },
    {
     "name": "stdout",
     "output_type": "stream",
     "text": [
      "Epoch: 47/100, Train Loss: 0.5868, Train Accuracy: 0.8246, Val Loss: 0.1333, Val Accuracy: 0.8118\n"
     ]
    },
    {
     "name": "stderr",
     "output_type": "stream",
     "text": [
      "100%|██████████| 352/352 [00:27<00:00, 12.84it/s]\n",
      "100%|██████████| 40/40 [00:02<00:00, 15.45it/s]\n"
     ]
    },
    {
     "name": "stdout",
     "output_type": "stream",
     "text": [
      "Epoch: 48/100, Train Loss: 0.5861, Train Accuracy: 0.8247, Val Loss: 0.1312, Val Accuracy: 0.8132\n"
     ]
    },
    {
     "name": "stderr",
     "output_type": "stream",
     "text": [
      "100%|██████████| 352/352 [00:27<00:00, 12.84it/s]\n",
      "100%|██████████| 40/40 [00:02<00:00, 15.59it/s]\n"
     ]
    },
    {
     "name": "stdout",
     "output_type": "stream",
     "text": [
      "Epoch: 49/100, Train Loss: 0.5845, Train Accuracy: 0.8240, Val Loss: 0.1338, Val Accuracy: 0.8158\n"
     ]
    },
    {
     "name": "stderr",
     "output_type": "stream",
     "text": [
      "100%|██████████| 352/352 [00:27<00:00, 12.83it/s]\n",
      "100%|██████████| 40/40 [00:02<00:00, 15.51it/s]\n"
     ]
    },
    {
     "name": "stdout",
     "output_type": "stream",
     "text": [
      "Epoch: 50/100, Train Loss: 0.5842, Train Accuracy: 0.8252, Val Loss: 0.1364, Val Accuracy: 0.8134\n"
     ]
    },
    {
     "name": "stderr",
     "output_type": "stream",
     "text": [
      "100%|██████████| 352/352 [00:27<00:00, 12.83it/s]\n",
      "100%|██████████| 40/40 [00:02<00:00, 15.53it/s]\n"
     ]
    },
    {
     "name": "stdout",
     "output_type": "stream",
     "text": [
      "Epoch: 51/100, Train Loss: 0.5844, Train Accuracy: 0.8267, Val Loss: 0.1251, Val Accuracy: 0.8262\n"
     ]
    },
    {
     "name": "stderr",
     "output_type": "stream",
     "text": [
      "100%|██████████| 352/352 [00:27<00:00, 12.82it/s]\n",
      "100%|██████████| 40/40 [00:02<00:00, 15.55it/s]\n"
     ]
    },
    {
     "name": "stdout",
     "output_type": "stream",
     "text": [
      "Epoch: 52/100, Train Loss: 0.5830, Train Accuracy: 0.8260, Val Loss: 0.1297, Val Accuracy: 0.8190\n"
     ]
    },
    {
     "name": "stderr",
     "output_type": "stream",
     "text": [
      "100%|██████████| 352/352 [00:27<00:00, 12.84it/s]\n",
      "100%|██████████| 40/40 [00:02<00:00, 15.46it/s]\n"
     ]
    },
    {
     "name": "stdout",
     "output_type": "stream",
     "text": [
      "Epoch: 53/100, Train Loss: 0.5824, Train Accuracy: 0.8259, Val Loss: 0.1299, Val Accuracy: 0.8192\n"
     ]
    },
    {
     "name": "stderr",
     "output_type": "stream",
     "text": [
      "100%|██████████| 352/352 [00:27<00:00, 12.82it/s]\n",
      "100%|██████████| 40/40 [00:02<00:00, 15.65it/s]\n"
     ]
    },
    {
     "name": "stdout",
     "output_type": "stream",
     "text": [
      "Epoch: 54/100, Train Loss: 0.5769, Train Accuracy: 0.8282, Val Loss: 0.1221, Val Accuracy: 0.8304\n"
     ]
    },
    {
     "name": "stderr",
     "output_type": "stream",
     "text": [
      "100%|██████████| 352/352 [00:27<00:00, 12.82it/s]\n",
      "100%|██████████| 40/40 [00:02<00:00, 15.57it/s]\n"
     ]
    },
    {
     "name": "stdout",
     "output_type": "stream",
     "text": [
      "Epoch: 55/100, Train Loss: 0.5801, Train Accuracy: 0.8269, Val Loss: 0.1260, Val Accuracy: 0.8248\n"
     ]
    },
    {
     "name": "stderr",
     "output_type": "stream",
     "text": [
      "100%|██████████| 352/352 [00:27<00:00, 12.84it/s]\n",
      "100%|██████████| 40/40 [00:02<00:00, 15.64it/s]\n"
     ]
    },
    {
     "name": "stdout",
     "output_type": "stream",
     "text": [
      "Epoch: 56/100, Train Loss: 0.5750, Train Accuracy: 0.8293, Val Loss: 0.1251, Val Accuracy: 0.8230\n"
     ]
    },
    {
     "name": "stderr",
     "output_type": "stream",
     "text": [
      "100%|██████████| 352/352 [00:27<00:00, 12.83it/s]\n",
      "100%|██████████| 40/40 [00:02<00:00, 15.63it/s]\n"
     ]
    },
    {
     "name": "stdout",
     "output_type": "stream",
     "text": [
      "Epoch: 57/100, Train Loss: 0.5696, Train Accuracy: 0.8295, Val Loss: 0.1266, Val Accuracy: 0.8144\n"
     ]
    },
    {
     "name": "stderr",
     "output_type": "stream",
     "text": [
      "100%|██████████| 352/352 [00:27<00:00, 12.85it/s]\n",
      "100%|██████████| 40/40 [00:02<00:00, 15.67it/s]\n"
     ]
    },
    {
     "name": "stdout",
     "output_type": "stream",
     "text": [
      "Epoch: 58/100, Train Loss: 0.5709, Train Accuracy: 0.8289, Val Loss: 0.1225, Val Accuracy: 0.8254\n"
     ]
    },
    {
     "name": "stderr",
     "output_type": "stream",
     "text": [
      "100%|██████████| 352/352 [00:27<00:00, 12.85it/s]\n",
      "100%|██████████| 40/40 [00:02<00:00, 15.48it/s]\n"
     ]
    },
    {
     "name": "stdout",
     "output_type": "stream",
     "text": [
      "Epoch: 59/100, Train Loss: 0.5716, Train Accuracy: 0.8299, Val Loss: 0.1258, Val Accuracy: 0.8214\n"
     ]
    },
    {
     "name": "stderr",
     "output_type": "stream",
     "text": [
      "100%|██████████| 352/352 [00:27<00:00, 12.83it/s]\n",
      "100%|██████████| 40/40 [00:02<00:00, 15.68it/s]\n"
     ]
    },
    {
     "name": "stdout",
     "output_type": "stream",
     "text": [
      "Epoch: 60/100, Train Loss: 0.5702, Train Accuracy: 0.8306, Val Loss: 0.1259, Val Accuracy: 0.8192\n"
     ]
    },
    {
     "name": "stderr",
     "output_type": "stream",
     "text": [
      "100%|██████████| 352/352 [00:27<00:00, 12.84it/s]\n",
      "100%|██████████| 40/40 [00:02<00:00, 15.66it/s]\n"
     ]
    },
    {
     "name": "stdout",
     "output_type": "stream",
     "text": [
      "Epoch: 61/100, Train Loss: 0.5450, Train Accuracy: 0.8377, Val Loss: 0.1191, Val Accuracy: 0.8348\n"
     ]
    },
    {
     "name": "stderr",
     "output_type": "stream",
     "text": [
      "100%|██████████| 352/352 [00:27<00:00, 12.81it/s]\n",
      "100%|██████████| 40/40 [00:02<00:00, 15.42it/s]\n"
     ]
    },
    {
     "name": "stdout",
     "output_type": "stream",
     "text": [
      "Epoch: 62/100, Train Loss: 0.5367, Train Accuracy: 0.8395, Val Loss: 0.1154, Val Accuracy: 0.8390\n"
     ]
    },
    {
     "name": "stderr",
     "output_type": "stream",
     "text": [
      "100%|██████████| 352/352 [00:27<00:00, 12.80it/s]\n",
      "100%|██████████| 40/40 [00:02<00:00, 15.65it/s]\n"
     ]
    },
    {
     "name": "stdout",
     "output_type": "stream",
     "text": [
      "Epoch: 63/100, Train Loss: 0.5368, Train Accuracy: 0.8402, Val Loss: 0.1137, Val Accuracy: 0.8382\n"
     ]
    },
    {
     "name": "stderr",
     "output_type": "stream",
     "text": [
      "100%|██████████| 352/352 [00:27<00:00, 12.85it/s]\n",
      "100%|██████████| 40/40 [00:02<00:00, 15.55it/s]\n"
     ]
    },
    {
     "name": "stdout",
     "output_type": "stream",
     "text": [
      "Epoch: 64/100, Train Loss: 0.5332, Train Accuracy: 0.8425, Val Loss: 0.1166, Val Accuracy: 0.8334\n"
     ]
    },
    {
     "name": "stderr",
     "output_type": "stream",
     "text": [
      "100%|██████████| 352/352 [00:27<00:00, 12.85it/s]\n",
      "100%|██████████| 40/40 [00:02<00:00, 15.63it/s]\n"
     ]
    },
    {
     "name": "stdout",
     "output_type": "stream",
     "text": [
      "Epoch: 65/100, Train Loss: 0.5350, Train Accuracy: 0.8419, Val Loss: 0.1172, Val Accuracy: 0.8354\n"
     ]
    },
    {
     "name": "stderr",
     "output_type": "stream",
     "text": [
      "100%|██████████| 352/352 [00:27<00:00, 12.86it/s]\n",
      "100%|██████████| 40/40 [00:02<00:00, 15.42it/s]\n"
     ]
    },
    {
     "name": "stdout",
     "output_type": "stream",
     "text": [
      "Epoch: 66/100, Train Loss: 0.5301, Train Accuracy: 0.8425, Val Loss: 0.1150, Val Accuracy: 0.8362\n"
     ]
    },
    {
     "name": "stderr",
     "output_type": "stream",
     "text": [
      "100%|██████████| 352/352 [00:27<00:00, 12.85it/s]\n",
      "100%|██████████| 40/40 [00:02<00:00, 15.55it/s]\n"
     ]
    },
    {
     "name": "stdout",
     "output_type": "stream",
     "text": [
      "Epoch: 67/100, Train Loss: 0.5320, Train Accuracy: 0.8414, Val Loss: 0.1157, Val Accuracy: 0.8402\n"
     ]
    },
    {
     "name": "stderr",
     "output_type": "stream",
     "text": [
      "100%|██████████| 352/352 [00:27<00:00, 12.85it/s]\n",
      "100%|██████████| 40/40 [00:02<00:00, 15.67it/s]\n"
     ]
    },
    {
     "name": "stdout",
     "output_type": "stream",
     "text": [
      "Epoch: 68/100, Train Loss: 0.5336, Train Accuracy: 0.8427, Val Loss: 0.1175, Val Accuracy: 0.8364\n"
     ]
    },
    {
     "name": "stderr",
     "output_type": "stream",
     "text": [
      "100%|██████████| 352/352 [00:27<00:00, 12.84it/s]\n",
      "100%|██████████| 40/40 [00:02<00:00, 15.54it/s]\n"
     ]
    },
    {
     "name": "stdout",
     "output_type": "stream",
     "text": [
      "Epoch: 69/100, Train Loss: 0.5288, Train Accuracy: 0.8432, Val Loss: 0.1168, Val Accuracy: 0.8364\n"
     ]
    },
    {
     "name": "stderr",
     "output_type": "stream",
     "text": [
      "100%|██████████| 352/352 [00:27<00:00, 12.84it/s]\n",
      "100%|██████████| 40/40 [00:02<00:00, 15.56it/s]\n"
     ]
    },
    {
     "name": "stdout",
     "output_type": "stream",
     "text": [
      "Epoch: 70/100, Train Loss: 0.5336, Train Accuracy: 0.8417, Val Loss: 0.1176, Val Accuracy: 0.8356\n"
     ]
    },
    {
     "name": "stderr",
     "output_type": "stream",
     "text": [
      "100%|██████████| 352/352 [00:27<00:00, 12.82it/s]\n",
      "100%|██████████| 40/40 [00:02<00:00, 15.56it/s]\n"
     ]
    },
    {
     "name": "stdout",
     "output_type": "stream",
     "text": [
      "Epoch: 71/100, Train Loss: 0.5277, Train Accuracy: 0.8432, Val Loss: 0.1143, Val Accuracy: 0.8396\n"
     ]
    },
    {
     "name": "stderr",
     "output_type": "stream",
     "text": [
      "100%|██████████| 352/352 [00:27<00:00, 12.83it/s]\n",
      "100%|██████████| 40/40 [00:02<00:00, 15.45it/s]\n"
     ]
    },
    {
     "name": "stdout",
     "output_type": "stream",
     "text": [
      "Epoch: 72/100, Train Loss: 0.5280, Train Accuracy: 0.8421, Val Loss: 0.1156, Val Accuracy: 0.8394\n"
     ]
    },
    {
     "name": "stderr",
     "output_type": "stream",
     "text": [
      "100%|██████████| 352/352 [00:27<00:00, 12.82it/s]\n",
      "100%|██████████| 40/40 [00:02<00:00, 15.56it/s]\n"
     ]
    },
    {
     "name": "stdout",
     "output_type": "stream",
     "text": [
      "Epoch: 73/100, Train Loss: 0.5271, Train Accuracy: 0.8417, Val Loss: 0.1147, Val Accuracy: 0.8396\n"
     ]
    },
    {
     "name": "stderr",
     "output_type": "stream",
     "text": [
      "100%|██████████| 352/352 [00:27<00:00, 12.82it/s]\n",
      "100%|██████████| 40/40 [00:02<00:00, 15.63it/s]\n"
     ]
    },
    {
     "name": "stdout",
     "output_type": "stream",
     "text": [
      "Epoch: 74/100, Train Loss: 0.5270, Train Accuracy: 0.8420, Val Loss: 0.1159, Val Accuracy: 0.8366\n"
     ]
    },
    {
     "name": "stderr",
     "output_type": "stream",
     "text": [
      "100%|██████████| 352/352 [00:27<00:00, 12.84it/s]\n",
      "100%|██████████| 40/40 [00:02<00:00, 15.54it/s]\n"
     ]
    },
    {
     "name": "stdout",
     "output_type": "stream",
     "text": [
      "Epoch: 75/100, Train Loss: 0.5301, Train Accuracy: 0.8409, Val Loss: 0.1128, Val Accuracy: 0.8444\n"
     ]
    },
    {
     "name": "stderr",
     "output_type": "stream",
     "text": [
      "100%|██████████| 352/352 [00:27<00:00, 12.81it/s]\n",
      "100%|██████████| 40/40 [00:02<00:00, 15.42it/s]\n"
     ]
    },
    {
     "name": "stdout",
     "output_type": "stream",
     "text": [
      "Epoch: 76/100, Train Loss: 0.5269, Train Accuracy: 0.8423, Val Loss: 0.1141, Val Accuracy: 0.8316\n"
     ]
    },
    {
     "name": "stderr",
     "output_type": "stream",
     "text": [
      "100%|██████████| 352/352 [00:27<00:00, 12.77it/s]\n",
      "100%|██████████| 40/40 [00:02<00:00, 15.49it/s]\n"
     ]
    },
    {
     "name": "stdout",
     "output_type": "stream",
     "text": [
      "Epoch: 77/100, Train Loss: 0.5291, Train Accuracy: 0.8434, Val Loss: 0.1172, Val Accuracy: 0.8388\n"
     ]
    },
    {
     "name": "stderr",
     "output_type": "stream",
     "text": [
      "100%|██████████| 352/352 [00:27<00:00, 12.83it/s]\n",
      "100%|██████████| 40/40 [00:02<00:00, 15.56it/s]\n"
     ]
    },
    {
     "name": "stdout",
     "output_type": "stream",
     "text": [
      "Epoch: 78/100, Train Loss: 0.5269, Train Accuracy: 0.8430, Val Loss: 0.1164, Val Accuracy: 0.8388\n"
     ]
    },
    {
     "name": "stderr",
     "output_type": "stream",
     "text": [
      "100%|██████████| 352/352 [00:27<00:00, 12.86it/s]\n",
      "100%|██████████| 40/40 [00:02<00:00, 15.65it/s]\n"
     ]
    },
    {
     "name": "stdout",
     "output_type": "stream",
     "text": [
      "Epoch: 79/100, Train Loss: 0.5302, Train Accuracy: 0.8421, Val Loss: 0.1157, Val Accuracy: 0.8392\n"
     ]
    },
    {
     "name": "stderr",
     "output_type": "stream",
     "text": [
      "100%|██████████| 352/352 [00:27<00:00, 12.84it/s]\n",
      "100%|██████████| 40/40 [00:02<00:00, 15.50it/s]\n"
     ]
    },
    {
     "name": "stdout",
     "output_type": "stream",
     "text": [
      "Epoch: 80/100, Train Loss: 0.5275, Train Accuracy: 0.8428, Val Loss: 0.1153, Val Accuracy: 0.8366\n"
     ]
    },
    {
     "name": "stderr",
     "output_type": "stream",
     "text": [
      "100%|██████████| 352/352 [00:27<00:00, 12.85it/s]\n",
      "100%|██████████| 40/40 [00:02<00:00, 15.65it/s]\n"
     ]
    },
    {
     "name": "stdout",
     "output_type": "stream",
     "text": [
      "Epoch: 81/100, Train Loss: 0.5248, Train Accuracy: 0.8455, Val Loss: 0.1153, Val Accuracy: 0.8314\n"
     ]
    },
    {
     "name": "stderr",
     "output_type": "stream",
     "text": [
      "100%|██████████| 352/352 [00:27<00:00, 12.83it/s]\n",
      "100%|██████████| 40/40 [00:02<00:00, 15.51it/s]\n"
     ]
    },
    {
     "name": "stdout",
     "output_type": "stream",
     "text": [
      "Epoch: 82/100, Train Loss: 0.5277, Train Accuracy: 0.8448, Val Loss: 0.1149, Val Accuracy: 0.8384\n"
     ]
    },
    {
     "name": "stderr",
     "output_type": "stream",
     "text": [
      "100%|██████████| 352/352 [00:27<00:00, 12.80it/s]\n",
      "100%|██████████| 40/40 [00:02<00:00, 15.44it/s]\n"
     ]
    },
    {
     "name": "stdout",
     "output_type": "stream",
     "text": [
      "Epoch: 83/100, Train Loss: 0.5258, Train Accuracy: 0.8440, Val Loss: 0.1139, Val Accuracy: 0.8346\n"
     ]
    },
    {
     "name": "stderr",
     "output_type": "stream",
     "text": [
      "100%|██████████| 352/352 [00:27<00:00, 12.83it/s]\n",
      "100%|██████████| 40/40 [00:02<00:00, 15.52it/s]\n"
     ]
    },
    {
     "name": "stdout",
     "output_type": "stream",
     "text": [
      "Epoch: 84/100, Train Loss: 0.5249, Train Accuracy: 0.8443, Val Loss: 0.1143, Val Accuracy: 0.8400\n"
     ]
    },
    {
     "name": "stderr",
     "output_type": "stream",
     "text": [
      "100%|██████████| 352/352 [00:27<00:00, 12.81it/s]\n",
      "100%|██████████| 40/40 [00:02<00:00, 15.48it/s]\n"
     ]
    },
    {
     "name": "stdout",
     "output_type": "stream",
     "text": [
      "Epoch: 85/100, Train Loss: 0.5240, Train Accuracy: 0.8434, Val Loss: 0.1137, Val Accuracy: 0.8422\n"
     ]
    },
    {
     "name": "stderr",
     "output_type": "stream",
     "text": [
      "100%|██████████| 352/352 [00:27<00:00, 12.83it/s]\n",
      "100%|██████████| 40/40 [00:02<00:00, 15.46it/s]\n"
     ]
    },
    {
     "name": "stdout",
     "output_type": "stream",
     "text": [
      "Epoch: 86/100, Train Loss: 0.5238, Train Accuracy: 0.8443, Val Loss: 0.1140, Val Accuracy: 0.8370\n"
     ]
    },
    {
     "name": "stderr",
     "output_type": "stream",
     "text": [
      "100%|██████████| 352/352 [00:27<00:00, 12.83it/s]\n",
      "100%|██████████| 40/40 [00:02<00:00, 15.49it/s]\n"
     ]
    },
    {
     "name": "stdout",
     "output_type": "stream",
     "text": [
      "Epoch: 87/100, Train Loss: 0.5263, Train Accuracy: 0.8448, Val Loss: 0.1135, Val Accuracy: 0.8394\n"
     ]
    },
    {
     "name": "stderr",
     "output_type": "stream",
     "text": [
      "100%|██████████| 352/352 [00:27<00:00, 12.86it/s]\n",
      "100%|██████████| 40/40 [00:02<00:00, 15.63it/s]\n"
     ]
    },
    {
     "name": "stdout",
     "output_type": "stream",
     "text": [
      "Epoch: 88/100, Train Loss: 0.5292, Train Accuracy: 0.8448, Val Loss: 0.1150, Val Accuracy: 0.8374\n"
     ]
    },
    {
     "name": "stderr",
     "output_type": "stream",
     "text": [
      "100%|██████████| 352/352 [00:27<00:00, 12.85it/s]\n",
      "100%|██████████| 40/40 [00:02<00:00, 15.56it/s]\n"
     ]
    },
    {
     "name": "stdout",
     "output_type": "stream",
     "text": [
      "Epoch: 89/100, Train Loss: 0.5241, Train Accuracy: 0.8452, Val Loss: 0.1137, Val Accuracy: 0.8388\n"
     ]
    },
    {
     "name": "stderr",
     "output_type": "stream",
     "text": [
      "100%|██████████| 352/352 [00:27<00:00, 12.83it/s]\n",
      "100%|██████████| 40/40 [00:02<00:00, 15.52it/s]\n"
     ]
    },
    {
     "name": "stdout",
     "output_type": "stream",
     "text": [
      "Epoch: 90/100, Train Loss: 0.5272, Train Accuracy: 0.8434, Val Loss: 0.1136, Val Accuracy: 0.8400\n"
     ]
    },
    {
     "name": "stderr",
     "output_type": "stream",
     "text": [
      "100%|██████████| 352/352 [00:27<00:00, 12.82it/s]\n",
      "100%|██████████| 40/40 [00:02<00:00, 15.56it/s]\n"
     ]
    },
    {
     "name": "stdout",
     "output_type": "stream",
     "text": [
      "Epoch: 91/100, Train Loss: 0.5238, Train Accuracy: 0.8444, Val Loss: 0.1151, Val Accuracy: 0.8370\n"
     ]
    },
    {
     "name": "stderr",
     "output_type": "stream",
     "text": [
      "100%|██████████| 352/352 [00:27<00:00, 12.83it/s]\n",
      "100%|██████████| 40/40 [00:02<00:00, 15.54it/s]\n"
     ]
    },
    {
     "name": "stdout",
     "output_type": "stream",
     "text": [
      "Epoch: 92/100, Train Loss: 0.5260, Train Accuracy: 0.8433, Val Loss: 0.1141, Val Accuracy: 0.8402\n"
     ]
    },
    {
     "name": "stderr",
     "output_type": "stream",
     "text": [
      "100%|██████████| 352/352 [00:27<00:00, 12.82it/s]\n",
      "100%|██████████| 40/40 [00:02<00:00, 15.50it/s]\n"
     ]
    },
    {
     "name": "stdout",
     "output_type": "stream",
     "text": [
      "Epoch: 93/100, Train Loss: 0.5263, Train Accuracy: 0.8441, Val Loss: 0.1141, Val Accuracy: 0.8392\n"
     ]
    },
    {
     "name": "stderr",
     "output_type": "stream",
     "text": [
      "100%|██████████| 352/352 [00:27<00:00, 12.83it/s]\n",
      "100%|██████████| 40/40 [00:02<00:00, 15.61it/s]\n"
     ]
    },
    {
     "name": "stdout",
     "output_type": "stream",
     "text": [
      "Epoch: 94/100, Train Loss: 0.5262, Train Accuracy: 0.8437, Val Loss: 0.1132, Val Accuracy: 0.8438\n"
     ]
    },
    {
     "name": "stderr",
     "output_type": "stream",
     "text": [
      "100%|██████████| 352/352 [00:27<00:00, 12.79it/s]\n",
      "100%|██████████| 40/40 [00:02<00:00, 15.67it/s]\n"
     ]
    },
    {
     "name": "stdout",
     "output_type": "stream",
     "text": [
      "Epoch: 95/100, Train Loss: 0.5255, Train Accuracy: 0.8442, Val Loss: 0.1112, Val Accuracy: 0.8446\n"
     ]
    },
    {
     "name": "stderr",
     "output_type": "stream",
     "text": [
      "100%|██████████| 352/352 [00:27<00:00, 12.83it/s]\n",
      "100%|██████████| 40/40 [00:02<00:00, 15.54it/s]\n"
     ]
    },
    {
     "name": "stdout",
     "output_type": "stream",
     "text": [
      "Epoch: 96/100, Train Loss: 0.5247, Train Accuracy: 0.8419, Val Loss: 0.1151, Val Accuracy: 0.8384\n"
     ]
    },
    {
     "name": "stderr",
     "output_type": "stream",
     "text": [
      "100%|██████████| 352/352 [00:27<00:00, 12.82it/s]\n",
      "100%|██████████| 40/40 [00:02<00:00, 15.62it/s]\n"
     ]
    },
    {
     "name": "stdout",
     "output_type": "stream",
     "text": [
      "Epoch: 97/100, Train Loss: 0.5264, Train Accuracy: 0.8417, Val Loss: 0.1130, Val Accuracy: 0.8372\n"
     ]
    },
    {
     "name": "stderr",
     "output_type": "stream",
     "text": [
      "100%|██████████| 352/352 [00:27<00:00, 12.83it/s]\n",
      "100%|██████████| 40/40 [00:02<00:00, 15.40it/s]\n"
     ]
    },
    {
     "name": "stdout",
     "output_type": "stream",
     "text": [
      "Epoch: 98/100, Train Loss: 0.5259, Train Accuracy: 0.8438, Val Loss: 0.1154, Val Accuracy: 0.8366\n"
     ]
    },
    {
     "name": "stderr",
     "output_type": "stream",
     "text": [
      "100%|██████████| 352/352 [00:27<00:00, 12.82it/s]\n",
      "100%|██████████| 40/40 [00:02<00:00, 15.61it/s]\n"
     ]
    },
    {
     "name": "stdout",
     "output_type": "stream",
     "text": [
      "Epoch: 99/100, Train Loss: 0.5266, Train Accuracy: 0.8432, Val Loss: 0.1140, Val Accuracy: 0.8454\n"
     ]
    },
    {
     "name": "stderr",
     "output_type": "stream",
     "text": [
      "100%|██████████| 352/352 [00:27<00:00, 12.83it/s]\n",
      "100%|██████████| 40/40 [00:02<00:00, 15.53it/s]"
     ]
    },
    {
     "name": "stdout",
     "output_type": "stream",
     "text": [
      "Epoch: 100/100, Train Loss: 0.5257, Train Accuracy: 0.8437, Val Loss: 0.1136, Val Accuracy: 0.8398\n"
     ]
    },
    {
     "name": "stderr",
     "output_type": "stream",
     "text": [
      "\n"
     ]
    }
   ],
   "source": [
    "train_losses, val_losses, train_accuracies, val_accuracies = trainer.train()"
   ]
  },
  {
   "cell_type": "code",
   "execution_count": 19,
   "metadata": {},
   "outputs": [],
   "source": [
    "import pickle as pkl\n",
    "with open('DKD_stat/ResNet8_Resnet18_tckd_beta_8.0.pkl', 'wb') as f:\n",
    "    pkl.dump([train_losses, val_losses, train_accuracies, val_accuracies], f)"
   ]
  },
  {
   "cell_type": "code",
   "execution_count": 20,
   "metadata": {},
   "outputs": [
    {
     "name": "stderr",
     "output_type": "stream",
     "text": [
      "100%|██████████| 79/79 [00:04<00:00, 16.07it/s]"
     ]
    },
    {
     "name": "stdout",
     "output_type": "stream",
     "text": [
      "Test Loss: 0.1183, Test Accuracy: 0.8317\n"
     ]
    },
    {
     "name": "stderr",
     "output_type": "stream",
     "text": [
      "\n"
     ]
    }
   ],
   "source": [
    "trainer.predict(path = \"Checkpoints/ResNet8_nckd_8.0_ResNet18_0.8446.pth\")"
   ]
  },
  {
   "cell_type": "code",
   "execution_count": null,
   "metadata": {},
   "outputs": [],
   "source": []
  }
 ],
 "metadata": {
  "kernelspec": {
   "display_name": "distil",
   "language": "python",
   "name": "python3"
  },
  "language_info": {
   "codemirror_mode": {
    "name": "ipython",
    "version": 3
   },
   "file_extension": ".py",
   "mimetype": "text/x-python",
   "name": "python",
   "nbconvert_exporter": "python",
   "pygments_lexer": "ipython3",
   "version": "3.13.2"
  }
 },
 "nbformat": 4,
 "nbformat_minor": 2
}
