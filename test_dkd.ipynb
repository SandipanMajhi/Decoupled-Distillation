{
 "cells": [
  {
   "cell_type": "code",
   "execution_count": 1,
   "metadata": {},
   "outputs": [],
   "source": [
    "import torch\n",
    "import torch.nn as nn\n",
    "import torchvision\n",
    "from models.resnet18 import ResNet18_cifar10\n",
    "from models.resnet8 import ResNet8\n",
    "from utils.trainer import Cifar10_ResNetTrainer, DKDTrainer"
   ]
  },
  {
   "cell_type": "code",
   "execution_count": 2,
   "metadata": {},
   "outputs": [
    {
     "name": "stderr",
     "output_type": "stream",
     "text": [
      "/home/sandipanmajhi/Desktop/Courses/MTP/Disjoint Distillation/distil/lib64/python3.13/site-packages/torchvision/models/_utils.py:208: UserWarning: The parameter 'pretrained' is deprecated since 0.13 and may be removed in the future, please use 'weights' instead.\n",
      "  warnings.warn(\n",
      "/home/sandipanmajhi/Desktop/Courses/MTP/Disjoint Distillation/distil/lib64/python3.13/site-packages/torchvision/models/_utils.py:223: UserWarning: Arguments other than a weight enum or `None` for 'weights' are deprecated since 0.13 and may be removed in the future. The current behavior is equivalent to passing `weights=ResNet18_Weights.IMAGENET1K_V1`. You can also use `weights=ResNet18_Weights.DEFAULT` to get the most up-to-date weights.\n",
      "  warnings.warn(msg)\n"
     ]
    },
    {
     "data": {
      "text/plain": [
       "<All keys matched successfully>"
      ]
     },
     "execution_count": 2,
     "metadata": {},
     "output_type": "execute_result"
    }
   ],
   "source": [
    "resnet18 = ResNet18_cifar10()\n",
    "resnet8 = ResNet8()\n",
    "resnet18.load_state_dict(torch.load('Checkpoints/ResNet18_0.9122.pth'))\n",
    "resnet8.load_state_dict(torch.load('Checkpoints/ResNet8_0.8014.pth'))"
   ]
  },
  {
   "cell_type": "code",
   "execution_count": 3,
   "metadata": {},
   "outputs": [
    {
     "name": "stderr",
     "output_type": "stream",
     "text": [
      "/home/sandipanmajhi/Desktop/Courses/MTP/Disjoint Distillation/distil/lib64/python3.13/site-packages/torch/optim/lr_scheduler.py:62: UserWarning: The verbose parameter is deprecated. Please use get_last_lr() to access the learning rate.\n",
      "  warnings.warn(\n"
     ]
    }
   ],
   "source": [
    "device = torch.device('cuda' if torch.cuda.is_available() else 'cpu')\n",
    "optimizer = torch.optim.Adam(resnet8.parameters(), lr=0.001)\n",
    "scheduler = torch.optim.lr_scheduler.ReduceLROnPlateau(optimizer, mode='min', factor=0.05, patience=2, threshold=0.0001, threshold_mode='rel', cooldown=0, min_lr=0, eps=1e-08, verbose=True)"
   ]
  },
  {
   "cell_type": "code",
   "execution_count": 4,
   "metadata": {},
   "outputs": [],
   "source": [
    "trainer = DKDTrainer(student=resnet8,\n",
    "                     teacher = resnet18,\n",
    "                     optimizer=optimizer,\n",
    "                     scheduler=scheduler,\n",
    "                     num_epochs=100,\n",
    "                     device=device,\n",
    "                     alpha=1.0,\n",
    "                     beta=8.0)"
   ]
  },
  {
   "cell_type": "code",
   "execution_count": 5,
   "metadata": {},
   "outputs": [
    {
     "name": "stderr",
     "output_type": "stream",
     "text": [
      "  0%|          | 0/352 [00:00<?, ?it/s]/home/sandipanmajhi/Desktop/Courses/MTP/Disjoint Distillation/distil/lib64/python3.13/site-packages/torch/nn/_reduction.py:51: UserWarning: size_average and reduce args will be deprecated, please use reduction='sum' instead.\n",
      "  warnings.warn(warning.format(ret))\n",
      "100%|██████████| 352/352 [00:33<00:00, 10.65it/s]\n",
      "100%|██████████| 40/40 [00:02<00:00, 13.55it/s]\n"
     ]
    },
    {
     "name": "stdout",
     "output_type": "stream",
     "text": [
      "Epoch: 1/100, Train Loss: 5.9013, Train Accuracy: 0.7961, Val Loss: 0.7085, Val Accuracy: 0.7890\n"
     ]
    },
    {
     "name": "stderr",
     "output_type": "stream",
     "text": [
      "100%|██████████| 352/352 [00:32<00:00, 10.85it/s]\n",
      "100%|██████████| 40/40 [00:02<00:00, 13.68it/s]\n"
     ]
    },
    {
     "name": "stdout",
     "output_type": "stream",
     "text": [
      "Epoch: 2/100, Train Loss: 5.3716, Train Accuracy: 0.8040, Val Loss: 0.8066, Val Accuracy: 0.7806\n"
     ]
    },
    {
     "name": "stderr",
     "output_type": "stream",
     "text": [
      "100%|██████████| 352/352 [00:32<00:00, 10.86it/s]\n",
      "100%|██████████| 40/40 [00:02<00:00, 13.67it/s]\n"
     ]
    },
    {
     "name": "stdout",
     "output_type": "stream",
     "text": [
      "Epoch: 3/100, Train Loss: 5.1751, Train Accuracy: 0.8081, Val Loss: 0.7795, Val Accuracy: 0.7850\n"
     ]
    },
    {
     "name": "stderr",
     "output_type": "stream",
     "text": [
      "100%|██████████| 352/352 [00:32<00:00, 10.85it/s]\n",
      "100%|██████████| 40/40 [00:02<00:00, 13.69it/s]\n"
     ]
    },
    {
     "name": "stdout",
     "output_type": "stream",
     "text": [
      "Epoch: 4/100, Train Loss: 4.9982, Train Accuracy: 0.8108, Val Loss: 0.7679, Val Accuracy: 0.7886\n"
     ]
    },
    {
     "name": "stderr",
     "output_type": "stream",
     "text": [
      "100%|██████████| 352/352 [00:32<00:00, 10.87it/s]\n",
      "100%|██████████| 40/40 [00:02<00:00, 13.51it/s]\n"
     ]
    },
    {
     "name": "stdout",
     "output_type": "stream",
     "text": [
      "Epoch: 5/100, Train Loss: 4.8362, Train Accuracy: 0.8140, Val Loss: 0.7289, Val Accuracy: 0.7992\n"
     ]
    },
    {
     "name": "stderr",
     "output_type": "stream",
     "text": [
      "100%|██████████| 352/352 [00:32<00:00, 10.89it/s]\n",
      "100%|██████████| 40/40 [00:02<00:00, 13.66it/s]\n"
     ]
    },
    {
     "name": "stdout",
     "output_type": "stream",
     "text": [
      "Epoch: 6/100, Train Loss: 4.7622, Train Accuracy: 0.8150, Val Loss: 0.6923, Val Accuracy: 0.8086\n"
     ]
    },
    {
     "name": "stderr",
     "output_type": "stream",
     "text": [
      "100%|██████████| 352/352 [00:32<00:00, 10.89it/s]\n",
      "100%|██████████| 40/40 [00:02<00:00, 13.65it/s]\n"
     ]
    },
    {
     "name": "stdout",
     "output_type": "stream",
     "text": [
      "Epoch: 7/100, Train Loss: 4.6568, Train Accuracy: 0.8164, Val Loss: 0.6737, Val Accuracy: 0.8080\n"
     ]
    },
    {
     "name": "stderr",
     "output_type": "stream",
     "text": [
      "100%|██████████| 352/352 [00:32<00:00, 10.84it/s]\n",
      "100%|██████████| 40/40 [00:02<00:00, 13.63it/s]\n"
     ]
    },
    {
     "name": "stdout",
     "output_type": "stream",
     "text": [
      "Epoch: 8/100, Train Loss: 4.5362, Train Accuracy: 0.8217, Val Loss: 0.7120, Val Accuracy: 0.8018\n"
     ]
    },
    {
     "name": "stderr",
     "output_type": "stream",
     "text": [
      "100%|██████████| 352/352 [00:32<00:00, 10.90it/s]\n",
      "100%|██████████| 40/40 [00:02<00:00, 13.63it/s]\n"
     ]
    },
    {
     "name": "stdout",
     "output_type": "stream",
     "text": [
      "Epoch: 9/100, Train Loss: 4.4994, Train Accuracy: 0.8229, Val Loss: 0.6681, Val Accuracy: 0.8084\n"
     ]
    },
    {
     "name": "stderr",
     "output_type": "stream",
     "text": [
      "100%|██████████| 352/352 [00:32<00:00, 10.87it/s]\n",
      "100%|██████████| 40/40 [00:02<00:00, 13.55it/s]\n"
     ]
    },
    {
     "name": "stdout",
     "output_type": "stream",
     "text": [
      "Epoch: 10/100, Train Loss: 4.4133, Train Accuracy: 0.8236, Val Loss: 0.6715, Val Accuracy: 0.8094\n"
     ]
    },
    {
     "name": "stderr",
     "output_type": "stream",
     "text": [
      "100%|██████████| 352/352 [00:32<00:00, 10.85it/s]\n",
      "100%|██████████| 40/40 [00:02<00:00, 13.63it/s]\n"
     ]
    },
    {
     "name": "stdout",
     "output_type": "stream",
     "text": [
      "Epoch: 11/100, Train Loss: 4.3068, Train Accuracy: 0.8270, Val Loss: 0.6335, Val Accuracy: 0.8146\n"
     ]
    },
    {
     "name": "stderr",
     "output_type": "stream",
     "text": [
      "100%|██████████| 352/352 [00:32<00:00, 10.86it/s]\n",
      "100%|██████████| 40/40 [00:02<00:00, 13.51it/s]\n"
     ]
    },
    {
     "name": "stdout",
     "output_type": "stream",
     "text": [
      "Epoch: 12/100, Train Loss: 4.2616, Train Accuracy: 0.8290, Val Loss: 0.6758, Val Accuracy: 0.8186\n"
     ]
    },
    {
     "name": "stderr",
     "output_type": "stream",
     "text": [
      "100%|██████████| 352/352 [00:32<00:00, 10.84it/s]\n",
      "100%|██████████| 40/40 [00:02<00:00, 13.61it/s]\n"
     ]
    },
    {
     "name": "stdout",
     "output_type": "stream",
     "text": [
      "Epoch: 13/100, Train Loss: 4.2002, Train Accuracy: 0.8299, Val Loss: 0.7118, Val Accuracy: 0.8042\n"
     ]
    },
    {
     "name": "stderr",
     "output_type": "stream",
     "text": [
      "100%|██████████| 352/352 [00:32<00:00, 10.88it/s]\n",
      "100%|██████████| 40/40 [00:02<00:00, 13.67it/s]\n"
     ]
    },
    {
     "name": "stdout",
     "output_type": "stream",
     "text": [
      "Epoch: 14/100, Train Loss: 4.1272, Train Accuracy: 0.8337, Val Loss: 0.6536, Val Accuracy: 0.8188\n"
     ]
    },
    {
     "name": "stderr",
     "output_type": "stream",
     "text": [
      "100%|██████████| 352/352 [00:32<00:00, 10.87it/s]\n",
      "100%|██████████| 40/40 [00:02<00:00, 13.66it/s]\n"
     ]
    },
    {
     "name": "stdout",
     "output_type": "stream",
     "text": [
      "Epoch: 15/100, Train Loss: 4.0899, Train Accuracy: 0.8333, Val Loss: 0.7336, Val Accuracy: 0.7964\n"
     ]
    },
    {
     "name": "stderr",
     "output_type": "stream",
     "text": [
      "100%|██████████| 352/352 [03:07<00:00,  1.88it/s]\n",
      "100%|██████████| 40/40 [00:16<00:00,  2.39it/s]\n"
     ]
    },
    {
     "name": "stdout",
     "output_type": "stream",
     "text": [
      "Epoch: 16/100, Train Loss: 4.0234, Train Accuracy: 0.8367, Val Loss: 0.6272, Val Accuracy: 0.8184\n"
     ]
    },
    {
     "name": "stderr",
     "output_type": "stream",
     "text": [
      "100%|██████████| 352/352 [00:27<00:00, 12.98it/s]\n",
      "100%|██████████| 40/40 [00:02<00:00, 16.15it/s]\n"
     ]
    },
    {
     "name": "stdout",
     "output_type": "stream",
     "text": [
      "Epoch: 17/100, Train Loss: 3.9673, Train Accuracy: 0.8349, Val Loss: 0.6950, Val Accuracy: 0.8078\n"
     ]
    },
    {
     "name": "stderr",
     "output_type": "stream",
     "text": [
      "100%|██████████| 352/352 [00:27<00:00, 12.92it/s]\n",
      "100%|██████████| 40/40 [00:02<00:00, 16.15it/s]\n"
     ]
    },
    {
     "name": "stdout",
     "output_type": "stream",
     "text": [
      "Epoch: 18/100, Train Loss: 3.9674, Train Accuracy: 0.8349, Val Loss: 0.6056, Val Accuracy: 0.8248\n"
     ]
    },
    {
     "name": "stderr",
     "output_type": "stream",
     "text": [
      "100%|██████████| 352/352 [00:27<00:00, 12.85it/s]\n",
      "100%|██████████| 40/40 [00:02<00:00, 16.10it/s]\n"
     ]
    },
    {
     "name": "stdout",
     "output_type": "stream",
     "text": [
      "Epoch: 19/100, Train Loss: 3.9024, Train Accuracy: 0.8374, Val Loss: 0.7019, Val Accuracy: 0.8100\n"
     ]
    },
    {
     "name": "stderr",
     "output_type": "stream",
     "text": [
      "100%|██████████| 352/352 [00:27<00:00, 12.86it/s]\n",
      "100%|██████████| 40/40 [00:02<00:00, 16.10it/s]\n"
     ]
    },
    {
     "name": "stdout",
     "output_type": "stream",
     "text": [
      "Epoch: 20/100, Train Loss: 3.8439, Train Accuracy: 0.8391, Val Loss: 0.6354, Val Accuracy: 0.8182\n"
     ]
    },
    {
     "name": "stderr",
     "output_type": "stream",
     "text": [
      "100%|██████████| 352/352 [00:27<00:00, 12.82it/s]\n",
      "100%|██████████| 40/40 [00:02<00:00, 16.06it/s]\n"
     ]
    },
    {
     "name": "stdout",
     "output_type": "stream",
     "text": [
      "Epoch: 21/100, Train Loss: 3.8370, Train Accuracy: 0.8410, Val Loss: 0.6370, Val Accuracy: 0.8224\n"
     ]
    },
    {
     "name": "stderr",
     "output_type": "stream",
     "text": [
      "100%|██████████| 352/352 [00:27<00:00, 12.81it/s]\n",
      "100%|██████████| 40/40 [00:02<00:00, 16.07it/s]\n"
     ]
    },
    {
     "name": "stdout",
     "output_type": "stream",
     "text": [
      "Epoch: 22/100, Train Loss: 3.8106, Train Accuracy: 0.8403, Val Loss: 0.6331, Val Accuracy: 0.8174\n"
     ]
    },
    {
     "name": "stderr",
     "output_type": "stream",
     "text": [
      "100%|██████████| 352/352 [00:27<00:00, 12.82it/s]\n",
      "100%|██████████| 40/40 [00:02<00:00, 15.92it/s]\n"
     ]
    },
    {
     "name": "stdout",
     "output_type": "stream",
     "text": [
      "Epoch: 23/100, Train Loss: 3.7487, Train Accuracy: 0.8422, Val Loss: 0.5609, Val Accuracy: 0.8310\n"
     ]
    },
    {
     "name": "stderr",
     "output_type": "stream",
     "text": [
      "100%|██████████| 352/352 [00:27<00:00, 12.79it/s]\n",
      "100%|██████████| 40/40 [00:02<00:00, 16.05it/s]\n"
     ]
    },
    {
     "name": "stdout",
     "output_type": "stream",
     "text": [
      "Epoch: 24/100, Train Loss: 3.7103, Train Accuracy: 0.8435, Val Loss: 0.5802, Val Accuracy: 0.8338\n"
     ]
    },
    {
     "name": "stderr",
     "output_type": "stream",
     "text": [
      "100%|██████████| 352/352 [00:27<00:00, 12.82it/s]\n",
      "100%|██████████| 40/40 [00:02<00:00, 16.05it/s]\n"
     ]
    },
    {
     "name": "stdout",
     "output_type": "stream",
     "text": [
      "Epoch: 25/100, Train Loss: 3.6729, Train Accuracy: 0.8456, Val Loss: 0.5809, Val Accuracy: 0.8296\n"
     ]
    },
    {
     "name": "stderr",
     "output_type": "stream",
     "text": [
      "100%|██████████| 352/352 [00:27<00:00, 12.78it/s]\n",
      "100%|██████████| 40/40 [00:02<00:00, 15.98it/s]\n"
     ]
    },
    {
     "name": "stdout",
     "output_type": "stream",
     "text": [
      "Epoch: 26/100, Train Loss: 3.6313, Train Accuracy: 0.8478, Val Loss: 0.6319, Val Accuracy: 0.8228\n"
     ]
    },
    {
     "name": "stderr",
     "output_type": "stream",
     "text": [
      "100%|██████████| 352/352 [00:27<00:00, 12.80it/s]\n",
      "100%|██████████| 40/40 [00:02<00:00, 16.01it/s]\n"
     ]
    },
    {
     "name": "stdout",
     "output_type": "stream",
     "text": [
      "Epoch: 27/100, Train Loss: 3.6255, Train Accuracy: 0.8472, Val Loss: 0.6308, Val Accuracy: 0.8178\n"
     ]
    },
    {
     "name": "stderr",
     "output_type": "stream",
     "text": [
      "100%|██████████| 352/352 [00:27<00:00, 12.80it/s]\n",
      "100%|██████████| 40/40 [00:02<00:00, 15.96it/s]\n"
     ]
    },
    {
     "name": "stdout",
     "output_type": "stream",
     "text": [
      "Epoch: 28/100, Train Loss: 3.5899, Train Accuracy: 0.8474, Val Loss: 0.5648, Val Accuracy: 0.8358\n"
     ]
    },
    {
     "name": "stderr",
     "output_type": "stream",
     "text": [
      "100%|██████████| 352/352 [00:27<00:00, 12.79it/s]\n",
      "100%|██████████| 40/40 [00:02<00:00, 16.01it/s]\n"
     ]
    },
    {
     "name": "stdout",
     "output_type": "stream",
     "text": [
      "Epoch: 29/100, Train Loss: 3.5504, Train Accuracy: 0.8484, Val Loss: 0.6011, Val Accuracy: 0.8310\n"
     ]
    },
    {
     "name": "stderr",
     "output_type": "stream",
     "text": [
      "100%|██████████| 352/352 [00:27<00:00, 12.77it/s]\n",
      "100%|██████████| 40/40 [00:02<00:00, 15.98it/s]\n"
     ]
    },
    {
     "name": "stdout",
     "output_type": "stream",
     "text": [
      "Epoch: 30/100, Train Loss: 3.5124, Train Accuracy: 0.8491, Val Loss: 0.5532, Val Accuracy: 0.8330\n"
     ]
    },
    {
     "name": "stderr",
     "output_type": "stream",
     "text": [
      "100%|██████████| 352/352 [00:27<00:00, 12.74it/s]\n",
      "100%|██████████| 40/40 [00:02<00:00, 15.97it/s]\n"
     ]
    },
    {
     "name": "stdout",
     "output_type": "stream",
     "text": [
      "Epoch: 31/100, Train Loss: 3.5306, Train Accuracy: 0.8519, Val Loss: 0.6078, Val Accuracy: 0.8320\n"
     ]
    },
    {
     "name": "stderr",
     "output_type": "stream",
     "text": [
      "100%|██████████| 352/352 [00:27<00:00, 12.75it/s]\n",
      "100%|██████████| 40/40 [00:02<00:00, 15.98it/s]\n"
     ]
    },
    {
     "name": "stdout",
     "output_type": "stream",
     "text": [
      "Epoch: 32/100, Train Loss: 3.4646, Train Accuracy: 0.8511, Val Loss: 0.6354, Val Accuracy: 0.8284\n"
     ]
    },
    {
     "name": "stderr",
     "output_type": "stream",
     "text": [
      "100%|██████████| 352/352 [00:27<00:00, 12.77it/s]\n",
      "100%|██████████| 40/40 [00:02<00:00, 15.96it/s]\n"
     ]
    },
    {
     "name": "stdout",
     "output_type": "stream",
     "text": [
      "Epoch: 33/100, Train Loss: 3.4633, Train Accuracy: 0.8534, Val Loss: 0.5741, Val Accuracy: 0.8380\n"
     ]
    },
    {
     "name": "stderr",
     "output_type": "stream",
     "text": [
      "100%|██████████| 352/352 [00:27<00:00, 12.76it/s]\n",
      "100%|██████████| 40/40 [00:02<00:00, 15.92it/s]\n"
     ]
    },
    {
     "name": "stdout",
     "output_type": "stream",
     "text": [
      "Epoch: 34/100, Train Loss: 3.4620, Train Accuracy: 0.8515, Val Loss: 0.5733, Val Accuracy: 0.8378\n"
     ]
    },
    {
     "name": "stderr",
     "output_type": "stream",
     "text": [
      "100%|██████████| 352/352 [00:27<00:00, 12.75it/s]\n",
      "100%|██████████| 40/40 [00:02<00:00, 15.96it/s]\n"
     ]
    },
    {
     "name": "stdout",
     "output_type": "stream",
     "text": [
      "Epoch: 35/100, Train Loss: 3.4009, Train Accuracy: 0.8534, Val Loss: 0.5287, Val Accuracy: 0.8390\n"
     ]
    },
    {
     "name": "stderr",
     "output_type": "stream",
     "text": [
      "100%|██████████| 352/352 [00:27<00:00, 12.75it/s]\n",
      "100%|██████████| 40/40 [00:02<00:00, 15.97it/s]\n"
     ]
    },
    {
     "name": "stdout",
     "output_type": "stream",
     "text": [
      "Epoch: 36/100, Train Loss: 3.3891, Train Accuracy: 0.8537, Val Loss: 0.5521, Val Accuracy: 0.8346\n"
     ]
    },
    {
     "name": "stderr",
     "output_type": "stream",
     "text": [
      "100%|██████████| 352/352 [00:27<00:00, 12.77it/s]\n",
      "100%|██████████| 40/40 [00:02<00:00, 16.01it/s]\n"
     ]
    },
    {
     "name": "stdout",
     "output_type": "stream",
     "text": [
      "Epoch: 37/100, Train Loss: 3.3842, Train Accuracy: 0.8559, Val Loss: 0.5380, Val Accuracy: 0.8436\n"
     ]
    },
    {
     "name": "stderr",
     "output_type": "stream",
     "text": [
      "100%|██████████| 352/352 [00:27<00:00, 12.77it/s]\n",
      "100%|██████████| 40/40 [00:02<00:00, 15.92it/s]\n"
     ]
    },
    {
     "name": "stdout",
     "output_type": "stream",
     "text": [
      "Epoch: 38/100, Train Loss: 3.3479, Train Accuracy: 0.8558, Val Loss: 0.5378, Val Accuracy: 0.8434\n"
     ]
    },
    {
     "name": "stderr",
     "output_type": "stream",
     "text": [
      "100%|██████████| 352/352 [00:27<00:00, 12.75it/s]\n",
      "100%|██████████| 40/40 [00:02<00:00, 15.95it/s]\n"
     ]
    },
    {
     "name": "stdout",
     "output_type": "stream",
     "text": [
      "Epoch: 39/100, Train Loss: 3.3223, Train Accuracy: 0.8576, Val Loss: 0.5593, Val Accuracy: 0.8370\n"
     ]
    },
    {
     "name": "stderr",
     "output_type": "stream",
     "text": [
      "100%|██████████| 352/352 [00:27<00:00, 12.75it/s]\n",
      "100%|██████████| 40/40 [00:02<00:00, 15.99it/s]\n"
     ]
    },
    {
     "name": "stdout",
     "output_type": "stream",
     "text": [
      "Epoch: 40/100, Train Loss: 3.3120, Train Accuracy: 0.8584, Val Loss: 0.5527, Val Accuracy: 0.8392\n"
     ]
    },
    {
     "name": "stderr",
     "output_type": "stream",
     "text": [
      "100%|██████████| 352/352 [00:27<00:00, 12.77it/s]\n",
      "100%|██████████| 40/40 [00:02<00:00, 15.98it/s]\n"
     ]
    },
    {
     "name": "stdout",
     "output_type": "stream",
     "text": [
      "Epoch: 41/100, Train Loss: 3.2755, Train Accuracy: 0.8588, Val Loss: 0.5347, Val Accuracy: 0.8456\n"
     ]
    },
    {
     "name": "stderr",
     "output_type": "stream",
     "text": [
      "100%|██████████| 352/352 [00:27<00:00, 12.79it/s]\n",
      "100%|██████████| 40/40 [00:02<00:00, 15.96it/s]\n"
     ]
    },
    {
     "name": "stdout",
     "output_type": "stream",
     "text": [
      "Epoch: 42/100, Train Loss: 3.2666, Train Accuracy: 0.8599, Val Loss: 0.5144, Val Accuracy: 0.8522\n"
     ]
    },
    {
     "name": "stderr",
     "output_type": "stream",
     "text": [
      "100%|██████████| 352/352 [00:27<00:00, 12.77it/s]\n",
      "100%|██████████| 40/40 [00:02<00:00, 16.03it/s]\n"
     ]
    },
    {
     "name": "stdout",
     "output_type": "stream",
     "text": [
      "Epoch: 43/100, Train Loss: 3.2386, Train Accuracy: 0.8607, Val Loss: 0.5260, Val Accuracy: 0.8494\n"
     ]
    },
    {
     "name": "stderr",
     "output_type": "stream",
     "text": [
      "100%|██████████| 352/352 [00:27<00:00, 12.76it/s]\n",
      "100%|██████████| 40/40 [00:02<00:00, 15.98it/s]\n"
     ]
    },
    {
     "name": "stdout",
     "output_type": "stream",
     "text": [
      "Epoch: 44/100, Train Loss: 3.2242, Train Accuracy: 0.8614, Val Loss: 0.4981, Val Accuracy: 0.8544\n"
     ]
    },
    {
     "name": "stderr",
     "output_type": "stream",
     "text": [
      "100%|██████████| 352/352 [00:27<00:00, 12.75it/s]\n",
      "100%|██████████| 40/40 [00:02<00:00, 15.94it/s]\n"
     ]
    },
    {
     "name": "stdout",
     "output_type": "stream",
     "text": [
      "Epoch: 45/100, Train Loss: 3.2269, Train Accuracy: 0.8614, Val Loss: 0.5163, Val Accuracy: 0.8460\n"
     ]
    },
    {
     "name": "stderr",
     "output_type": "stream",
     "text": [
      "100%|██████████| 352/352 [00:27<00:00, 12.74it/s]\n",
      "100%|██████████| 40/40 [00:02<00:00, 15.95it/s]\n"
     ]
    },
    {
     "name": "stdout",
     "output_type": "stream",
     "text": [
      "Epoch: 46/100, Train Loss: 3.1783, Train Accuracy: 0.8624, Val Loss: 0.5700, Val Accuracy: 0.8350\n"
     ]
    },
    {
     "name": "stderr",
     "output_type": "stream",
     "text": [
      "100%|██████████| 352/352 [00:27<00:00, 12.74it/s]\n",
      "100%|██████████| 40/40 [00:02<00:00, 15.98it/s]\n"
     ]
    },
    {
     "name": "stdout",
     "output_type": "stream",
     "text": [
      "Epoch: 47/100, Train Loss: 3.1741, Train Accuracy: 0.8628, Val Loss: 0.5009, Val Accuracy: 0.8524\n"
     ]
    },
    {
     "name": "stderr",
     "output_type": "stream",
     "text": [
      "100%|██████████| 352/352 [00:27<00:00, 12.75it/s]\n",
      "100%|██████████| 40/40 [00:02<00:00, 15.98it/s]\n"
     ]
    },
    {
     "name": "stdout",
     "output_type": "stream",
     "text": [
      "Epoch: 48/100, Train Loss: 3.1605, Train Accuracy: 0.8628, Val Loss: 0.5250, Val Accuracy: 0.8436\n"
     ]
    },
    {
     "name": "stderr",
     "output_type": "stream",
     "text": [
      "100%|██████████| 352/352 [00:27<00:00, 12.77it/s]\n",
      "100%|██████████| 40/40 [00:02<00:00, 15.98it/s]\n"
     ]
    },
    {
     "name": "stdout",
     "output_type": "stream",
     "text": [
      "Epoch: 49/100, Train Loss: 3.1604, Train Accuracy: 0.8630, Val Loss: 0.5353, Val Accuracy: 0.8398\n"
     ]
    },
    {
     "name": "stderr",
     "output_type": "stream",
     "text": [
      "100%|██████████| 352/352 [00:27<00:00, 12.77it/s]\n",
      "100%|██████████| 40/40 [00:02<00:00, 15.91it/s]\n"
     ]
    },
    {
     "name": "stdout",
     "output_type": "stream",
     "text": [
      "Epoch: 50/100, Train Loss: 3.1357, Train Accuracy: 0.8641, Val Loss: 0.4882, Val Accuracy: 0.8522\n"
     ]
    },
    {
     "name": "stderr",
     "output_type": "stream",
     "text": [
      "100%|██████████| 352/352 [00:27<00:00, 12.78it/s]\n",
      "100%|██████████| 40/40 [00:02<00:00, 16.01it/s]\n"
     ]
    },
    {
     "name": "stdout",
     "output_type": "stream",
     "text": [
      "Epoch: 51/100, Train Loss: 3.1034, Train Accuracy: 0.8658, Val Loss: 0.5160, Val Accuracy: 0.8460\n"
     ]
    },
    {
     "name": "stderr",
     "output_type": "stream",
     "text": [
      "100%|██████████| 352/352 [00:27<00:00, 12.82it/s]\n",
      "100%|██████████| 40/40 [00:02<00:00, 16.02it/s]\n"
     ]
    },
    {
     "name": "stdout",
     "output_type": "stream",
     "text": [
      "Epoch: 52/100, Train Loss: 3.1100, Train Accuracy: 0.8650, Val Loss: 0.5180, Val Accuracy: 0.8462\n"
     ]
    },
    {
     "name": "stderr",
     "output_type": "stream",
     "text": [
      "100%|██████████| 352/352 [00:27<00:00, 12.78it/s]\n",
      "100%|██████████| 40/40 [00:02<00:00, 15.95it/s]\n"
     ]
    },
    {
     "name": "stdout",
     "output_type": "stream",
     "text": [
      "Epoch: 53/100, Train Loss: 3.0921, Train Accuracy: 0.8651, Val Loss: 0.5384, Val Accuracy: 0.8466\n"
     ]
    },
    {
     "name": "stderr",
     "output_type": "stream",
     "text": [
      "100%|██████████| 352/352 [00:27<00:00, 12.75it/s]\n",
      "100%|██████████| 40/40 [00:02<00:00, 16.01it/s]\n"
     ]
    },
    {
     "name": "stdout",
     "output_type": "stream",
     "text": [
      "Epoch: 54/100, Train Loss: 3.0686, Train Accuracy: 0.8672, Val Loss: 0.4920, Val Accuracy: 0.8514\n"
     ]
    },
    {
     "name": "stderr",
     "output_type": "stream",
     "text": [
      "100%|██████████| 352/352 [00:27<00:00, 12.72it/s]\n",
      "100%|██████████| 40/40 [00:02<00:00, 15.94it/s]\n"
     ]
    },
    {
     "name": "stdout",
     "output_type": "stream",
     "text": [
      "Epoch: 55/100, Train Loss: 3.0681, Train Accuracy: 0.8678, Val Loss: 0.5248, Val Accuracy: 0.8444\n"
     ]
    },
    {
     "name": "stderr",
     "output_type": "stream",
     "text": [
      "100%|██████████| 352/352 [00:27<00:00, 12.76it/s]\n",
      "100%|██████████| 40/40 [00:02<00:00, 15.87it/s]\n"
     ]
    },
    {
     "name": "stdout",
     "output_type": "stream",
     "text": [
      "Epoch: 56/100, Train Loss: 3.0633, Train Accuracy: 0.8676, Val Loss: 0.4929, Val Accuracy: 0.8530\n"
     ]
    },
    {
     "name": "stderr",
     "output_type": "stream",
     "text": [
      "100%|██████████| 352/352 [00:27<00:00, 12.71it/s]\n",
      "100%|██████████| 40/40 [00:02<00:00, 16.00it/s]\n"
     ]
    },
    {
     "name": "stdout",
     "output_type": "stream",
     "text": [
      "Epoch: 57/100, Train Loss: 3.0351, Train Accuracy: 0.8686, Val Loss: 0.5147, Val Accuracy: 0.8450\n"
     ]
    },
    {
     "name": "stderr",
     "output_type": "stream",
     "text": [
      "100%|██████████| 352/352 [00:27<00:00, 12.77it/s]\n",
      "100%|██████████| 40/40 [00:02<00:00, 15.99it/s]\n"
     ]
    },
    {
     "name": "stdout",
     "output_type": "stream",
     "text": [
      "Epoch: 58/100, Train Loss: 3.0231, Train Accuracy: 0.8690, Val Loss: 0.5362, Val Accuracy: 0.8460\n"
     ]
    },
    {
     "name": "stderr",
     "output_type": "stream",
     "text": [
      "100%|██████████| 352/352 [00:27<00:00, 12.75it/s]\n",
      "100%|██████████| 40/40 [00:02<00:00, 15.98it/s]\n"
     ]
    },
    {
     "name": "stdout",
     "output_type": "stream",
     "text": [
      "Epoch: 59/100, Train Loss: 3.0013, Train Accuracy: 0.8682, Val Loss: 0.4948, Val Accuracy: 0.8534\n"
     ]
    },
    {
     "name": "stderr",
     "output_type": "stream",
     "text": [
      "100%|██████████| 352/352 [00:27<00:00, 12.73it/s]\n",
      "100%|██████████| 40/40 [00:02<00:00, 15.97it/s]\n"
     ]
    },
    {
     "name": "stdout",
     "output_type": "stream",
     "text": [
      "Epoch: 60/100, Train Loss: 2.9827, Train Accuracy: 0.8702, Val Loss: 0.4510, Val Accuracy: 0.8608\n"
     ]
    },
    {
     "name": "stderr",
     "output_type": "stream",
     "text": [
      "100%|██████████| 352/352 [00:27<00:00, 12.72it/s]\n",
      "100%|██████████| 40/40 [00:02<00:00, 15.97it/s]\n"
     ]
    },
    {
     "name": "stdout",
     "output_type": "stream",
     "text": [
      "Epoch: 61/100, Train Loss: 2.9685, Train Accuracy: 0.8709, Val Loss: 0.5259, Val Accuracy: 0.8508\n"
     ]
    },
    {
     "name": "stderr",
     "output_type": "stream",
     "text": [
      "100%|██████████| 352/352 [00:27<00:00, 12.77it/s]\n",
      "100%|██████████| 40/40 [00:02<00:00, 16.01it/s]\n"
     ]
    },
    {
     "name": "stdout",
     "output_type": "stream",
     "text": [
      "Epoch: 62/100, Train Loss: 2.9866, Train Accuracy: 0.8710, Val Loss: 0.4911, Val Accuracy: 0.8500\n"
     ]
    },
    {
     "name": "stderr",
     "output_type": "stream",
     "text": [
      "100%|██████████| 352/352 [00:27<00:00, 12.73it/s]\n",
      "100%|██████████| 40/40 [00:02<00:00, 15.89it/s]\n"
     ]
    },
    {
     "name": "stdout",
     "output_type": "stream",
     "text": [
      "Epoch: 63/100, Train Loss: 2.9672, Train Accuracy: 0.8719, Val Loss: 0.4989, Val Accuracy: 0.8494\n"
     ]
    },
    {
     "name": "stderr",
     "output_type": "stream",
     "text": [
      "100%|██████████| 352/352 [00:27<00:00, 12.76it/s]\n",
      "100%|██████████| 40/40 [00:02<00:00, 15.98it/s]\n"
     ]
    },
    {
     "name": "stdout",
     "output_type": "stream",
     "text": [
      "Epoch: 64/100, Train Loss: 2.9596, Train Accuracy: 0.8705, Val Loss: 0.4821, Val Accuracy: 0.8550\n"
     ]
    },
    {
     "name": "stderr",
     "output_type": "stream",
     "text": [
      "100%|██████████| 352/352 [00:27<00:00, 12.73it/s]\n",
      "100%|██████████| 40/40 [00:02<00:00, 15.98it/s]\n"
     ]
    },
    {
     "name": "stdout",
     "output_type": "stream",
     "text": [
      "Epoch: 65/100, Train Loss: 2.9342, Train Accuracy: 0.8718, Val Loss: 0.4868, Val Accuracy: 0.8522\n"
     ]
    },
    {
     "name": "stderr",
     "output_type": "stream",
     "text": [
      "100%|██████████| 352/352 [00:27<00:00, 12.75it/s]\n",
      "100%|██████████| 40/40 [00:02<00:00, 16.04it/s]\n"
     ]
    },
    {
     "name": "stdout",
     "output_type": "stream",
     "text": [
      "Epoch: 66/100, Train Loss: 2.9533, Train Accuracy: 0.8720, Val Loss: 0.4727, Val Accuracy: 0.8566\n"
     ]
    },
    {
     "name": "stderr",
     "output_type": "stream",
     "text": [
      "100%|██████████| 352/352 [00:27<00:00, 12.71it/s]\n",
      "100%|██████████| 40/40 [00:02<00:00, 15.98it/s]\n"
     ]
    },
    {
     "name": "stdout",
     "output_type": "stream",
     "text": [
      "Epoch: 67/100, Train Loss: 2.9210, Train Accuracy: 0.8711, Val Loss: 0.5129, Val Accuracy: 0.8524\n"
     ]
    },
    {
     "name": "stderr",
     "output_type": "stream",
     "text": [
      "100%|██████████| 352/352 [00:27<00:00, 12.73it/s]\n",
      "100%|██████████| 40/40 [00:02<00:00, 15.96it/s]\n"
     ]
    },
    {
     "name": "stdout",
     "output_type": "stream",
     "text": [
      "Epoch: 68/100, Train Loss: 2.9262, Train Accuracy: 0.8714, Val Loss: 0.4679, Val Accuracy: 0.8560\n"
     ]
    },
    {
     "name": "stderr",
     "output_type": "stream",
     "text": [
      "100%|██████████| 352/352 [00:27<00:00, 12.72it/s]\n",
      "100%|██████████| 40/40 [00:02<00:00, 15.95it/s]\n"
     ]
    },
    {
     "name": "stdout",
     "output_type": "stream",
     "text": [
      "Epoch: 69/100, Train Loss: 2.9018, Train Accuracy: 0.8743, Val Loss: 0.4950, Val Accuracy: 0.8498\n"
     ]
    },
    {
     "name": "stderr",
     "output_type": "stream",
     "text": [
      "100%|██████████| 352/352 [00:27<00:00, 12.73it/s]\n",
      "100%|██████████| 40/40 [00:02<00:00, 16.00it/s]\n"
     ]
    },
    {
     "name": "stdout",
     "output_type": "stream",
     "text": [
      "Epoch: 70/100, Train Loss: 2.8881, Train Accuracy: 0.8732, Val Loss: 0.4988, Val Accuracy: 0.8530\n"
     ]
    },
    {
     "name": "stderr",
     "output_type": "stream",
     "text": [
      "100%|██████████| 352/352 [00:27<00:00, 12.75it/s]\n",
      "100%|██████████| 40/40 [00:02<00:00, 16.00it/s]\n"
     ]
    },
    {
     "name": "stdout",
     "output_type": "stream",
     "text": [
      "Epoch: 71/100, Train Loss: 2.8566, Train Accuracy: 0.8746, Val Loss: 0.4903, Val Accuracy: 0.8536\n"
     ]
    },
    {
     "name": "stderr",
     "output_type": "stream",
     "text": [
      "100%|██████████| 352/352 [00:27<00:00, 12.75it/s]\n",
      "100%|██████████| 40/40 [00:02<00:00, 15.98it/s]\n"
     ]
    },
    {
     "name": "stdout",
     "output_type": "stream",
     "text": [
      "Epoch: 72/100, Train Loss: 2.8807, Train Accuracy: 0.8745, Val Loss: 0.4699, Val Accuracy: 0.8578\n"
     ]
    },
    {
     "name": "stderr",
     "output_type": "stream",
     "text": [
      "100%|██████████| 352/352 [00:27<00:00, 12.77it/s]\n",
      "100%|██████████| 40/40 [00:02<00:00, 15.97it/s]\n"
     ]
    },
    {
     "name": "stdout",
     "output_type": "stream",
     "text": [
      "Epoch: 73/100, Train Loss: 2.8844, Train Accuracy: 0.8739, Val Loss: 0.4567, Val Accuracy: 0.8594\n"
     ]
    },
    {
     "name": "stderr",
     "output_type": "stream",
     "text": [
      "100%|██████████| 352/352 [00:27<00:00, 12.73it/s]\n",
      "100%|██████████| 40/40 [00:02<00:00, 15.90it/s]\n"
     ]
    },
    {
     "name": "stdout",
     "output_type": "stream",
     "text": [
      "Epoch: 74/100, Train Loss: 2.8383, Train Accuracy: 0.8763, Val Loss: 0.4703, Val Accuracy: 0.8530\n"
     ]
    },
    {
     "name": "stderr",
     "output_type": "stream",
     "text": [
      "100%|██████████| 352/352 [00:27<00:00, 12.76it/s]\n",
      "100%|██████████| 40/40 [00:02<00:00, 15.97it/s]\n"
     ]
    },
    {
     "name": "stdout",
     "output_type": "stream",
     "text": [
      "Epoch: 75/100, Train Loss: 2.8543, Train Accuracy: 0.8755, Val Loss: 0.4778, Val Accuracy: 0.8590\n"
     ]
    },
    {
     "name": "stderr",
     "output_type": "stream",
     "text": [
      "100%|██████████| 352/352 [00:27<00:00, 12.72it/s]\n",
      "100%|██████████| 40/40 [00:02<00:00, 15.91it/s]\n"
     ]
    },
    {
     "name": "stdout",
     "output_type": "stream",
     "text": [
      "Epoch: 76/100, Train Loss: 2.8361, Train Accuracy: 0.8767, Val Loss: 0.4779, Val Accuracy: 0.8538\n"
     ]
    },
    {
     "name": "stderr",
     "output_type": "stream",
     "text": [
      "100%|██████████| 352/352 [00:27<00:00, 12.72it/s]\n",
      "100%|██████████| 40/40 [00:02<00:00, 15.97it/s]\n"
     ]
    },
    {
     "name": "stdout",
     "output_type": "stream",
     "text": [
      "Epoch: 77/100, Train Loss: 2.8245, Train Accuracy: 0.8776, Val Loss: 0.4689, Val Accuracy: 0.8582\n"
     ]
    },
    {
     "name": "stderr",
     "output_type": "stream",
     "text": [
      "100%|██████████| 352/352 [00:27<00:00, 12.73it/s]\n",
      "100%|██████████| 40/40 [00:02<00:00, 15.88it/s]\n"
     ]
    },
    {
     "name": "stdout",
     "output_type": "stream",
     "text": [
      "Epoch: 78/100, Train Loss: 2.8323, Train Accuracy: 0.8765, Val Loss: 0.4394, Val Accuracy: 0.8626\n"
     ]
    },
    {
     "name": "stderr",
     "output_type": "stream",
     "text": [
      "100%|██████████| 352/352 [00:27<00:00, 12.72it/s]\n",
      "100%|██████████| 40/40 [00:02<00:00, 15.93it/s]\n"
     ]
    },
    {
     "name": "stdout",
     "output_type": "stream",
     "text": [
      "Epoch: 79/100, Train Loss: 2.7880, Train Accuracy: 0.8777, Val Loss: 0.4471, Val Accuracy: 0.8600\n"
     ]
    },
    {
     "name": "stderr",
     "output_type": "stream",
     "text": [
      "100%|██████████| 352/352 [00:27<00:00, 12.75it/s]\n",
      "100%|██████████| 40/40 [00:02<00:00, 15.87it/s]\n"
     ]
    },
    {
     "name": "stdout",
     "output_type": "stream",
     "text": [
      "Epoch: 80/100, Train Loss: 2.7936, Train Accuracy: 0.8784, Val Loss: 0.5338, Val Accuracy: 0.8438\n"
     ]
    },
    {
     "name": "stderr",
     "output_type": "stream",
     "text": [
      "100%|██████████| 352/352 [00:27<00:00, 12.74it/s]\n",
      "100%|██████████| 40/40 [00:02<00:00, 15.88it/s]\n"
     ]
    },
    {
     "name": "stdout",
     "output_type": "stream",
     "text": [
      "Epoch: 81/100, Train Loss: 2.7744, Train Accuracy: 0.8787, Val Loss: 0.4471, Val Accuracy: 0.8688\n"
     ]
    },
    {
     "name": "stderr",
     "output_type": "stream",
     "text": [
      "100%|██████████| 352/352 [00:27<00:00, 12.71it/s]\n",
      "100%|██████████| 40/40 [00:02<00:00, 15.91it/s]\n"
     ]
    },
    {
     "name": "stdout",
     "output_type": "stream",
     "text": [
      "Epoch: 82/100, Train Loss: 2.7933, Train Accuracy: 0.8777, Val Loss: 0.4727, Val Accuracy: 0.8612\n"
     ]
    },
    {
     "name": "stderr",
     "output_type": "stream",
     "text": [
      "100%|██████████| 352/352 [00:27<00:00, 12.72it/s]\n",
      "100%|██████████| 40/40 [00:02<00:00, 15.91it/s]\n"
     ]
    },
    {
     "name": "stdout",
     "output_type": "stream",
     "text": [
      "Epoch: 83/100, Train Loss: 2.7982, Train Accuracy: 0.8773, Val Loss: 0.4635, Val Accuracy: 0.8592\n"
     ]
    },
    {
     "name": "stderr",
     "output_type": "stream",
     "text": [
      "100%|██████████| 352/352 [00:27<00:00, 12.72it/s]\n",
      "100%|██████████| 40/40 [00:02<00:00, 15.91it/s]\n"
     ]
    },
    {
     "name": "stdout",
     "output_type": "stream",
     "text": [
      "Epoch: 84/100, Train Loss: 2.7603, Train Accuracy: 0.8802, Val Loss: 0.4668, Val Accuracy: 0.8594\n"
     ]
    },
    {
     "name": "stderr",
     "output_type": "stream",
     "text": [
      "100%|██████████| 352/352 [00:27<00:00, 12.70it/s]\n",
      "100%|██████████| 40/40 [00:02<00:00, 15.96it/s]\n"
     ]
    },
    {
     "name": "stdout",
     "output_type": "stream",
     "text": [
      "Epoch: 85/100, Train Loss: 2.7616, Train Accuracy: 0.8800, Val Loss: 0.4360, Val Accuracy: 0.8674\n"
     ]
    },
    {
     "name": "stderr",
     "output_type": "stream",
     "text": [
      "100%|██████████| 352/352 [00:27<00:00, 12.70it/s]\n",
      "100%|██████████| 40/40 [00:02<00:00, 15.96it/s]\n"
     ]
    },
    {
     "name": "stdout",
     "output_type": "stream",
     "text": [
      "Epoch: 86/100, Train Loss: 2.7755, Train Accuracy: 0.8768, Val Loss: 0.4713, Val Accuracy: 0.8586\n"
     ]
    },
    {
     "name": "stderr",
     "output_type": "stream",
     "text": [
      "100%|██████████| 352/352 [00:27<00:00, 12.73it/s]\n",
      "100%|██████████| 40/40 [00:02<00:00, 15.98it/s]\n"
     ]
    },
    {
     "name": "stdout",
     "output_type": "stream",
     "text": [
      "Epoch: 87/100, Train Loss: 2.7332, Train Accuracy: 0.8817, Val Loss: 0.4533, Val Accuracy: 0.8586\n"
     ]
    },
    {
     "name": "stderr",
     "output_type": "stream",
     "text": [
      "100%|██████████| 352/352 [00:27<00:00, 12.74it/s]\n",
      "100%|██████████| 40/40 [00:02<00:00, 15.97it/s]\n"
     ]
    },
    {
     "name": "stdout",
     "output_type": "stream",
     "text": [
      "Epoch: 88/100, Train Loss: 2.7418, Train Accuracy: 0.8821, Val Loss: 0.4261, Val Accuracy: 0.8654\n"
     ]
    },
    {
     "name": "stderr",
     "output_type": "stream",
     "text": [
      "100%|██████████| 352/352 [00:27<00:00, 12.72it/s]\n",
      "100%|██████████| 40/40 [00:02<00:00, 15.94it/s]\n"
     ]
    },
    {
     "name": "stdout",
     "output_type": "stream",
     "text": [
      "Epoch: 89/100, Train Loss: 2.7521, Train Accuracy: 0.8797, Val Loss: 0.4560, Val Accuracy: 0.8574\n"
     ]
    },
    {
     "name": "stderr",
     "output_type": "stream",
     "text": [
      "100%|██████████| 352/352 [00:27<00:00, 12.72it/s]\n",
      "100%|██████████| 40/40 [00:02<00:00, 15.71it/s]\n"
     ]
    },
    {
     "name": "stdout",
     "output_type": "stream",
     "text": [
      "Epoch: 90/100, Train Loss: 2.7207, Train Accuracy: 0.8814, Val Loss: 0.4694, Val Accuracy: 0.8590\n"
     ]
    },
    {
     "name": "stderr",
     "output_type": "stream",
     "text": [
      "100%|██████████| 352/352 [00:27<00:00, 12.69it/s]\n",
      "100%|██████████| 40/40 [00:02<00:00, 15.92it/s]\n"
     ]
    },
    {
     "name": "stdout",
     "output_type": "stream",
     "text": [
      "Epoch: 91/100, Train Loss: 2.7198, Train Accuracy: 0.8806, Val Loss: 0.4950, Val Accuracy: 0.8584\n"
     ]
    },
    {
     "name": "stderr",
     "output_type": "stream",
     "text": [
      "100%|██████████| 352/352 [00:27<00:00, 12.71it/s]\n",
      "100%|██████████| 40/40 [00:02<00:00, 15.91it/s]\n"
     ]
    },
    {
     "name": "stdout",
     "output_type": "stream",
     "text": [
      "Epoch: 92/100, Train Loss: 2.6969, Train Accuracy: 0.8824, Val Loss: 0.4545, Val Accuracy: 0.8618\n"
     ]
    },
    {
     "name": "stderr",
     "output_type": "stream",
     "text": [
      "100%|██████████| 352/352 [00:27<00:00, 12.70it/s]\n",
      "100%|██████████| 40/40 [00:02<00:00, 15.90it/s]\n"
     ]
    },
    {
     "name": "stdout",
     "output_type": "stream",
     "text": [
      "Epoch: 93/100, Train Loss: 2.7066, Train Accuracy: 0.8810, Val Loss: 0.4862, Val Accuracy: 0.8564\n"
     ]
    },
    {
     "name": "stderr",
     "output_type": "stream",
     "text": [
      "100%|██████████| 352/352 [00:27<00:00, 12.71it/s]\n",
      "100%|██████████| 40/40 [00:02<00:00, 16.00it/s]\n"
     ]
    },
    {
     "name": "stdout",
     "output_type": "stream",
     "text": [
      "Epoch: 94/100, Train Loss: 2.7147, Train Accuracy: 0.8813, Val Loss: 0.4611, Val Accuracy: 0.8610\n"
     ]
    },
    {
     "name": "stderr",
     "output_type": "stream",
     "text": [
      "100%|██████████| 352/352 [00:27<00:00, 12.73it/s]\n",
      "100%|██████████| 40/40 [00:02<00:00, 15.93it/s]\n"
     ]
    },
    {
     "name": "stdout",
     "output_type": "stream",
     "text": [
      "Epoch: 95/100, Train Loss: 2.7076, Train Accuracy: 0.8817, Val Loss: 0.4352, Val Accuracy: 0.8658\n"
     ]
    },
    {
     "name": "stderr",
     "output_type": "stream",
     "text": [
      "100%|██████████| 352/352 [00:27<00:00, 12.73it/s]\n",
      "100%|██████████| 40/40 [00:02<00:00, 16.01it/s]\n"
     ]
    },
    {
     "name": "stdout",
     "output_type": "stream",
     "text": [
      "Epoch: 96/100, Train Loss: 2.5195, Train Accuracy: 0.8891, Val Loss: 0.4193, Val Accuracy: 0.8700\n"
     ]
    },
    {
     "name": "stderr",
     "output_type": "stream",
     "text": [
      "100%|██████████| 352/352 [00:27<00:00, 12.74it/s]\n",
      "100%|██████████| 40/40 [00:02<00:00, 15.94it/s]\n"
     ]
    },
    {
     "name": "stdout",
     "output_type": "stream",
     "text": [
      "Epoch: 97/100, Train Loss: 2.4752, Train Accuracy: 0.8918, Val Loss: 0.4169, Val Accuracy: 0.8694\n"
     ]
    },
    {
     "name": "stderr",
     "output_type": "stream",
     "text": [
      "100%|██████████| 352/352 [00:27<00:00, 12.73it/s]\n",
      "100%|██████████| 40/40 [00:02<00:00, 16.00it/s]\n"
     ]
    },
    {
     "name": "stdout",
     "output_type": "stream",
     "text": [
      "Epoch: 98/100, Train Loss: 2.4748, Train Accuracy: 0.8902, Val Loss: 0.4072, Val Accuracy: 0.8746\n"
     ]
    },
    {
     "name": "stderr",
     "output_type": "stream",
     "text": [
      "100%|██████████| 352/352 [00:27<00:00, 12.72it/s]\n",
      "100%|██████████| 40/40 [00:02<00:00, 15.92it/s]\n"
     ]
    },
    {
     "name": "stdout",
     "output_type": "stream",
     "text": [
      "Epoch: 99/100, Train Loss: 2.4551, Train Accuracy: 0.8926, Val Loss: 0.4141, Val Accuracy: 0.8734\n"
     ]
    },
    {
     "name": "stderr",
     "output_type": "stream",
     "text": [
      "100%|██████████| 352/352 [00:27<00:00, 12.74it/s]\n",
      "100%|██████████| 40/40 [00:02<00:00, 15.86it/s]"
     ]
    },
    {
     "name": "stdout",
     "output_type": "stream",
     "text": [
      "Epoch: 100/100, Train Loss: 2.4500, Train Accuracy: 0.8924, Val Loss: 0.4035, Val Accuracy: 0.8766\n"
     ]
    },
    {
     "name": "stderr",
     "output_type": "stream",
     "text": [
      "\n"
     ]
    }
   ],
   "source": [
    "train_losses, val_losses, train_accuracies, val_accuracies = trainer.train()"
   ]
  },
  {
   "cell_type": "code",
   "execution_count": 6,
   "metadata": {},
   "outputs": [],
   "source": [
    "import pickle as pkl\n",
    "with open('DKD_stat/ResNet8_Resnet18_DKD.pkl', 'wb') as f:\n",
    "    pkl.dump([train_losses, val_losses, train_accuracies, val_accuracies], f)"
   ]
  },
  {
   "cell_type": "code",
   "execution_count": 7,
   "metadata": {},
   "outputs": [
    {
     "name": "stderr",
     "output_type": "stream",
     "text": [
      "100%|██████████| 79/79 [00:04<00:00, 16.45it/s]"
     ]
    },
    {
     "name": "stdout",
     "output_type": "stream",
     "text": [
      "Test Loss: 0.4726, Test Accuracy: 0.8721\n"
     ]
    },
    {
     "name": "stderr",
     "output_type": "stream",
     "text": [
      "\n"
     ]
    }
   ],
   "source": [
    "trainer.predict(path = \"Checkpoints/ResNet8_DKD_ResNet18_0.8766.pth\")"
   ]
  },
  {
   "cell_type": "code",
   "execution_count": null,
   "metadata": {},
   "outputs": [],
   "source": []
  }
 ],
 "metadata": {
  "kernelspec": {
   "display_name": "distil",
   "language": "python",
   "name": "python3"
  },
  "language_info": {
   "codemirror_mode": {
    "name": "ipython",
    "version": 3
   },
   "file_extension": ".py",
   "mimetype": "text/x-python",
   "name": "python",
   "nbconvert_exporter": "python",
   "pygments_lexer": "ipython3",
   "version": "3.13.2"
  }
 },
 "nbformat": 4,
 "nbformat_minor": 2
}
